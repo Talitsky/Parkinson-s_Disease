{
  "nbformat": 4,
  "nbformat_minor": 0,
  "metadata": {
    "colab": {
      "name": "parkinson_binary_feat_and_time_series.ipynb",
      "version": "0.3.2",
      "provenance": [],
      "collapsed_sections": []
    },
    "kernelspec": {
      "name": "python3",
      "display_name": "Python 3"
    },
    "accelerator": "GPU"
  },
  "cells": [
    {
      "cell_type": "code",
      "metadata": {
        "id": "BooNLcN8yt8E",
        "colab_type": "code",
        "colab": {}
      },
      "source": [
        "import numpy as np\n",
        "import pandas as pd\n",
        "import matplotlib.pyplot as plt\n"
      ],
      "execution_count": 0,
      "outputs": []
    },
    {
      "cell_type": "code",
      "metadata": {
        "id": "1fYPGm02y1ms",
        "colab_type": "code",
        "outputId": "dbc3fae6-ade9-4e8d-f9d4-e333dd5bf321",
        "colab": {
          "base_uri": "https://localhost:8080/",
          "height": 85
        }
      },
      "source": [
        "# from google.colab import drive\n",
        "# drive.mount('/content/gdrive')\n",
        "# %matplotlib inline\n",
        "# %cd /content/gdrive/My Drive/Colab Notebooks\n",
        "# # %mkdir IOT_project\n",
        "# %cd IOT_project\n",
        "# # %mkdir dataset\n",
        "# %ls"
      ],
      "execution_count": 0,
      "outputs": [
        {
          "output_type": "stream",
          "text": [
            "Drive already mounted at /content/gdrive; to attempt to forcibly remount, call drive.mount(\"/content/gdrive\", force_remount=True).\n",
            "/content/gdrive/My Drive/Colab Notebooks\n",
            "/content/gdrive/My Drive/Colab Notebooks/IOT_project\n",
            "data.pkl  features.pkl\n"
          ],
          "name": "stdout"
        }
      ]
    },
    {
      "cell_type": "code",
      "metadata": {
        "id": "lNKgLVw1zP6M",
        "colab_type": "code",
        "colab": {}
      },
      "source": [
        "import torchvision.models as models\n",
        "from torch.utils.data import DataLoader, Dataset\n",
        "import torch\n",
        "import random\n",
        "from torchvision import transforms, utils\n",
        "import torch.optim as optim\n",
        "import torch.nn.functional as F\n",
        "from torch import nn\n",
        "import os\n",
        "from tqdm import trange\n",
        "from torch.autograd import Variable\n",
        "from IPython import display\n"
      ],
      "execution_count": 0,
      "outputs": []
    },
    {
      "cell_type": "code",
      "metadata": {
        "id": "oaJg1nRxzXZh",
        "colab_type": "code",
        "colab": {}
      },
      "source": [
        "\n",
        "class datka():\n",
        "    '''\n",
        "    Raw data'''\n",
        "    def __init__(self, file, features):\n",
        "        self.file = file\n",
        "        self.features = features\n",
        "        \n",
        "        self.columns = [\"acc_x, mg\",\n",
        "                        'acc_y, mg',\n",
        "                        'acc_z, mg', \n",
        "                        'gyr_x, dps',\n",
        "                        'gyr_y, dps',\n",
        "                        'gyr_z, dps',\n",
        "                        'mag_x, mga',\n",
        "                        'mag_y, mga',\n",
        "                        'mag_z, mga',\n",
        "                        'time']\n",
        "        \n",
        "    def __getitem__(self, idx):\n",
        "        tensor = np.zeros((1, 10, 2000))\n",
        "        for k in range(10):\n",
        "            tensor[0, k] = np.array(self.file[idx][k]).reshape(1, -1)\n",
        "            \n",
        "        features = np.array(list(map(float, self.features[idx][:-1])))\n",
        "            \n",
        "        if self.file[idx][-1] in  ['0', 0] :\n",
        "            target = 0\n",
        "        elif self.file[idx][-1] == 'П(1)':\n",
        "            target = 1\n",
        "        elif self.file[idx][-1] == 'П(2)':\n",
        "            target = 1\n",
        "        elif self.file[idx][-1] == 'П(3)':\n",
        "            target = 1\n",
        "        else :\n",
        "            target = 1\n",
        "        \n",
        "        sample = {'sensors' : torch.tensor(tensor, dtype= torch.float),\n",
        "                  'features' : torch.tensor(features, dtype = torch.float),\n",
        "                  'y' :torch.tensor(target)}\n",
        "        return sample\n",
        "    \n",
        "    \n",
        "    def __len__(self):\n",
        "        return len(self.file)"
      ],
      "execution_count": 0,
      "outputs": []
    },
    {
      "cell_type": "code",
      "metadata": {
        "id": "FxzzBGUeJK7R",
        "colab_type": "code",
        "colab": {}
      },
      "source": [
        "\n",
        "class feature_datka():\n",
        "    '''\n",
        "    feature data \n",
        "    '''\n",
        "    def __init__(self, doc):\n",
        "        self.file = doc\n",
        "        \n",
        "    def __getitem__(self, idx):\n",
        "      \n",
        "        tensor = np.array(list(map(float, self.file[idx][:-1])))\n",
        "#         print(torch.tensor(tensor))\n",
        "        if self.file[idx][-1] == 0 :\n",
        "            target = 0\n",
        "        else:\n",
        "            target = 1\n",
        "        \n",
        "        sample = {'X' : torch.tensor(tensor.reshape(1,-1), dtype= torch.float),\n",
        "                  'y' :torch.tensor(target)}\n",
        "        return sample\n",
        "    \n",
        "    \n",
        "    def __len__(self):\n",
        "        return len(self.file)"
      ],
      "execution_count": 0,
      "outputs": []
    },
    {
      "cell_type": "code",
      "metadata": {
        "id": "oVFBF2Sp4_yu",
        "colab_type": "code",
        "outputId": "12f5981c-df05-40dd-bfd3-7948b782fd67",
        "colab": {
          "base_uri": "https://localhost:8080/",
          "height": 34
        }
      },
      "source": [
        "file = pd.read_pickle('data.pkl')[[\"acc_x, mg\",\n",
        "                        'acc_y, mg',\n",
        "                        'acc_z, mg', \n",
        "                        'gyr_x, dps',\n",
        "                        'gyr_y, dps',\n",
        "                        'gyr_z, dps',\n",
        "                        'mag_x, mga',\n",
        "                        'mag_y, mga',\n",
        "                        'mag_z, mga',\n",
        "                        'time', 'target']]\n",
        "features = pd.read_pickle('features.pkl')\n",
        "len(file)"
      ],
      "execution_count": 0,
      "outputs": [
        {
          "output_type": "execute_result",
          "data": {
            "text/plain": [
              "1868"
            ]
          },
          "metadata": {
            "tags": []
          },
          "execution_count": 6
        }
      ]
    },
    {
      "cell_type": "code",
      "metadata": {
        "id": "C36e-zzx7Y1G",
        "colab_type": "code",
        "outputId": "263c53cd-c7e6-4a0a-af0c-cf8175126943",
        "colab": {
          "base_uri": "https://localhost:8080/",
          "height": 34
        }
      },
      "source": [
        "df = file[file['target'] == 0]\n",
        "noise = (np.random.rand(*df.shape) - 0.5)/10\n",
        "noise[:, 10] = 0\n",
        "noise[:, 9] = noise[:, 9]/100\n",
        "df = df + noise\n",
        "file = file.append(df, ignore_index= True)\n",
        "len(file)\n"
      ],
      "execution_count": 0,
      "outputs": [
        {
          "output_type": "execute_result",
          "data": {
            "text/plain": [
              "2447"
            ]
          },
          "metadata": {
            "tags": []
          },
          "execution_count": 7
        }
      ]
    },
    {
      "cell_type": "code",
      "metadata": {
        "id": "vZ8XO-IeWZHB",
        "colab_type": "code",
        "outputId": "972ed4f7-2b61-49d6-c4b7-0e37807bcf56",
        "colab": {
          "base_uri": "https://localhost:8080/",
          "height": 34
        }
      },
      "source": [
        "df = features[features['target'] == 0]\n",
        "noise = (np.random.rand(*df.shape) - 0.5)\n",
        "noise[:, -1] = 0\n",
        "df = df + noise\n",
        "features = features.append(df, ignore_index= True)\n",
        "len(features)"
      ],
      "execution_count": 0,
      "outputs": [
        {
          "output_type": "execute_result",
          "data": {
            "text/plain": [
              "2447"
            ]
          },
          "metadata": {
            "tags": []
          },
          "execution_count": 8
        }
      ]
    },
    {
      "cell_type": "code",
      "metadata": {
        "id": "tYcJ6PTR7cjp",
        "colab_type": "code",
        "outputId": "2b2d6fd0-d45b-4f22-dfc0-8e6351d17fc2",
        "colab": {
          "base_uri": "https://localhost:8080/",
          "height": 34
        }
      },
      "source": [
        "(file['target'] != 0).sum()"
      ],
      "execution_count": 0,
      "outputs": [
        {
          "output_type": "execute_result",
          "data": {
            "text/plain": [
              "1289"
            ]
          },
          "metadata": {
            "tags": []
          },
          "execution_count": 9
        }
      ]
    },
    {
      "cell_type": "code",
      "metadata": {
        "id": "7lIkPE_4WRqZ",
        "colab_type": "code",
        "outputId": "99b30d58-0ebd-47c2-9354-6f243828e87d",
        "colab": {
          "base_uri": "https://localhost:8080/",
          "height": 34
        }
      },
      "source": [
        "file.values.shape, features.values.shape"
      ],
      "execution_count": 0,
      "outputs": [
        {
          "output_type": "execute_result",
          "data": {
            "text/plain": [
              "((2447, 11), (2447, 172))"
            ]
          },
          "metadata": {
            "tags": []
          },
          "execution_count": 10
        }
      ]
    },
    {
      "cell_type": "code",
      "metadata": {
        "id": "AJ-lU_ld6R0F",
        "colab_type": "code",
        "colab": {}
      },
      "source": [
        "from sklearn.model_selection import train_test_split\n",
        "train,  test, feature_train, feature_test = train_test_split(file.values, features.values, shuffle = True, test_size = 0.33)"
      ],
      "execution_count": 0,
      "outputs": []
    },
    {
      "cell_type": "code",
      "metadata": {
        "id": "1KWSHCgMBhBY",
        "colab_type": "code",
        "outputId": "058ad5b3-2f7f-470e-f0c2-b70cc772f623",
        "colab": {
          "base_uri": "https://localhost:8080/",
          "height": 34
        }
      },
      "source": [
        "(train[:,-1] == feature_train[:, -1]).all(), (test[:,-1] == feature_test[:, -1]).all()"
      ],
      "execution_count": 0,
      "outputs": [
        {
          "output_type": "execute_result",
          "data": {
            "text/plain": [
              "(True, True)"
            ]
          },
          "metadata": {
            "tags": []
          },
          "execution_count": 12
        }
      ]
    },
    {
      "cell_type": "code",
      "metadata": {
        "id": "KW4ESf21KWNy",
        "colab_type": "code",
        "outputId": "27692405-8a94-43f0-cf49-4015bc06fce1",
        "colab": {
          "base_uri": "https://localhost:8080/",
          "height": 748
        }
      },
      "source": [
        "np.array(list(map(float, features.values[1000][:-1])))"
      ],
      "execution_count": 0,
      "outputs": [
        {
          "output_type": "execute_result",
          "data": {
            "text/plain": [
              "array([ 2.13212946e+02, -2.97814000e+02,  1.85934877e+00,  1.38842772e+00,\n",
              "        1.43075476e+02,  3.55499532e-01,  4.04092062e-03,  4.93731427e+00,\n",
              "        1.07260000e+00,  5.04629352e+01,  1.42378535e+01,  2.36963903e+02,\n",
              "        6.21374613e+02,  0.00000000e+00,  0.00000000e+00,  0.00000000e+00,\n",
              "        0.00000000e+00,  1.81540136e+03,  2.33938783e+04,  3.06133418e+02,\n",
              "       -6.70852500e+02,  1.79040393e+00,  1.38051889e+00,  1.33013556e+02,\n",
              "        2.94966053e-01, -4.98516522e-03,  4.86062865e+00,  8.63284771e-01,\n",
              "        4.33535039e+01,  1.02774014e+01,  1.72712491e+02,  4.48183459e+02,\n",
              "        0.00000000e+00,  0.00000000e+00,  0.00000000e+00,  0.00000000e+00,\n",
              "        1.86935578e+03,  1.95167003e+04,  1.80800248e+02,  5.78807000e+02,\n",
              "        1.67741144e+00,  1.36023703e+00,  1.34496533e+02,  2.94603603e-01,\n",
              "       -2.01933461e-03,  4.80011286e+00,  1.24859323e+00,  4.18761919e+01,\n",
              "        7.25519349e+00,  1.70022687e+02,  4.61400591e+02,  0.00000000e+00,\n",
              "        0.00000000e+00,  0.00000000e+00,  0.00000000e+00,  1.86077118e+03,\n",
              "        2.46160853e+04,  4.64442230e+01, -1.71130000e+00,  2.96513338e+01,\n",
              "        3.25976291e+00,  1.05675211e+02,  4.99418204e-01, -2.91899387e-03,\n",
              "        4.64016496e+00,  1.02801991e+00,  6.88718452e+01,  1.44055070e+01,\n",
              "        4.93288664e+02,  1.48865699e+03,  0.00000000e+00,  0.00000000e+00,\n",
              "        0.00000000e+00,  0.00000000e+00,  1.72585592e+03,  1.03185933e+04,\n",
              "        2.75917150e+01, -2.77220000e+00,  1.00427796e+01,  2.55401957e+00,\n",
              "        1.31274018e+02,  6.51109080e-01,  1.03439621e-02,  4.46007779e+00,\n",
              "        9.02744634e-01,  9.72880558e+01,  2.48316100e+01,  7.83280641e+02,\n",
              "        2.32461852e+03,  3.08283881e+00,  3.85354851e-02,  8.98995043e+01,\n",
              "        1.13940250e+00,  1.35006066e+03,  6.18311621e+03,  3.22126756e+01,\n",
              "       -4.24895000e+00,  8.28709631e+00,  1.04864588e+00,  1.02253894e+02,\n",
              "        4.53071635e-01,  3.71987893e-03,  4.57445618e+00,  8.85151186e-01,\n",
              "        7.58188039e+01,  2.61534906e+01,  4.03750076e+02,  1.38790276e+03,\n",
              "        0.00000000e+00,  0.00000000e+00,  0.00000000e+00,  0.00000000e+00,\n",
              "        1.77072417e+03,  1.46036198e+04,  1.04861392e+02,  2.82620000e+02,\n",
              "        3.37447476e+00,  1.72948255e+00,  4.50616008e+01,  1.68646887e-01,\n",
              "        4.59433061e-03,  0.00000000e+00,  0.00000000e+00,  0.00000000e+00,\n",
              "        0.00000000e+00,  5.56042203e+01,  2.44720540e+02,  0.00000000e+00,\n",
              "        0.00000000e+00,  0.00000000e+00,  0.00000000e+00,  1.96333303e+03,\n",
              "        2.07226473e+04,  1.03471332e+02, -7.81252000e+02,  4.24979590e+00,\n",
              "        1.18430386e-01,  5.11875194e+01,  1.37786518e-01, -3.74435542e-03,\n",
              "        3.81491572e+00,  5.46241011e-01,  1.39209377e+01,  2.01601636e+00,\n",
              "        2.98225519e+01,  1.13171495e+02,  0.00000000e+00,  0.00000000e+00,\n",
              "        0.00000000e+00,  0.00000000e+00,  1.94877125e+03,  2.48096819e+04,\n",
              "        7.91985866e+01,  1.90980500e+02,  2.10742642e+00,  1.49747603e+00,\n",
              "        5.61445616e+01,  1.58574163e-01,  5.35681649e-03,  0.00000000e+00,\n",
              "        0.00000000e+00,  0.00000000e+00,  0.00000000e+00,  4.78506831e+01,\n",
              "        2.43288472e+02,  0.00000000e+00,  0.00000000e+00,  0.00000000e+00,\n",
              "        0.00000000e+00,  1.96014368e+03,  2.72071630e+04])"
            ]
          },
          "metadata": {
            "tags": []
          },
          "execution_count": 13
        }
      ]
    },
    {
      "cell_type": "code",
      "metadata": {
        "id": "ogM7Q1Q36Xoj",
        "colab_type": "code",
        "colab": {}
      },
      "source": [
        "train_datka = datka(train, feature_train)\n",
        "test_datka = datka(test, feature_test)\n",
        "train_loader = DataLoader(train_datka, shuffle= True, batch_size=8)\n",
        "val_loader   = DataLoader(test_datka, shuffle= True, batch_size=8)"
      ],
      "execution_count": 0,
      "outputs": []
    },
    {
      "cell_type": "code",
      "metadata": {
        "id": "LYt0M4ueBmro",
        "colab_type": "code",
        "outputId": "8e8c8044-e02f-4f2d-9ee5-b82460fdb195",
        "colab": {
          "base_uri": "https://localhost:8080/",
          "height": 34
        }
      },
      "source": [
        "test_datka.__getitem__(21)['features'].size()"
      ],
      "execution_count": 0,
      "outputs": [
        {
          "output_type": "execute_result",
          "data": {
            "text/plain": [
              "torch.Size([171])"
            ]
          },
          "metadata": {
            "tags": []
          },
          "execution_count": 15
        }
      ]
    },
    {
      "cell_type": "code",
      "metadata": {
        "id": "Z23om5C38Loy",
        "colab_type": "code",
        "colab": {}
      },
      "source": [
        "train_loader = DataLoader(train_datka, shuffle= True, batch_size=8)\n",
        "val_loader   = DataLoader(test_datka, shuffle= True, batch_size=8)"
      ],
      "execution_count": 0,
      "outputs": []
    },
    {
      "cell_type": "code",
      "metadata": {
        "id": "A3JKG_w6A9yS",
        "colab_type": "code",
        "colab": {}
      },
      "source": [
        "for dct in train_loader:\n",
        "    X = Variable(dct['sensors'])\n",
        "    feat = Variable(dct['features'])\n",
        "    y = Variable(dct['y'])"
      ],
      "execution_count": 0,
      "outputs": []
    },
    {
      "cell_type": "code",
      "metadata": {
        "id": "b6bnSL3OEpbr",
        "colab_type": "code",
        "outputId": "cedfd086-d816-49c2-c6db-5453dbe7dfbe",
        "colab": {
          "base_uri": "https://localhost:8080/",
          "height": 34
        }
      },
      "source": [
        "X.size(), feat.size(), y.size()"
      ],
      "execution_count": 0,
      "outputs": [
        {
          "output_type": "execute_result",
          "data": {
            "text/plain": [
              "(torch.Size([7, 1, 10, 2000]), torch.Size([7, 171]), torch.Size([7]))"
            ]
          },
          "metadata": {
            "tags": []
          },
          "execution_count": 18
        }
      ]
    },
    {
      "cell_type": "code",
      "metadata": {
        "id": "dw-UmkI0Q4Ar",
        "colab_type": "code",
        "outputId": "b056bc0a-6daf-458b-b9cb-545cd8fa4589",
        "colab": {
          "base_uri": "https://localhost:8080/",
          "height": 34
        }
      },
      "source": [
        "device = torch.device(\"cuda:0\" if torch.cuda.is_available() else \"cpu\")\n",
        "print(device)"
      ],
      "execution_count": 0,
      "outputs": [
        {
          "output_type": "stream",
          "text": [
            "cuda:0\n"
          ],
          "name": "stdout"
        }
      ]
    },
    {
      "cell_type": "code",
      "metadata": {
        "id": "6okcpbFG8gNh",
        "colab_type": "code",
        "colab": {}
      },
      "source": [
        "class PD_net(nn.Module):\n",
        "    def __init__(self, n_classes = 1, win_size = 2000, batch_size = 4):\n",
        "        super(PD_net, self).__init__()\n",
        "        \n",
        "        self.layer1 = nn.Sequential(\n",
        "            \n",
        "            nn.Conv2d(kernel_size = (3, 100), in_channels = 1, out_channels = 16, padding = 1),\n",
        "            nn.BatchNorm2d(16),\n",
        "            nn.ReLU(inplace = True),\n",
        "            \n",
        "            nn.Conv2d(kernel_size = (3, 100), in_channels = 16, out_channels = 16, padding = 1),\n",
        "            nn.BatchNorm2d(16),\n",
        "            nn.ReLU(inplace = True),\n",
        "            nn.MaxPool2d(2)\n",
        "        )\n",
        "            \n",
        "        self.layer2 = nn.Sequential(\n",
        "            \n",
        "            nn.Conv2d(kernel_size = (3, 100), in_channels = 16, out_channels = 32, padding = 1),\n",
        "            nn.BatchNorm2d(32),\n",
        "            nn.ReLU(inplace = True),\n",
        "            \n",
        "            nn.Conv2d(kernel_size = (3, 100), in_channels = 32, out_channels = 32, padding = 1),\n",
        "            nn.BatchNorm2d(32),\n",
        "            nn.ReLU(inplace = True),       \n",
        "            nn.MaxPool2d(2)\n",
        "        )\n",
        "            \n",
        "        self.layer3= nn.Sequential(\n",
        "            nn.Conv2d(kernel_size = (3, 100), in_channels = 32, out_channels = 64, padding = 1),\n",
        "            nn.BatchNorm2d(64),\n",
        "            nn.ReLU(inplace = True),\n",
        "            \n",
        "            nn.Conv2d(kernel_size = (3, 100), in_channels = 64, out_channels = 64, padding = 1),\n",
        "            nn.BatchNorm2d(64),\n",
        "            nn.ReLU(inplace = True),            \n",
        "            nn.MaxPool2d(2)\n",
        "        )\n",
        "        \n",
        "        self.layer4= nn.Sequential(\n",
        "            nn.Linear(171, 512),\n",
        "            nn.LayerNorm(512),\n",
        "            nn.ReLU(inplace = True),\n",
        "            \n",
        "            nn.Linear(512, 2048),\n",
        "            nn.LayerNorm(512*4),\n",
        "            nn.ReLU(inplace = True),            \n",
        "        )\n",
        "            \n",
        "        self.linear1 = nn.Linear(5120, 2048)\n",
        "        self.linear2 = nn.Linear(2048, 512)\n",
        "        self.linear3 = nn.Linear(512, n_classes)\n",
        "        self.batch_size = 4\n",
        "        self.dropout1 = nn.Dropout(0.2)\n",
        "        self.dropout2 = nn.Dropout(0.2)\n",
        "        if n_classes == 1:\n",
        "            self.activation = F.sigmoid\n",
        "        else:\n",
        "            self.activation = F.softmax\n",
        "\n",
        "    def forward(self, x, f):\n",
        "        x = self.layer1(x)\n",
        "        x = self.layer2(x)\n",
        "        x = self.layer3(x)\n",
        "        f = self.layer4(f)\n",
        "        batch_size = x.size(0)\n",
        "        x = x.view(batch_size, -1)\n",
        "        x = self.dropout1(F.relu(self.linear1(x))) + f\n",
        "        x = self.dropout2(F.relu(self.linear2(x)))\n",
        "        x = self.linear3(x)\n",
        "        return self.activation(x)"
      ],
      "execution_count": 0,
      "outputs": []
    },
    {
      "cell_type": "code",
      "metadata": {
        "id": "c_wgTMAf-1CT",
        "colab_type": "code",
        "colab": {}
      },
      "source": [
        "model = PD_net().to(device)"
      ],
      "execution_count": 0,
      "outputs": []
    },
    {
      "cell_type": "code",
      "metadata": {
        "id": "m-rMwvFa_NOM",
        "colab_type": "code",
        "outputId": "b90988ec-1775-42c8-ec7e-1a97998bd73c",
        "colab": {
          "base_uri": "https://localhost:8080/",
          "height": 187
        }
      },
      "source": [
        "model.forward(X.to(device), feat.to(device)), y"
      ],
      "execution_count": 0,
      "outputs": [
        {
          "output_type": "stream",
          "text": [
            "/usr/local/lib/python3.6/dist-packages/torch/nn/functional.py:1386: UserWarning: nn.functional.sigmoid is deprecated. Use torch.sigmoid instead.\n",
            "  warnings.warn(\"nn.functional.sigmoid is deprecated. Use torch.sigmoid instead.\")\n"
          ],
          "name": "stderr"
        },
        {
          "output_type": "execute_result",
          "data": {
            "text/plain": [
              "(tensor([[0.4449],\n",
              "         [0.4818],\n",
              "         [0.4857],\n",
              "         [0.5456],\n",
              "         [0.4712],\n",
              "         [0.4431],\n",
              "         [0.5208]], device='cuda:0', grad_fn=<SigmoidBackward>),\n",
              " tensor([0, 0, 1, 1, 0, 0, 1]))"
            ]
          },
          "metadata": {
            "tags": []
          },
          "execution_count": 24
        }
      ]
    },
    {
      "cell_type": "code",
      "metadata": {
        "id": "05jEx8Pz-cco",
        "colab_type": "code",
        "colab": {}
      },
      "source": [
        "train_size = len(train_loader)\n",
        "val_size = len(val_loader)\n",
        "batch_size = 4\n",
        "  \n",
        "# Train function is from ML course, HW task skoltech.\n",
        "def train(model, optimizer, epochs_n=100, criterion = torch.nn.BCELoss() , device = 'cpu', weight = torch.tensor([2447/1158.0, 2447/412.0, 2447/583.0, 2447/60.0, 2447/234.0]).cuda()):\n",
        "    model.to(device)  ## <---\n",
        "    # Use pos_weight = 20, because we have unbalanced classification\n",
        "    criterion = criterion\n",
        "    #CrossEntropyLoss()\n",
        "#         weight = torch.tensor([1000/579.0, 1000/412.0, 1000/583.0, 1000/60.0, 1000/234.0]).cuda())\n",
        "    \n",
        "    #weight= torch.tensor([3.22, 1]).float().cuda())\n",
        "    learning_curve = [np.nan] * epochs_n\n",
        "    train_accuracy_curve = [np.nan] * epochs_n\n",
        "    val_accuracy_curve = [np.nan] * epochs_n\n",
        "    max_val_accuracy = 0\n",
        "    max_val_accuracy_epoch = 0\n",
        "\n",
        "    batches_n = (train_size - 1) // batch_size + 1\n",
        "    \n",
        "    for epoch in trange(epochs_n):\n",
        "        \n",
        "        \n",
        "        model.train()  ## <---\n",
        "\n",
        "        learning_curve[epoch] = 0\n",
        "        for dct in train_loader:\n",
        "                x = Variable(dct['sensors'])\n",
        "                f = Variable(dct['features'])\n",
        "                y = Variable(dct['y'])\n",
        "\n",
        "                x = x.to(device)\n",
        "                f = f.to(device)\n",
        "                y = y.to(device)\n",
        "                \n",
        "                prediction = model(x, f)\n",
        "                loss = criterion(prediction, y.float())\n",
        "\n",
        "                learning_curve[epoch] += loss.item()\n",
        "                loss.backward()\n",
        "                optimizer.step()\n",
        "                optimizer.zero_grad()\n",
        "\n",
        "                \n",
        "        model.eval()\n",
        "        train_accuracy_curve[epoch] = get_accuracy(model, train_loader, device = device)\n",
        "        val_accuracy_curve[epoch] = get_accuracy(model, val_loader,  device = device)\n",
        "        \n",
        "        display.clear_output(wait=True)\n",
        "        f, axes = plt.subplots(1, 2, figsize=(12, 5))\n",
        "\n",
        "        learning_curve[epoch] /= 4*batches_n\n",
        "        axes[0].semilogy(learning_curve, c = 'b')\n",
        "\n",
        "        model.eval()  ## <---\n",
        "        \n",
        "        val_accuracy = val_accuracy_curve[epoch]\n",
        "        if val_accuracy > max_val_accuracy:\n",
        "            max_val_accuracy = val_accuracy\n",
        "            max_val_accuracy_epoch = epoch\n",
        "        \n",
        "        \n",
        "        axes[1].set_title('Train {:.4f}, val {:.4f}, max val {:.4f} at {}'.format(\n",
        "            train_accuracy_curve[epoch], val_accuracy, max_val_accuracy, max_val_accuracy_epoch))\n",
        "        axes[1].plot(train_accuracy_curve, c = 'b' ,label = 'train')\n",
        "        axes[1].semilogy(val_accuracy_curve, c = 'r', label = 'val')\n",
        "        axes[0].set_title(\"Loss function\")\n",
        "        axes[1].legend()\n",
        "        print(learning_curve[epoch])\n",
        "        plt.tight_layout()\n",
        "        plt.show()\n",
        "            \n",
        "            \n",
        "\n",
        "def set_random_seeds(seed_value=666, device='cpu'):\n",
        "    '''source https://forums.fast.ai/t/solved-reproducibility-where-is-the-randomness-coming-in/31628/5'''\n",
        "    np.random.seed(seed_value)\n",
        "    torch.manual_seed(seed_value)\n",
        "    random.seed(seed_value)\n",
        "    if device != 'cpu': \n",
        "        torch.cuda.manual_seed(seed_value)\n",
        "        torch.cuda.manual_seed_all(seed_value)\n",
        "        torch.backends.cudnn.deterministic = True\n",
        "        torch.backends.cudnn.benchmark = False\n",
        "  \n",
        "  \n",
        "def get_accuracy(model, dataloader, device='cpu'):\n",
        "    correct = 0\n",
        "    with torch.no_grad():\n",
        "        for dct in dataloader:\n",
        "            x = Variable(dct['sensors'])\n",
        "            f = Variable(dct['features'])\n",
        "            y = Variable(dct['y'])\n",
        "\n",
        "            x = x.to(device)\n",
        "            f = f.to(device)\n",
        "            y = y.to(device) > 0.5 ## <---\n",
        "#             prediction = F.sigmoid(model(x))\n",
        "            prediction = model(x,f) > 0.5 #.argmax(dim = -1)\n",
        "            correct += prediction.eq(y.view_as(prediction)).sum().item()\n",
        "#             y = y > 1/2\n",
        "#             prediction = prediction > 1/2\n",
        "#             correct += (prediction - y).pow(2).sum().item()\n",
        "    return correct / len(dataloader.dataset)"
      ],
      "execution_count": 0,
      "outputs": []
    },
    {
      "cell_type": "code",
      "metadata": {
        "id": "cgIKZWetGbuh",
        "colab_type": "code",
        "outputId": "a6fcfbc4-d281-4b31-81b5-38eba20beaf6",
        "colab": {
          "base_uri": "https://localhost:8080/",
          "height": 88
        }
      },
      "source": [
        "get_accuracy(model, val_loader, device = device)"
      ],
      "execution_count": 0,
      "outputs": [
        {
          "output_type": "stream",
          "text": [
            "/usr/local/lib/python3.6/dist-packages/torch/nn/functional.py:1386: UserWarning: nn.functional.sigmoid is deprecated. Use torch.sigmoid instead.\n",
            "  warnings.warn(\"nn.functional.sigmoid is deprecated. Use torch.sigmoid instead.\")\n"
          ],
          "name": "stderr"
        },
        {
          "output_type": "execute_result",
          "data": {
            "text/plain": [
              "0.5965346534653465"
            ]
          },
          "metadata": {
            "tags": []
          },
          "execution_count": 32
        }
      ]
    },
    {
      "cell_type": "code",
      "metadata": {
        "id": "QmPTZBCdICgv",
        "colab_type": "code",
        "outputId": "34564d4f-4bb9-4889-be59-736014f84448",
        "colab": {
          "base_uri": "https://localhost:8080/",
          "height": 34
        }
      },
      "source": [
        "((file['target'] == 0).sum(), (file['target'] == 'П(1)').sum(), \n",
        " (file['target'] == 'П(2)').sum(),(file['target'] == 'П(3)').sum(), (file['target'] == 'тремор').sum())"
      ],
      "execution_count": 0,
      "outputs": [
        {
          "output_type": "execute_result",
          "data": {
            "text/plain": [
              "(1158, 412, 583, 60, 234)"
            ]
          },
          "metadata": {
            "tags": []
          },
          "execution_count": 33
        }
      ]
    },
    {
      "cell_type": "code",
      "metadata": {
        "id": "Yo83OcLG-hEy",
        "colab_type": "code",
        "outputId": "251cff40-b9da-4ce5-df7c-07fcbdbc8671",
        "colab": {
          "base_uri": "https://localhost:8080/",
          "height": 423
        }
      },
      "source": [
        "set_random_seeds(device=device)\n",
        "train(model, torch.optim.Adam(model.parameters(), lr=0.001), epochs_n= 100, device= device)"
      ],
      "execution_count": 0,
      "outputs": [
        {
          "output_type": "stream",
          "text": [
            "0.055361039067732085\n"
          ],
          "name": "stdout"
        },
        {
          "output_type": "display_data",
          "data": {
            "image/png": "[encoded data removed]",
            "text/plain": [
              "<Figure size 864x360 with 2 Axes>"
            ]
          },
          "metadata": {
            "tags": []
          }
        },
        {
          "output_type": "stream",
          "text": [
            "\r100%|██████████| 100/100 [1:47:37<00:00, 72.61s/it]\n"
          ],
          "name": "stderr"
        }
      ]
    },
    {
      "cell_type": "code",
      "metadata": {
        "id": "iNriqm3NBW8n",
        "colab_type": "code",
        "colab": {}
      },
      "source": [
        "torch.save(model.state_dict(), 'parkinson_binary_feat_and_time_series.pth')"
      ],
      "execution_count": 0,
      "outputs": []
    },
    {
      "cell_type": "code",
      "metadata": {
        "id": "gG-eJs7IB58w",
        "colab_type": "code",
        "outputId": "0e6fd8d4-6095-431d-e78f-7d1447b4f0e1",
        "colab": {
          "base_uri": "https://localhost:8080/",
          "height": 34
        }
      },
      "source": [
        "!ls"
      ],
      "execution_count": 0,
      "outputs": [
        {
          "output_type": "stream",
          "text": [
            "data.pkl  features.pkl\tparkinson_binary_feat_and_time_series.pth\n"
          ],
          "name": "stdout"
        }
      ]
    },
    {
      "cell_type": "code",
      "metadata": {
        "id": "NNqhuwIqGWP9",
        "colab_type": "code",
        "colab": {}
      },
      "source": [
        "for dct in train_loader:\n",
        "            x = dct['sensors']\n",
        "            f = dct['features']\n",
        "            y = dct['y']\n",
        "            x = x.to(device)  ## <---\n",
        "            f = f.to(device)\n",
        "            y = y.to(device)> 0.5\n",
        "            ## <---\n",
        "            prediction = model(x,f)> 0.5\n",
        "\n",
        "            print(len(prediction) - prediction.eq(y.view_as(prediction)).sum().item())"
      ],
      "execution_count": 0,
      "outputs": []
    }
  ]
}