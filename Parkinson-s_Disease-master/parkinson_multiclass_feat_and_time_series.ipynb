{
  "nbformat": 4,
  "nbformat_minor": 0,
  "metadata": {
    "colab": {
      "name": "parkinson_multiclass_feat_and_time_series.ipynb",
      "version": "0.3.2",
      "provenance": [],
      "collapsed_sections": []
    },
    "kernelspec": {
      "name": "python3",
      "display_name": "Python 3"
    },
    "accelerator": "GPU"
  },
  "cells": [
    {
      "cell_type": "code",
      "metadata": {
        "id": "BooNLcN8yt8E",
        "colab_type": "code",
        "colab": {}
      },
      "source": [
        "import numpy as np\n",
        "import pandas as pd\n",
        "import matplotlib.pyplot as plt\n"
      ],
      "execution_count": 0,
      "outputs": []
    },
    {
      "cell_type": "code",
      "metadata": {
        "id": "1fYPGm02y1ms",
        "colab_type": "code",
        "colab": {}
      },
      "source": [
        "# from google.colab import drive\n",
        "# drive.mount('/content/gdrive')\n",
        "# %matplotlib inline\n",
        "# %cd /content/gdrive/My Drive/Colab Notebooks\n",
        "# # %mkdir IOT_project\n",
        "# %cd IOT_project\n",
        "# # %mkdir dataset\n",
        "# %ls"
      ],
      "execution_count": 0,
      "outputs": []
    },
    {
      "cell_type": "code",
      "metadata": {
        "id": "lNKgLVw1zP6M",
        "colab_type": "code",
        "colab": {}
      },
      "source": [
        "import torchvision.models as models\n",
        "from torch.utils.data import DataLoader, Dataset\n",
        "import torch\n",
        "import random\n",
        "from torchvision import transforms, utils\n",
        "import torch.optim as optim\n",
        "import torch.nn.functional as F\n",
        "from torch import nn\n",
        "import os\n",
        "from tqdm import trange\n",
        "from torch.autograd import Variable\n",
        "from IPython import display\n"
      ],
      "execution_count": 0,
      "outputs": []
    },
    {
      "cell_type": "code",
      "metadata": {
        "id": "oaJg1nRxzXZh",
        "colab_type": "code",
        "colab": {}
      },
      "source": [
        "\n",
        "class datka():\n",
        "    '''\n",
        "    Raw data'''\n",
        "    def __init__(self, file, features):\n",
        "        self.file = file\n",
        "        self.features = features\n",
        "        \n",
        "        self.columns = [\"acc_x, mg\",\n",
        "                        'acc_y, mg',\n",
        "                        'acc_z, mg', \n",
        "                        'gyr_x, dps',\n",
        "                        'gyr_y, dps',\n",
        "                        'gyr_z, dps',\n",
        "                        'mag_x, mga',\n",
        "                        'mag_y, mga',\n",
        "                        'mag_z, mga',\n",
        "                        'time']\n",
        "        \n",
        "    def __getitem__(self, idx):\n",
        "        tensor = np.zeros((1, 10, 2000))\n",
        "        for k in range(10):\n",
        "            tensor[0, k] = np.array(self.file[idx][k]).reshape(1, -1)\n",
        "            \n",
        "        features = np.array(list(map(float, self.features[idx][:-1])))\n",
        "            \n",
        "        if self.file[idx][-1] in  ['0', 0] :\n",
        "            target = 0\n",
        "        elif self.file[idx][-1] == 'П(1)':\n",
        "            target = 1\n",
        "        elif self.file[idx][-1] == 'П(2)':\n",
        "            target = 2\n",
        "        elif self.file[idx][-1] == 'П(3)':\n",
        "            target = 3\n",
        "        else :\n",
        "            target = 4\n",
        "        \n",
        "        sample = {'sensors' : torch.tensor(tensor, dtype= torch.float),\n",
        "                  'features' : torch.tensor(features, dtype = torch.float),\n",
        "                  'y' :torch.tensor(target)}\n",
        "        return sample\n",
        "    \n",
        "    \n",
        "    def __len__(self):\n",
        "        return len(self.file)"
      ],
      "execution_count": 0,
      "outputs": []
    },
    {
      "cell_type": "code",
      "metadata": {
        "id": "FxzzBGUeJK7R",
        "colab_type": "code",
        "colab": {}
      },
      "source": [
        "\n",
        "class feature_datka():\n",
        "    '''\n",
        "    feature data \n",
        "    '''\n",
        "    def __init__(self, doc):\n",
        "        self.file = doc\n",
        "        \n",
        "    def __getitem__(self, idx):\n",
        "      \n",
        "        tensor = np.array(list(map(float, self.file[idx][:-1])))\n",
        "#         print(torch.tensor(tensor))\n",
        "        if self.file[idx][-1] == 0 :\n",
        "            target = 0\n",
        "        else:\n",
        "            target = 1\n",
        "        \n",
        "        sample = {'X' : torch.tensor(tensor.reshape(1,-1), dtype= torch.float),\n",
        "                  'y' :torch.tensor(target)}\n",
        "        return sample\n",
        "    \n",
        "    \n",
        "    def __len__(self):\n",
        "        return len(self.file)"
      ],
      "execution_count": 0,
      "outputs": []
    },
    {
      "cell_type": "code",
      "metadata": {
        "id": "oVFBF2Sp4_yu",
        "colab_type": "code",
        "outputId": "71c82c4d-2a9a-4308-9395-e57f8333fb29",
        "colab": {
          "base_uri": "https://localhost:8080/",
          "height": 34
        }
      },
      "source": [
        "file = pd.read_pickle('data.pkl')[[\"acc_x, mg\",\n",
        "                        'acc_y, mg',\n",
        "                        'acc_z, mg', \n",
        "                        'gyr_x, dps',\n",
        "                        'gyr_y, dps',\n",
        "                        'gyr_z, dps',\n",
        "                        'mag_x, mga',\n",
        "                        'mag_y, mga',\n",
        "                        'mag_z, mga',\n",
        "                        'time', 'target']]\n",
        "features = pd.read_pickle('features.pkl')\n",
        "len(file)"
      ],
      "execution_count": 0,
      "outputs": [
        {
          "output_type": "execute_result",
          "data": {
            "text/plain": [
              "1868"
            ]
          },
          "metadata": {
            "tags": []
          },
          "execution_count": 6
        }
      ]
    },
    {
      "cell_type": "code",
      "metadata": {
        "id": "RH7iBUs_cEJr",
        "colab_type": "code",
        "colab": {}
      },
      "source": [
        "file = file[file['target'] != 'тремор']\n",
        "features = features[features['target'] != 'тремор']"
      ],
      "execution_count": 0,
      "outputs": []
    },
    {
      "cell_type": "code",
      "metadata": {
        "id": "C36e-zzx7Y1G",
        "colab_type": "code",
        "colab": {}
      },
      "source": [
        "# df = file[file['target'] == 0]\n",
        "# noise = (np.random.rand(*df.shape) - 0.5)/10\n",
        "# noise[:, 10] = 0\n",
        "# noise[:, 9] = noise[:, 9]/100\n",
        "# df = df + noise\n",
        "# file = file.append(df, ignore_index= True)\n",
        "# len(file)\n"
      ],
      "execution_count": 0,
      "outputs": []
    },
    {
      "cell_type": "code",
      "metadata": {
        "id": "vZ8XO-IeWZHB",
        "colab_type": "code",
        "colab": {}
      },
      "source": [
        "# df = features[features['target'] == 0]\n",
        "# noise = (np.random.rand(*df.shape) - 0.5)\n",
        "# noise[:, -1] = 0\n",
        "# df = df + noise\n",
        "# features = features.append(df, ignore_index= True)\n",
        "# len(features)"
      ],
      "execution_count": 0,
      "outputs": []
    },
    {
      "cell_type": "code",
      "metadata": {
        "id": "tYcJ6PTR7cjp",
        "colab_type": "code",
        "outputId": "ac04b8b3-a434-440b-d3b3-fe206ce41c0e",
        "colab": {
          "base_uri": "https://localhost:8080/",
          "height": 34
        }
      },
      "source": [
        "(file['target'] != 0).sum()"
      ],
      "execution_count": 0,
      "outputs": [
        {
          "output_type": "execute_result",
          "data": {
            "text/plain": [
              "1055"
            ]
          },
          "metadata": {
            "tags": []
          },
          "execution_count": 9
        }
      ]
    },
    {
      "cell_type": "code",
      "metadata": {
        "id": "7lIkPE_4WRqZ",
        "colab_type": "code",
        "outputId": "1bee9f1a-d10f-4f71-a834-a760085d2a5d",
        "colab": {
          "base_uri": "https://localhost:8080/",
          "height": 34
        }
      },
      "source": [
        "file.values.shape, features.values.shape"
      ],
      "execution_count": 0,
      "outputs": [
        {
          "output_type": "execute_result",
          "data": {
            "text/plain": [
              "((1634, 11), (1634, 172))"
            ]
          },
          "metadata": {
            "tags": []
          },
          "execution_count": 10
        }
      ]
    },
    {
      "cell_type": "code",
      "metadata": {
        "id": "AJ-lU_ld6R0F",
        "colab_type": "code",
        "colab": {}
      },
      "source": [
        "from sklearn.model_selection import train_test_split\n",
        "train_data,  test_data, feature_train, feature_test = train_test_split(file.values, features.values, shuffle = True, test_size = 0.33)"
      ],
      "execution_count": 0,
      "outputs": []
    },
    {
      "cell_type": "code",
      "metadata": {
        "id": "1KWSHCgMBhBY",
        "colab_type": "code",
        "outputId": "880e3d00-43ea-40bd-a676-dd4bae6a094f",
        "colab": {
          "base_uri": "https://localhost:8080/",
          "height": 34
        }
      },
      "source": [
        "(train_data[:,-1] == feature_train[:, -1]).all(), (test_data[:,-1] == feature_test[:, -1]).all()"
      ],
      "execution_count": 0,
      "outputs": [
        {
          "output_type": "execute_result",
          "data": {
            "text/plain": [
              "(True, True)"
            ]
          },
          "metadata": {
            "tags": []
          },
          "execution_count": 12
        }
      ]
    },
    {
      "cell_type": "code",
      "metadata": {
        "id": "KW4ESf21KWNy",
        "colab_type": "code",
        "outputId": "adc043e5-d8cd-4d42-d7ff-88d925d53140",
        "colab": {
          "base_uri": "https://localhost:8080/",
          "height": 748
        }
      },
      "source": [
        "np.array(list(map(float, features.values[1000][:-1])))"
      ],
      "execution_count": 0,
      "outputs": [
        {
          "output_type": "execute_result",
          "data": {
            "text/plain": [
              "array([ 3.17669220e+01,  7.48920000e+01,  1.77105795e+00, -5.34832016e+00,\n",
              "        2.38094043e+02,  5.59374768e-01, -7.27782766e-03,  6.83514936e+00,\n",
              "        1.68773109e+00,  8.18663979e+01,  2.15161337e+01,  6.22373563e+02,\n",
              "        1.53399662e+03,  0.00000000e+00,  0.00000000e+00,  0.00000000e+00,\n",
              "        0.00000000e+00,  1.46012722e+03,  2.40265854e+04,  1.87317444e+01,\n",
              "        1.59750500e+02,  3.75292455e+00, -8.85948745e+00,  3.52196277e+02,\n",
              "        9.15874709e-01,  4.52616938e-03,  7.42368475e+00,  1.64577031e+00,\n",
              "        1.34687494e+02,  3.68298519e+01,  1.66109029e+03,  4.70079279e+03,\n",
              "        4.94304031e+00,  8.06208984e-01,  6.82221544e+01,  4.07358369e+00,\n",
              "        6.19235492e+02,  5.78088162e+03,  1.57715876e+01,  9.90595000e+02,\n",
              "        1.23651505e+01,  1.93280354e+00,  4.61366953e+02,  9.99408795e-01,\n",
              "       -1.04876894e-02,  8.62396704e+00,  2.82585806e+00,  1.42137717e+02,\n",
              "        3.70389193e+01,  1.98602237e+03,  5.00324091e+03,  5.41525679e+00,\n",
              "        2.09872467e+00,  4.54818818e+01,  1.08430416e+01,  1.84414863e+02,\n",
              "        9.07260830e+02,  3.20680461e+00,  1.04335000e+00,  5.46679528e+00,\n",
              "       -5.70419709e-01,  2.44373926e+02,  9.45162561e-01,  1.55656225e-03,\n",
              "        6.16650132e+00,  1.67976733e+00,  1.40259832e+02,  4.27261228e+01,\n",
              "        1.76619730e+03,  5.66583844e+03,  4.88606967e+00,  8.92115513e-01,\n",
              "        8.46241726e+01,  1.75353028e+01,  8.12430349e+02,  3.64267493e+03,\n",
              "        3.95960175e+00, -2.09800000e+00,  1.39464057e+01,  5.63011417e-01,\n",
              "        2.28072005e+02,  8.94160261e-01,  5.29426590e-03,  6.54766239e+00,\n",
              "        1.92875302e+00,  1.31711359e+02,  3.36767680e+01,  1.59069217e+03,\n",
              "        4.56789636e+03,  4.67853379e+00,  1.12603095e+00,  8.32151539e+01,\n",
              "        1.81406496e+01,  8.47365621e+02,  4.28778387e+03,  1.52082359e+00,\n",
              "       -3.98355000e+00,  1.00804245e+01, -3.68193449e+00,  2.56704076e+02,\n",
              "        8.98808490e-01, -1.14730955e-02,  6.44156601e+00,  2.07168926e+00,\n",
              "        1.27058588e+02,  3.15310153e+01,  1.60192033e+03,  4.27773650e+03,\n",
              "        4.47387038e+00,  9.68606793e-01,  8.44513606e+01,  1.67565193e+01,\n",
              "        8.08342156e+02,  3.30097751e+03,  5.41772072e+00, -4.66015000e+01,\n",
              "        1.82418101e-01, -3.99448431e+00,  6.39773361e+02,  7.53180772e-01,\n",
              "       -5.70750288e-03,  2.49701584e+01,  1.60641796e+01,  7.39071933e+01,\n",
              "        9.77952075e+00,  1.11873099e+03,  1.23366617e+03,  0.00000000e+00,\n",
              "        0.00000000e+00,  0.00000000e+00,  0.00000000e+00,  8.79199848e+02,\n",
              "        8.87322677e+03,  1.31409567e+01, -8.25772500e+02,  6.47272519e-01,\n",
              "        6.40216890e+00,  3.04083369e+02,  3.41227282e-01,  1.15407037e-03,\n",
              "        2.70293162e+01,  1.73642823e+01,  4.11321880e+01,  2.40413232e+01,\n",
              "        2.31007948e+02,  5.97100116e+02,  0.00000000e+00,  0.00000000e+00,\n",
              "        0.00000000e+00,  0.00000000e+00,  1.76756840e+03,  2.93907823e+04,\n",
              "        5.24818864e+00, -1.82246000e+02, -1.02504620e-01,  5.42900990e+01,\n",
              "        6.91696055e+02,  7.98215252e-01, -1.23580629e-03,  2.83883603e+01,\n",
              "        1.62284059e+01,  1.07093461e+02,  4.38584508e+01,  1.26137221e+03,\n",
              "        2.70868556e+03,  5.27816168e+00,  0.00000000e+00,  1.06567423e+02,\n",
              "        1.42108547e-14,  7.34766300e+02,  1.12754473e+04])"
            ]
          },
          "metadata": {
            "tags": []
          },
          "execution_count": 13
        }
      ]
    },
    {
      "cell_type": "code",
      "metadata": {
        "id": "ogM7Q1Q36Xoj",
        "colab_type": "code",
        "colab": {}
      },
      "source": [
        "train_datka = datka(train_data, feature_train)\n",
        "test_datka = datka(test_data, feature_test)\n",
        "train_loader = DataLoader(train_datka, shuffle= True, batch_size=8)\n",
        "val_loader   = DataLoader(test_datka, shuffle= True, batch_size=8)"
      ],
      "execution_count": 0,
      "outputs": []
    },
    {
      "cell_type": "code",
      "metadata": {
        "id": "LYt0M4ueBmro",
        "colab_type": "code",
        "outputId": "bcbe9b2e-dead-49ea-e7bc-3842bbaee736",
        "colab": {
          "base_uri": "https://localhost:8080/",
          "height": 34
        }
      },
      "source": [
        "test_datka.__getitem__(21)['features'].size()"
      ],
      "execution_count": 0,
      "outputs": [
        {
          "output_type": "execute_result",
          "data": {
            "text/plain": [
              "torch.Size([171])"
            ]
          },
          "metadata": {
            "tags": []
          },
          "execution_count": 15
        }
      ]
    },
    {
      "cell_type": "code",
      "metadata": {
        "id": "Z23om5C38Loy",
        "colab_type": "code",
        "colab": {}
      },
      "source": [
        "train_loader = DataLoader(train_datka, shuffle= True, batch_size=8)\n",
        "val_loader   = DataLoader(test_datka, shuffle= True, batch_size=8)"
      ],
      "execution_count": 0,
      "outputs": []
    },
    {
      "cell_type": "code",
      "metadata": {
        "id": "A3JKG_w6A9yS",
        "colab_type": "code",
        "colab": {}
      },
      "source": [
        "for dct in train_loader:\n",
        "    X = Variable(dct['sensors'])\n",
        "    feat = Variable(dct['features'])\n",
        "    y = Variable(dct['y'])"
      ],
      "execution_count": 0,
      "outputs": []
    },
    {
      "cell_type": "code",
      "metadata": {
        "id": "b6bnSL3OEpbr",
        "colab_type": "code",
        "outputId": "ec968cd0-b713-4809-e179-c50fa50f6cd0",
        "colab": {
          "base_uri": "https://localhost:8080/",
          "height": 34
        }
      },
      "source": [
        "X.size(), feat.size(), y.size()"
      ],
      "execution_count": 0,
      "outputs": [
        {
          "output_type": "execute_result",
          "data": {
            "text/plain": [
              "(torch.Size([6, 1, 10, 2000]), torch.Size([6, 171]), torch.Size([6]))"
            ]
          },
          "metadata": {
            "tags": []
          },
          "execution_count": 18
        }
      ]
    },
    {
      "cell_type": "code",
      "metadata": {
        "id": "dw-UmkI0Q4Ar",
        "colab_type": "code",
        "outputId": "4c98a9b6-2685-4b6e-def8-486bb2ddb3c6",
        "colab": {
          "base_uri": "https://localhost:8080/",
          "height": 34
        }
      },
      "source": [
        "device = torch.device(\"cuda:0\" if torch.cuda.is_available() else \"cpu\")\n",
        "print(device)"
      ],
      "execution_count": 0,
      "outputs": [
        {
          "output_type": "stream",
          "text": [
            "cuda:0\n"
          ],
          "name": "stdout"
        }
      ]
    },
    {
      "cell_type": "code",
      "metadata": {
        "id": "6okcpbFG8gNh",
        "colab_type": "code",
        "colab": {}
      },
      "source": [
        "class PD_net(nn.Module):\n",
        "    def __init__(self, n_classes = 1, win_size = 2000, batch_size = 4):\n",
        "        super(PD_net, self).__init__()\n",
        "        \n",
        "        self.layer1 = nn.Sequential(\n",
        "            \n",
        "            nn.Conv2d(kernel_size = (3, 100), in_channels = 1, out_channels = 16, padding = 1),\n",
        "            nn.BatchNorm2d(16),\n",
        "            nn.ReLU(inplace = True),\n",
        "            \n",
        "            nn.Conv2d(kernel_size = (3, 100), in_channels = 16, out_channels = 16, padding = 1),\n",
        "            nn.BatchNorm2d(16),\n",
        "            nn.ReLU(inplace = True),\n",
        "            nn.MaxPool2d(2)\n",
        "        )\n",
        "            \n",
        "        self.layer2 = nn.Sequential(\n",
        "            \n",
        "            nn.Conv2d(kernel_size = (3, 100), in_channels = 16, out_channels = 32, padding = 1),\n",
        "            nn.BatchNorm2d(32),\n",
        "            nn.ReLU(inplace = True),\n",
        "            \n",
        "            nn.Conv2d(kernel_size = (3, 100), in_channels = 32, out_channels = 32, padding = 1),\n",
        "            nn.BatchNorm2d(32),\n",
        "            nn.ReLU(inplace = True),       \n",
        "            nn.MaxPool2d(2)\n",
        "        )\n",
        "            \n",
        "        self.layer3= nn.Sequential(\n",
        "            nn.Conv2d(kernel_size = (3, 100), in_channels = 32, out_channels = 64, padding = 1),\n",
        "            nn.BatchNorm2d(64),\n",
        "            nn.ReLU(inplace = True),\n",
        "            \n",
        "            nn.Conv2d(kernel_size = (3, 100), in_channels = 64, out_channels = 64, padding = 1),\n",
        "            nn.BatchNorm2d(64),\n",
        "            nn.ReLU(inplace = True),            \n",
        "            nn.MaxPool2d(2)\n",
        "        )\n",
        "        \n",
        "        self.layer4= nn.Sequential(\n",
        "            nn.Linear(171, 512),\n",
        "            nn.LayerNorm(512),\n",
        "            nn.ReLU(inplace = True),\n",
        "            \n",
        "            nn.Linear(512, 2048),\n",
        "            nn.LayerNorm(512*4),\n",
        "            nn.ReLU(inplace = True),            \n",
        "        )\n",
        "            \n",
        "        self.linear1 = nn.Linear(5120, 2048)\n",
        "        self.linear2 = nn.Linear(2048, 512)\n",
        "        self.linear3 = nn.Linear(512, n_classes)\n",
        "        self.batch_size = 4\n",
        "        self.dropout1 = nn.Dropout(0.2)\n",
        "        self.dropout2 = nn.Dropout(0.2)\n",
        "        if n_classes == 1:\n",
        "            self.activation = F.sigmoid\n",
        "        else:\n",
        "            self.activation = F.softmax\n",
        "\n",
        "    def forward(self, x, f):\n",
        "        x = self.layer1(x)\n",
        "        x = self.layer2(x)\n",
        "        x = self.layer3(x)\n",
        "        f = self.layer4(f)\n",
        "        batch_size = x.size(0)\n",
        "        x = x.view(batch_size, -1)\n",
        "        x = self.dropout1(F.relu(self.linear1(x)) + f)\n",
        "        x = self.dropout2(F.relu(self.linear2(x)))\n",
        "        x = self.linear3(x)\n",
        "        return self.activation(x)"
      ],
      "execution_count": 0,
      "outputs": []
    },
    {
      "cell_type": "code",
      "metadata": {
        "id": "c_wgTMAf-1CT",
        "colab_type": "code",
        "colab": {}
      },
      "source": [
        "model = PD_net(n_classes=4).to(device)"
      ],
      "execution_count": 0,
      "outputs": []
    },
    {
      "cell_type": "code",
      "metadata": {
        "id": "m-rMwvFa_NOM",
        "colab_type": "code",
        "outputId": "0887d832-b5c8-4a06-be00-eb7f8c593673",
        "colab": {
          "base_uri": "https://localhost:8080/",
          "height": 71
        }
      },
      "source": [
        "model.forward(X.to(device), feat.to(device)).argmax(dim = -1), y"
      ],
      "execution_count": 0,
      "outputs": [
        {
          "output_type": "stream",
          "text": [
            "/usr/local/lib/python3.6/dist-packages/ipykernel_launcher.py:71: UserWarning: Implicit dimension choice for softmax has been deprecated. Change the call to include dim=X as an argument.\n"
          ],
          "name": "stderr"
        },
        {
          "output_type": "execute_result",
          "data": {
            "text/plain": [
              "(tensor([2, 0, 2, 3, 0, 2], device='cuda:0'), tensor([2, 2, 0, 1, 0, 2]))"
            ]
          },
          "metadata": {
            "tags": []
          },
          "execution_count": 27
        }
      ]
    },
    {
      "cell_type": "code",
      "metadata": {
        "id": "05jEx8Pz-cco",
        "colab_type": "code",
        "colab": {}
      },
      "source": [
        "train_size = len(train_loader)\n",
        "val_size = len(val_loader)\n",
        "batch_size = 4\n",
        "  \n",
        "# Train function is from ML course, HW task skoltech.\n",
        "def train(model, optimizer, epochs_n=100, criterion = torch.nn.BCELoss() , device = 'cpu', weight = torch.tensor([2447/1158.0, 2447/412.0, 2447/583.0, 2447/60.0, 2447/234.0]).cuda()):\n",
        "    model.to(device)  ## <---\n",
        "    # Use pos_weight = 20, because we have unbalanced classification\n",
        "#     criterion = criterion\n",
        "    #CrossEntropyLoss()\n",
        "#         weight = torch.tensor([1000/579.0, 1000/412.0, 1000/583.0, 1000/60.0, 1000/234.0]).cuda())\n",
        "    \n",
        "    #weight= torch.tensor([3.22, 1]).float().cuda())\n",
        "    learning_curve = [np.nan] * epochs_n\n",
        "    train_accuracy_curve = [np.nan] * epochs_n\n",
        "    val_accuracy_curve = [np.nan] * epochs_n\n",
        "    max_val_accuracy = 0\n",
        "    max_val_accuracy_epoch = 0\n",
        "\n",
        "    batches_n = (train_size - 1) // batch_size + 1\n",
        "    \n",
        "    for epoch in trange(epochs_n):\n",
        "        \n",
        "        \n",
        "        model.train()  ## <---\n",
        "\n",
        "        learning_curve[epoch] = 0\n",
        "        for dct in train_loader:\n",
        "                x = Variable(dct['sensors'])\n",
        "                f = Variable(dct['features'])\n",
        "                y = Variable(dct['y'])\n",
        "\n",
        "                x = x.to(device)\n",
        "                f = f.to(device)\n",
        "                y = y.to(device) #one_hot(y, 5).to(device)\n",
        "                \n",
        "                prediction = model(x, f)\n",
        "                \n",
        "                loss = criterion(prediction, y)\n",
        "\n",
        "                learning_curve[epoch] += loss.item()\n",
        "                loss.backward()\n",
        "                optimizer.step()\n",
        "                optimizer.zero_grad()\n",
        "\n",
        "                \n",
        "        model.eval()\n",
        "        train_accuracy_curve[epoch] = get_accuracy(model, train_loader, device = device)\n",
        "        val_accuracy_curve[epoch] = get_accuracy(model, val_loader,  device = device)\n",
        "        \n",
        "        display.clear_output(wait=True)\n",
        "        f, axes = plt.subplots(1, 2, figsize=(12, 5))\n",
        "\n",
        "        learning_curve[epoch] /= 4*batches_n\n",
        "        axes[0].semilogy(learning_curve, c = 'b')\n",
        "\n",
        "        model.eval()  ## <---\n",
        "        \n",
        "        val_accuracy = val_accuracy_curve[epoch]\n",
        "        if val_accuracy > max_val_accuracy:\n",
        "            if (epoch > 60):\n",
        "                torch.save(model.state_dict(), 'parkinson_multiclass_feat_and_time_series.pth')\n",
        "            max_val_accuracy = val_accuracy\n",
        "            max_val_accuracy_epoch = epoch\n",
        "        \n",
        "        \n",
        "        axes[1].set_title('Train {:.4f}, val {:.4f}, max val {:.4f} at {}'.format(\n",
        "            train_accuracy_curve[epoch], val_accuracy, max_val_accuracy, max_val_accuracy_epoch))\n",
        "        axes[1].plot(train_accuracy_curve, c = 'b' ,label = 'train')\n",
        "        axes[1].semilogy(val_accuracy_curve, c = 'r', label = 'val')\n",
        "        axes[0].set_title(\"Loss function\")\n",
        "        axes[1].legend()\n",
        "        print(learning_curve[epoch])\n",
        "        plt.tight_layout()\n",
        "        plt.show()\n",
        "        \n",
        "            \n",
        "            \n",
        "\n",
        "def set_random_seeds(seed_value=666, device='cpu'):\n",
        "    '''source https://forums.fast.ai/t/solved-reproducibility-where-is-the-randomness-coming-in/31628/5'''\n",
        "    np.random.seed(seed_value)\n",
        "    torch.manual_seed(seed_value)\n",
        "    random.seed(seed_value)\n",
        "    if device != 'cpu': \n",
        "        torch.cuda.manual_seed(seed_value)\n",
        "        torch.cuda.manual_seed_all(seed_value)\n",
        "        torch.backends.cudnn.deterministic = True\n",
        "        torch.backends.cudnn.benchmark = False\n",
        "  \n",
        "  \n",
        "def get_accuracy(model, dataloader, device='cpu'):\n",
        "    correct = 0\n",
        "    with torch.no_grad():\n",
        "        for dct in dataloader:\n",
        "            x = Variable(dct['sensors'])\n",
        "            f = Variable(dct['features'])\n",
        "            y = Variable(dct['y'])\n",
        "\n",
        "            x = x.to(device)\n",
        "            f = f.to(device)\n",
        "            y = y.to(device) ## <---\n",
        "#             prediction = F.sigmoid(model(x))\n",
        "            prediction = model(x,f).argmax(dim = -1)\n",
        "            correct += prediction.eq(y.view_as(prediction)).sum().item()\n",
        "#             y = y > 1/2\n",
        "#             prediction = prediction > 1/2\n",
        "#             correct += (prediction - y).pow(2).sum().item()\n",
        "    return correct / len(dataloader.dataset)\n",
        "\n",
        "def one_hot(batch,depth):\n",
        "    ones = torch.sparse.torch.eye(depth, dtype= torch.long)\n",
        "    return ones.index_select(0,batch)\n"
      ],
      "execution_count": 0,
      "outputs": []
    },
    {
      "cell_type": "code",
      "metadata": {
        "id": "txk6x4R9O_p4",
        "colab_type": "code",
        "colab": {}
      },
      "source": [
        "def one_hot_v2(batch,depth):\n",
        "    ones = torch.sparse.torch.eye(depth)\n",
        "    return ones.index_select(0,batch)\n"
      ],
      "execution_count": 0,
      "outputs": []
    },
    {
      "cell_type": "code",
      "metadata": {
        "id": "LDfNUXAzPB0s",
        "colab_type": "code",
        "outputId": "d89e826a-9413-4b74-9b4e-6cfabe3df7c8",
        "colab": {
          "base_uri": "https://localhost:8080/",
          "height": 68
        }
      },
      "source": [
        "one_hot(torch.tensor([1,0,3]), depth= 4)"
      ],
      "execution_count": 0,
      "outputs": [
        {
          "output_type": "execute_result",
          "data": {
            "text/plain": [
              "tensor([[0, 1, 0, 0],\n",
              "        [1, 0, 0, 0],\n",
              "        [0, 0, 0, 1]])"
            ]
          },
          "metadata": {
            "tags": []
          },
          "execution_count": 30
        }
      ]
    },
    {
      "cell_type": "code",
      "metadata": {
        "id": "cgIKZWetGbuh",
        "colab_type": "code",
        "outputId": "34c06cce-ec4e-4e38-ac6e-5dad68112acc",
        "colab": {
          "base_uri": "https://localhost:8080/",
          "height": 71
        }
      },
      "source": [
        "get_accuracy(model, val_loader, device = device)"
      ],
      "execution_count": 0,
      "outputs": [
        {
          "output_type": "stream",
          "text": [
            "/usr/local/lib/python3.6/dist-packages/ipykernel_launcher.py:71: UserWarning: Implicit dimension choice for softmax has been deprecated. Change the call to include dim=X as an argument.\n"
          ],
          "name": "stderr"
        },
        {
          "output_type": "execute_result",
          "data": {
            "text/plain": [
              "0.337037037037037"
            ]
          },
          "metadata": {
            "tags": []
          },
          "execution_count": 31
        }
      ]
    },
    {
      "cell_type": "code",
      "metadata": {
        "id": "QmPTZBCdICgv",
        "colab_type": "code",
        "outputId": "f5a160e8-ad9b-42a0-9735-8f954a1055bc",
        "colab": {
          "base_uri": "https://localhost:8080/",
          "height": 34
        }
      },
      "source": [
        "np.sum([(file['target'] == 0).sum(), (file['target'] == 'П(1)').sum(), \n",
        " (file['target'] == 'П(2)').sum(),(file['target'] == 'П(3)').sum(), (file['target'] == 'тремор').sum()])\n",
        " #weight = torch.tensor([1868/1158.0, 1868/412.0, 1868/583.0, 1868/60.0, 1868/234.0]).cuda()"
      ],
      "execution_count": 0,
      "outputs": [
        {
          "output_type": "execute_result",
          "data": {
            "text/plain": [
              "1634"
            ]
          },
          "metadata": {
            "tags": []
          },
          "execution_count": 32
        }
      ]
    },
    {
      "cell_type": "code",
      "metadata": {
        "id": "Yo83OcLG-hEy",
        "colab_type": "code",
        "outputId": "688dcc16-1a60-4339-a6fc-c12f06680ce2",
        "colab": {
          "base_uri": "https://localhost:8080/",
          "height": 420
        }
      },
      "source": [
        "set_random_seeds(device=device)\n",
        "train(model, torch.optim.SGD(model.parameters(), lr=0.001, momentum=0.9), epochs_n= 100,\n",
        "      criterion= nn.CrossEntropyLoss(weight = torch.tensor([1634/579.0, 1634/412.0, 1634/583.0, 1634/234.0]).cuda()), \n",
        "      device= device)"
      ],
      "execution_count": 0,
      "outputs": [
        {
          "output_type": "stream",
          "text": [
            "0.9559415251016616\n"
          ],
          "name": "stdout"
        },
        {
          "output_type": "display_data",
          "data": {
            "image/png": "[encoded data removed]",
            "text/plain": [
              "<Figure size 864x360 with 2 Axes>"
            ]
          },
          "metadata": {
            "tags": []
          }
        },
        {
          "output_type": "stream",
          "text": [
            "\n",
            "100%|██████████| 100/100 [38:09<00:00, 22.94s/it]\u001b[A\n",
            "\u001b[A"
          ],
          "name": "stderr"
        }
      ]
    },
    {
      "cell_type": "code",
      "metadata": {
        "id": "NNqhuwIqGWP9",
        "colab_type": "code",
        "outputId": "b935325c-0f4f-423e-f861-ef44f6d0f368",
        "colab": {
          "base_uri": "https://localhost:8080/",
          "height": 649
        }
      },
      "source": [
        "for dct in train_loader:\n",
        "            x = dct['sensors']\n",
        "            f = dct['features']\n",
        "            y = dct['y']\n",
        "            x = x.to(device)  ## <---\n",
        "            f = f.to(device)\n",
        "            y = y.to(device) ## <---\n",
        "            prediction = model(x, f).argmax(dim = -1)\n",
        "\n",
        "            print((prediction.view(-1) == y).sum(), (prediction.view(-1) != y).sum())"
      ],
      "execution_count": 0,
      "outputs": [
        {
          "output_type": "stream",
          "text": [
            "/usr/local/lib/python3.6/dist-packages/ipykernel_launcher.py:71: UserWarning: Implicit dimension choice for softmax has been deprecated. Change the call to include dim=X as an argument.\n"
          ],
          "name": "stderr"
        },
        {
          "output_type": "stream",
          "text": [
            "tensor(23, device='cuda:0') tensor(9, device='cuda:0')\n",
            "tensor(24, device='cuda:0') tensor(8, device='cuda:0')\n",
            "tensor(22, device='cuda:0') tensor(10, device='cuda:0')\n",
            "tensor(26, device='cuda:0') tensor(6, device='cuda:0')\n",
            "tensor(26, device='cuda:0') tensor(6, device='cuda:0')\n",
            "tensor(30, device='cuda:0') tensor(2, device='cuda:0')\n",
            "tensor(29, device='cuda:0') tensor(3, device='cuda:0')\n",
            "tensor(24, device='cuda:0') tensor(8, device='cuda:0')\n",
            "tensor(24, device='cuda:0') tensor(8, device='cuda:0')\n",
            "tensor(27, device='cuda:0') tensor(5, device='cuda:0')\n",
            "tensor(26, device='cuda:0') tensor(6, device='cuda:0')\n",
            "tensor(25, device='cuda:0') tensor(7, device='cuda:0')\n",
            "tensor(27, device='cuda:0') tensor(5, device='cuda:0')\n",
            "tensor(24, device='cuda:0') tensor(8, device='cuda:0')\n",
            "tensor(28, device='cuda:0') tensor(4, device='cuda:0')\n",
            "tensor(26, device='cuda:0') tensor(6, device='cuda:0')\n",
            "tensor(24, device='cuda:0') tensor(8, device='cuda:0')\n",
            "tensor(25, device='cuda:0') tensor(7, device='cuda:0')\n",
            "tensor(26, device='cuda:0') tensor(6, device='cuda:0')\n",
            "tensor(29, device='cuda:0') tensor(3, device='cuda:0')\n",
            "tensor(24, device='cuda:0') tensor(8, device='cuda:0')\n",
            "tensor(22, device='cuda:0') tensor(10, device='cuda:0')\n",
            "tensor(25, device='cuda:0') tensor(7, device='cuda:0')\n",
            "tensor(21, device='cuda:0') tensor(11, device='cuda:0')\n",
            "tensor(26, device='cuda:0') tensor(6, device='cuda:0')\n",
            "tensor(26, device='cuda:0') tensor(6, device='cuda:0')\n",
            "tensor(28, device='cuda:0') tensor(4, device='cuda:0')\n",
            "tensor(24, device='cuda:0') tensor(8, device='cuda:0')\n",
            "tensor(24, device='cuda:0') tensor(8, device='cuda:0')\n",
            "tensor(25, device='cuda:0') tensor(7, device='cuda:0')\n",
            "tensor(28, device='cuda:0') tensor(4, device='cuda:0')\n",
            "tensor(24, device='cuda:0') tensor(8, device='cuda:0')\n",
            "tensor(29, device='cuda:0') tensor(3, device='cuda:0')\n",
            "tensor(27, device='cuda:0') tensor(5, device='cuda:0')\n",
            "tensor(3, device='cuda:0') tensor(3, device='cuda:0')\n"
          ],
          "name": "stdout"
        }
      ]
    },
    {
      "cell_type": "code",
      "metadata": {
        "id": "BiXlU1KiTeK9",
        "colab_type": "code",
        "outputId": "d6517229-08ce-439a-b02b-fe1931ff8041",
        "colab": {
          "base_uri": "https://localhost:8080/",
          "height": 102
        }
      },
      "source": [
        "!ls"
      ],
      "execution_count": 0,
      "outputs": [
        {
          "output_type": "stream",
          "text": [
            "data.pkl\n",
            "features.pkl\n",
            "parkinson_binary_feat_and_time_series.pth\n",
            "parkinson_binary_time_series.pth\n",
            "parkinson_multiclass_feat_and_time_series.pth\n"
          ],
          "name": "stdout"
        }
      ]
    },
    {
      "cell_type": "code",
      "metadata": {
        "id": "SBlY3WZKoL7r",
        "colab_type": "code",
        "outputId": "a521264a-3a39-4fb7-a4ab-2f323bb2ad89",
        "colab": {
          "base_uri": "https://localhost:8080/",
          "height": 54
        }
      },
      "source": [
        "class_distr = np.zeros((4,4))\n",
        "for dct in train_loader:\n",
        "      x = dct['sensors']\n",
        "      f = dct['features']\n",
        "      y = dct['y']\n",
        "      x = x.to(device)  ## <---\n",
        "      f = f.to(device)\n",
        "      y = y.cpu().detach().numpy() ## <---\n",
        "      prediction = model(x, f).argmax(dim = -1).view(-1).cpu().detach().numpy()\n",
        "      for i in range(len(y)):\n",
        "          class_distr[y[i]][prediction[i]] += 1 \n",
        "          \n",
        "          \n",
        "          "
      ],
      "execution_count": 0,
      "outputs": [
        {
          "output_type": "stream",
          "text": [
            "/usr/local/lib/python3.6/dist-packages/ipykernel_launcher.py:71: UserWarning: Implicit dimension choice for softmax has been deprecated. Change the call to include dim=X as an argument.\n"
          ],
          "name": "stderr"
        }
      ]
    },
    {
      "cell_type": "code",
      "metadata": {
        "id": "8WpCGSt2pN46",
        "colab_type": "code",
        "outputId": "adb8d605-934f-4195-bcff-2417d435a074",
        "colab": {
          "base_uri": "https://localhost:8080/",
          "height": 286
        }
      },
      "source": [
        "plt.imshow(class_distr)"
      ],
      "execution_count": 0,
      "outputs": [
        {
          "output_type": "execute_result",
          "data": {
            "text/plain": [
              "<matplotlib.image.AxesImage at 0x7f12e61829e8>"
            ]
          },
          "metadata": {
            "tags": []
          },
          "execution_count": 45
        },
        {
          "output_type": "display_data",
          "data": {
            "image/png": "[encoded data removed]",
            "text/plain": [
              "<Figure size 432x288 with 1 Axes>"
            ]
          },
          "metadata": {
            "tags": []
          }
        }
      ]
    },
    {
      "cell_type": "code",
      "metadata": {
        "id": "jwPZwg1dpWyr",
        "colab_type": "code",
        "colab": {}
      },
      "source": [
        ""
      ],
      "execution_count": 0,
      "outputs": []
    }
  ]
}