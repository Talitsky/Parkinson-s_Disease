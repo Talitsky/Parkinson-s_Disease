{
 "cells": [
  {
   "cell_type": "code",
   "execution_count": null,
   "metadata": {},
   "outputs": [],
   "source": [
    "import pandas as pd\n",
    "import numpy as np\n",
    "# from FCBF_module import FCBF_module \n",
    "# import lightgbm as lgb\n",
    "import seaborn as sns\n",
    "import matplotlib.pyplot as plt"
   ]
  },
  {
   "cell_type": "code",
   "execution_count": 22,
   "metadata": {
    "scrolled": true
   },
   "outputs": [
    {
     "name": "stdout",
     "output_type": "stream",
     "text": [
      "C:\\Octave\\Octave-5.1.0.0\\mingw64\\bin\\octave-cli.exe\n"
     ]
    }
   ],
   "source": [
    "os.environ[\"OCTAVE_EXECUTABLE\"] = \"C:\\\\Octave\\\\Octave-5.1.0.0\\\\mingw64\\\\bin\\\\octave-cli.exe\"\n",
    "print(os.environ['OCTAVE_EXECUTABLE'])"
   ]
  },
  {
   "cell_type": "code",
   "execution_count": 2,
   "metadata": {
    "scrolled": true
   },
   "outputs": [],
   "source": [
    "import parselmouth\n",
    "from parselmouth.praat import call\n",
    "# from oct2py import octave\n",
    "# import matlab.engine\n",
    "# import nolds\n",
    "import os, sys"
   ]
  },
  {
   "cell_type": "code",
   "execution_count": 3,
   "metadata": {},
   "outputs": [],
   "source": [
    "def measurePitch(voiceID, f0min, f0max, unit):\n",
    "    duration = call(sound, \"Get total duration\") # duration\n",
    "    pitch = call(sound, \"To Pitch\", 0.0, f0min, f0max) #create a praat pitch object\n",
    "    meanF0 = call(pitch, \"Get mean\", 0, 0, unit) # get mean pitch\n",
    "    stdevF0 = call(pitch, \"Get standard deviation\", 0 ,0, unit) # get standard deviation\n",
    "    harmonicity = call(sound, \"To Harmonicity (cc)\", 0.01, f0min, 0.1, 1.0)\n",
    "    hnr = call(harmonicity, \"Get mean\", 0, 0)\n",
    "    pointProcess = call(sound, \"To PointProcess (periodic, cc)\", f0min, f0max)\n",
    "    localJitter = call(pointProcess, \"Get jitter (local)\", 0, 0, 0.0001, 0.02, 1.3)\n",
    "    localabsoluteJitter = call(pointProcess, \"Get jitter (local, absolute)\", 0, 0, 0.0001, 0.02, 1.3)\n",
    "    rapJitter = call(pointProcess, \"Get jitter (rap)\", 0, 0, 0.0001, 0.02, 1.3)\n",
    "    ppq5Jitter = call(pointProcess, \"Get jitter (ppq5)\", 0, 0, 0.0001, 0.02, 1.3)\n",
    "    ddpJitter = call(pointProcess, \"Get jitter (ddp)\", 0, 0, 0.0001, 0.02, 1.3)\n",
    "    localShimmer =  call([sound, pointProcess], \"Get shimmer (local)\", 0, 0, 0.0001, 0.02, 1.3, 1.6)\n",
    "    localdbShimmer = call([sound, pointProcess], \"Get shimmer (local_dB)\", 0, 0, 0.0001, 0.02, 1.3, 1.6)\n",
    "    apq3Shimmer = call([sound, pointProcess], \"Get shimmer (apq3)\", 0, 0, 0.0001, 0.02, 1.3, 1.6)\n",
    "    aqpq5Shimmer = call([sound, pointProcess], \"Get shimmer (apq5)\", 0, 0, 0.0001, 0.02, 1.3, 1.6)\n",
    "    apq11Shimmer =  call([sound, pointProcess], \"Get shimmer (apq11)\", 0, 0, 0.0001, 0.02, 1.3, 1.6)\n",
    "    ddaShimmer = call([sound, pointProcess], \"Get shimmer (dda)\", 0, 0, 0.0001, 0.02, 1.3, 1.6)\n",
    "    \n",
    "    return localJitter, localabsoluteJitter, rapJitter, ppq5Jitter, ddpJitter, localShimmer, localdbShimmer, apq3Shimmer, aqpq5Shimmer, apq11Shimmer, ddaShimmer, hnr"
   ]
  },
  {
   "cell_type": "code",
   "execution_count": 4,
   "metadata": {},
   "outputs": [],
   "source": [
    "sound = parselmouth.Sound('Jack_test.wav')\n",
    "# sound = parselmouth.Sound(\"data/Pd1.wav\")\n",
    "jack = measurePitch(sound, 75, 400, \"Hertz\")\n",
    "jack = pd.DataFrame(jack).T"
   ]
  },
  {
   "cell_type": "code",
   "execution_count": 5,
   "metadata": {},
   "outputs": [
    {
     "data": {
      "text/html": [
       "<div>\n",
       "<style scoped>\n",
       "    .dataframe tbody tr th:only-of-type {\n",
       "        vertical-align: middle;\n",
       "    }\n",
       "\n",
       "    .dataframe tbody tr th {\n",
       "        vertical-align: top;\n",
       "    }\n",
       "\n",
       "    .dataframe thead th {\n",
       "        text-align: right;\n",
       "    }\n",
       "</style>\n",
       "<table border=\"1\" class=\"dataframe\">\n",
       "  <thead>\n",
       "    <tr style=\"text-align: right;\">\n",
       "      <th></th>\n",
       "      <th>0</th>\n",
       "      <th>1</th>\n",
       "      <th>2</th>\n",
       "      <th>3</th>\n",
       "      <th>4</th>\n",
       "      <th>5</th>\n",
       "      <th>6</th>\n",
       "      <th>7</th>\n",
       "      <th>8</th>\n",
       "      <th>9</th>\n",
       "      <th>10</th>\n",
       "      <th>11</th>\n",
       "    </tr>\n",
       "  </thead>\n",
       "  <tbody>\n",
       "    <tr>\n",
       "      <th>0</th>\n",
       "      <td>0.004727</td>\n",
       "      <td>0.000024</td>\n",
       "      <td>0.002843</td>\n",
       "      <td>0.002578</td>\n",
       "      <td>0.008529</td>\n",
       "      <td>0.035208</td>\n",
       "      <td>0.310103</td>\n",
       "      <td>0.021278</td>\n",
       "      <td>0.020726</td>\n",
       "      <td>0.022213</td>\n",
       "      <td>0.063835</td>\n",
       "      <td>25.385661</td>\n",
       "    </tr>\n",
       "  </tbody>\n",
       "</table>\n",
       "</div>"
      ],
      "text/plain": [
       "         0         1         2         3         4         5         6   \\\n",
       "0  0.004727  0.000024  0.002843  0.002578  0.008529  0.035208  0.310103   \n",
       "\n",
       "         7         8         9         10         11  \n",
       "0  0.021278  0.020726  0.022213  0.063835  25.385661  "
      ]
     },
     "execution_count": 5,
     "metadata": {},
     "output_type": "execute_result"
    }
   ],
   "source": [
    "jack"
   ]
  },
  {
   "cell_type": "code",
   "execution_count": 722,
   "metadata": {},
   "outputs": [],
   "source": [
    "jack.to_csv('jack_test.csv')"
   ]
  },
  {
   "cell_type": "code",
   "execution_count": null,
   "metadata": {},
   "outputs": [],
   "source": [
    "from pathlib import Path\n",
    " \n",
    "yang_data = {}\n",
    "for filename in Path('data/yang').glob('*.wav'):\n",
    "    yang_data[str(filename)] = np.array(parselmouth.Sound(str(filename)))[0]"
   ]
  },
  {
   "cell_type": "code",
   "execution_count": 51,
   "metadata": {},
   "outputs": [
    {
     "data": {
      "text/plain": [
       "0.0660426359741529"
      ]
     },
     "execution_count": 51,
     "metadata": {},
     "output_type": "execute_result"
    }
   ],
   "source": [
    "nolds.dfa(np.array(sound)[0])"
   ]
  },
  {
   "cell_type": "code",
   "execution_count": 8,
   "metadata": {},
   "outputs": [],
   "source": [
    "eng = matlab.engine.start_matlab()"
   ]
  },
  {
   "cell_type": "code",
   "execution_count": 378,
   "metadata": {},
   "outputs": [],
   "source": [
    "eng.addpath(os.path.join(os.getcwd(), 'VoiceAnalysisToolbox', 'VoiceAnalysisToolbox'),nargout=0)\n",
    "eng.addpath(os.path.join(os.getcwd(), 'data'),nargout=0)"
   ]
  },
  {
   "cell_type": "code",
   "execution_count": 730,
   "metadata": {},
   "outputs": [],
   "source": [
    "output = eng.voice_analysis('Jack_test.wav')\n",
    "output = np.array(output)[0]"
   ]
  },
  {
   "cell_type": "code",
   "execution_count": 72,
   "metadata": {},
   "outputs": [],
   "source": [
    "# octave.addpath(os.path.join(os.getcwd(), 'VoiceAnalysisToolbox', 'VoiceAnalysisToolbox'));"
   ]
  },
  {
   "cell_type": "code",
   "execution_count": 664,
   "metadata": {},
   "outputs": [],
   "source": [
    "from pathlib import Path\n",
    " \n",
    "yang_data = {}\n",
    "for filename in Path('data/yang').glob('*.wav'):\n",
    "    yang_data[str(filename)] = np.array(eng.voice_analysis(str(filename)))[0]"
   ]
  },
  {
   "cell_type": "code",
   "execution_count": 1,
   "metadata": {},
   "outputs": [],
   "source": [
    "# annie_data"
   ]
  },
  {
   "cell_type": "code",
   "execution_count": 663,
   "metadata": {},
   "outputs": [],
   "source": [
    "# f = open(\"annie+jack.pkl\",\"wb\")\n",
    "# pickle.dump(annie_data ,f)\n",
    "# f.close()"
   ]
  },
  {
   "cell_type": "code",
   "execution_count": 43,
   "metadata": {},
   "outputs": [],
   "source": [
    "import pickle\n",
    "output = []\n",
    "with (open(\"annie+jack.pkl\", \"rb\")) as openfile:\n",
    "    while True:\n",
    "        try:\n",
    "            output.append(pickle.load(openfile))\n",
    "        except EOFError:\n",
    "            break"
   ]
  },
  {
   "cell_type": "code",
   "execution_count": 649,
   "metadata": {},
   "outputs": [],
   "source": [
    "# f = open(\"annie.pkl\",\"wb\")\n",
    "# pickle.dump(annie_data ,f)\n",
    "# f.close()"
   ]
  },
  {
   "cell_type": "code",
   "execution_count": 657,
   "metadata": {},
   "outputs": [],
   "source": [
    "# file = open(\"yang.pkl\",'rb')\n",
    "# f = pickle.load(file)\n",
    "# file.close()"
   ]
  },
  {
   "cell_type": "code",
   "execution_count": 409,
   "metadata": {},
   "outputs": [],
   "source": [
    "# import pickle\n",
    "# f = open(\"annie.pkl\",\"wb\")\n",
    "# pickle.dump(annie_data,f)\n",
    "# f.close()"
   ]
  },
  {
   "cell_type": "code",
   "execution_count": 410,
   "metadata": {
    "scrolled": false
   },
   "outputs": [],
   "source": [
    "# output = eng.voice_analysis(\"jack_a.wav\")\n",
    "# output = np.array(output)[0]"
   ]
  },
  {
   "cell_type": "code",
   "execution_count": 53,
   "metadata": {
    "scrolled": true
   },
   "outputs": [],
   "source": [
    "from scipy.io import loadmat\n",
    "names = loadmat('measures_names.mat')"
   ]
  },
  {
   "cell_type": "code",
   "execution_count": 19,
   "metadata": {},
   "outputs": [],
   "source": [
    "# np.save('output', output)\n",
    "# out_put = np.load('output.npy')"
   ]
  },
  {
   "cell_type": "code",
   "execution_count": 54,
   "metadata": {},
   "outputs": [],
   "source": [
    "name_list = []\n",
    "for name in dict(names)['measures_names'][0]:\n",
    "    name_list.append(name[0])"
   ]
  },
  {
   "cell_type": "code",
   "execution_count": 55,
   "metadata": {},
   "outputs": [],
   "source": [
    "df_jack = pd.DataFrame([name_list, output])\n",
    "df_jack.columns = df_jack.iloc[0]\n",
    "df_jack = df_jack.drop(df_jack.index[0]).reset_index(drop=True)"
   ]
  },
  {
   "cell_type": "code",
   "execution_count": 56,
   "metadata": {},
   "outputs": [],
   "source": [
    "jack = pd.concat([jack.T, df_jack.loc[0,['NHR_mean','HNR_mean', 'RPDE', 'DFA', 'PPE']]], axis=0).T\n",
    "jack = jack.astype(float)\n",
    "# localJitter, localabsoluteJitter, rapJitter, ppq5Jitter, ddpJitter, localShimmer, localdbShimmer, apq3Shimmer, aqpq5Shimmer, apq11Shimmer, ddaShimmer, hnr"
   ]
  },
  {
   "cell_type": "code",
   "execution_count": 58,
   "metadata": {
    "scrolled": true
   },
   "outputs": [
    {
     "data": {
      "text/html": [
       "<div>\n",
       "<style scoped>\n",
       "    .dataframe tbody tr th:only-of-type {\n",
       "        vertical-align: middle;\n",
       "    }\n",
       "\n",
       "    .dataframe tbody tr th {\n",
       "        vertical-align: top;\n",
       "    }\n",
       "\n",
       "    .dataframe thead th {\n",
       "        text-align: right;\n",
       "    }\n",
       "</style>\n",
       "<table border=\"1\" class=\"dataframe\">\n",
       "  <thead>\n",
       "    <tr style=\"text-align: right;\">\n",
       "      <th></th>\n",
       "      <th>0</th>\n",
       "      <th>1</th>\n",
       "      <th>2</th>\n",
       "      <th>3</th>\n",
       "      <th>4</th>\n",
       "      <th>5</th>\n",
       "      <th>6</th>\n",
       "      <th>7</th>\n",
       "      <th>8</th>\n",
       "      <th>9</th>\n",
       "      <th>10</th>\n",
       "      <th>11</th>\n",
       "      <th>NHR_mean</th>\n",
       "      <th>HNR_mean</th>\n",
       "      <th>RPDE</th>\n",
       "      <th>DFA</th>\n",
       "      <th>PPE</th>\n",
       "    </tr>\n",
       "  </thead>\n",
       "  <tbody>\n",
       "    <tr>\n",
       "      <th>0</th>\n",
       "      <td>0.004727</td>\n",
       "      <td>0.000022</td>\n",
       "      <td>0.002824</td>\n",
       "      <td>0.002775</td>\n",
       "      <td>0.008471</td>\n",
       "      <td>0.048975</td>\n",
       "      <td>0.426846</td>\n",
       "      <td>0.027498</td>\n",
       "      <td>0.030792</td>\n",
       "      <td>0.034791</td>\n",
       "      <td>0.082494</td>\n",
       "      <td>17.114632</td>\n",
       "      <td>0.080453</td>\n",
       "      <td>15.660484</td>\n",
       "      <td>0.576004</td>\n",
       "      <td>0.658519</td>\n",
       "      <td>0.223687</td>\n",
       "    </tr>\n",
       "  </tbody>\n",
       "</table>\n",
       "</div>"
      ],
      "text/plain": [
       "          0         1         2         3         4         5         6  \\\n",
       "0  0.004727  0.000022  0.002824  0.002775  0.008471  0.048975  0.426846   \n",
       "\n",
       "          7         8         9        10         11  NHR_mean   HNR_mean  \\\n",
       "0  0.027498  0.030792  0.034791  0.082494  17.114632  0.080453  15.660484   \n",
       "\n",
       "       RPDE       DFA       PPE  \n",
       "0  0.576004  0.658519  0.223687  "
      ]
     },
     "execution_count": 58,
     "metadata": {},
     "output_type": "execute_result"
    }
   ],
   "source": [
    "jack.head()"
   ]
  },
  {
   "cell_type": "code",
   "execution_count": 2,
   "metadata": {},
   "outputs": [],
   "source": [
    "# list(df_jack.columns)"
   ]
  },
  {
   "cell_type": "code",
   "execution_count": 94,
   "metadata": {},
   "outputs": [
    {
     "data": {
      "text/html": [
       "<div>\n",
       "<style scoped>\n",
       "    .dataframe tbody tr th:only-of-type {\n",
       "        vertical-align: middle;\n",
       "    }\n",
       "\n",
       "    .dataframe tbody tr th {\n",
       "        vertical-align: top;\n",
       "    }\n",
       "\n",
       "    .dataframe thead th {\n",
       "        text-align: right;\n",
       "    }\n",
       "</style>\n",
       "<table border=\"1\" class=\"dataframe\">\n",
       "  <thead>\n",
       "    <tr style=\"text-align: right;\">\n",
       "      <th></th>\n",
       "      <th>Jitter(%)</th>\n",
       "      <th>Jitter(Abs)</th>\n",
       "      <th>Jitter:RAP</th>\n",
       "      <th>Jitter:PPQ5</th>\n",
       "      <th>Jitter:DDP</th>\n",
       "      <th>Shimmer</th>\n",
       "      <th>Shimmer(dB)</th>\n",
       "      <th>Shimmer:APQ3</th>\n",
       "      <th>Shimmer:APQ5</th>\n",
       "      <th>Shimmer:APQ11</th>\n",
       "      <th>Shimmer:DDA</th>\n",
       "      <th>NHR</th>\n",
       "      <th>HNR</th>\n",
       "      <th>RPDE</th>\n",
       "      <th>DFA</th>\n",
       "      <th>PPE</th>\n",
       "    </tr>\n",
       "  </thead>\n",
       "  <tbody>\n",
       "    <tr>\n",
       "      <th>0</th>\n",
       "      <td>0.00662</td>\n",
       "      <td>0.000034</td>\n",
       "      <td>0.00401</td>\n",
       "      <td>0.00317</td>\n",
       "      <td>0.01204</td>\n",
       "      <td>0.02565</td>\n",
       "      <td>0.230</td>\n",
       "      <td>0.01438</td>\n",
       "      <td>0.01309</td>\n",
       "      <td>0.01662</td>\n",
       "      <td>0.04314</td>\n",
       "      <td>0.014290</td>\n",
       "      <td>21.640</td>\n",
       "      <td>0.41888</td>\n",
       "      <td>0.54842</td>\n",
       "      <td>0.16006</td>\n",
       "    </tr>\n",
       "    <tr>\n",
       "      <th>1</th>\n",
       "      <td>0.00300</td>\n",
       "      <td>0.000017</td>\n",
       "      <td>0.00132</td>\n",
       "      <td>0.00150</td>\n",
       "      <td>0.00395</td>\n",
       "      <td>0.02024</td>\n",
       "      <td>0.179</td>\n",
       "      <td>0.00994</td>\n",
       "      <td>0.01072</td>\n",
       "      <td>0.01689</td>\n",
       "      <td>0.02982</td>\n",
       "      <td>0.011112</td>\n",
       "      <td>27.183</td>\n",
       "      <td>0.43493</td>\n",
       "      <td>0.56477</td>\n",
       "      <td>0.10810</td>\n",
       "    </tr>\n",
       "    <tr>\n",
       "      <th>2</th>\n",
       "      <td>0.00481</td>\n",
       "      <td>0.000025</td>\n",
       "      <td>0.00205</td>\n",
       "      <td>0.00208</td>\n",
       "      <td>0.00616</td>\n",
       "      <td>0.01675</td>\n",
       "      <td>0.181</td>\n",
       "      <td>0.00734</td>\n",
       "      <td>0.00844</td>\n",
       "      <td>0.01458</td>\n",
       "      <td>0.02202</td>\n",
       "      <td>0.020220</td>\n",
       "      <td>23.047</td>\n",
       "      <td>0.46222</td>\n",
       "      <td>0.54405</td>\n",
       "      <td>0.21014</td>\n",
       "    </tr>\n",
       "    <tr>\n",
       "      <th>3</th>\n",
       "      <td>0.00528</td>\n",
       "      <td>0.000027</td>\n",
       "      <td>0.00191</td>\n",
       "      <td>0.00264</td>\n",
       "      <td>0.00573</td>\n",
       "      <td>0.02309</td>\n",
       "      <td>0.327</td>\n",
       "      <td>0.01106</td>\n",
       "      <td>0.01265</td>\n",
       "      <td>0.01963</td>\n",
       "      <td>0.03317</td>\n",
       "      <td>0.027837</td>\n",
       "      <td>24.445</td>\n",
       "      <td>0.48730</td>\n",
       "      <td>0.57794</td>\n",
       "      <td>0.33277</td>\n",
       "    </tr>\n",
       "    <tr>\n",
       "      <th>4</th>\n",
       "      <td>0.00335</td>\n",
       "      <td>0.000020</td>\n",
       "      <td>0.00093</td>\n",
       "      <td>0.00130</td>\n",
       "      <td>0.00278</td>\n",
       "      <td>0.01703</td>\n",
       "      <td>0.176</td>\n",
       "      <td>0.00679</td>\n",
       "      <td>0.00929</td>\n",
       "      <td>0.01819</td>\n",
       "      <td>0.02036</td>\n",
       "      <td>0.011625</td>\n",
       "      <td>26.126</td>\n",
       "      <td>0.47188</td>\n",
       "      <td>0.56122</td>\n",
       "      <td>0.19361</td>\n",
       "    </tr>\n",
       "  </tbody>\n",
       "</table>\n",
       "</div>"
      ],
      "text/plain": [
       "   Jitter(%)  Jitter(Abs)  Jitter:RAP  Jitter:PPQ5  Jitter:DDP  Shimmer  \\\n",
       "0    0.00662     0.000034     0.00401      0.00317     0.01204  0.02565   \n",
       "1    0.00300     0.000017     0.00132      0.00150     0.00395  0.02024   \n",
       "2    0.00481     0.000025     0.00205      0.00208     0.00616  0.01675   \n",
       "3    0.00528     0.000027     0.00191      0.00264     0.00573  0.02309   \n",
       "4    0.00335     0.000020     0.00093      0.00130     0.00278  0.01703   \n",
       "\n",
       "   Shimmer(dB)  Shimmer:APQ3  Shimmer:APQ5  Shimmer:APQ11  Shimmer:DDA  \\\n",
       "0        0.230       0.01438       0.01309        0.01662      0.04314   \n",
       "1        0.179       0.00994       0.01072        0.01689      0.02982   \n",
       "2        0.181       0.00734       0.00844        0.01458      0.02202   \n",
       "3        0.327       0.01106       0.01265        0.01963      0.03317   \n",
       "4        0.176       0.00679       0.00929        0.01819      0.02036   \n",
       "\n",
       "        NHR     HNR     RPDE      DFA      PPE  \n",
       "0  0.014290  21.640  0.41888  0.54842  0.16006  \n",
       "1  0.011112  27.183  0.43493  0.56477  0.10810  \n",
       "2  0.020220  23.047  0.46222  0.54405  0.21014  \n",
       "3  0.027837  24.445  0.48730  0.57794  0.33277  \n",
       "4  0.011625  26.126  0.47188  0.56122  0.19361  "
      ]
     },
     "execution_count": 94,
     "metadata": {},
     "output_type": "execute_result"
    }
   ],
   "source": [
    "X.head()"
   ]
  },
  {
   "cell_type": "code",
   "execution_count": 3,
   "metadata": {},
   "outputs": [],
   "source": [
    "# dict(zip(df_jack.columns, range(len(df_jack.columns))))"
   ]
  },
  {
   "cell_type": "code",
   "execution_count": 418,
   "metadata": {},
   "outputs": [],
   "source": [
    "# df_jack = pd.DataFrame([name_list, annie_data['Pd1.wav']])\n",
    "# df_jack.columns = df_jack.iloc[0]\n",
    "# df_jack = df_jack.drop(df_jack.index[0]).reset_index(drop=True)"
   ]
  },
  {
   "cell_type": "code",
   "execution_count": 706,
   "metadata": {},
   "outputs": [],
   "source": [
    "# jack.dtypes"
   ]
  },
  {
   "cell_type": "code",
   "execution_count": 420,
   "metadata": {},
   "outputs": [
    {
     "data": {
      "text/plain": [
       "Index(['subject#', 'age', 'sex', 'test_time', 'motor_UPDRS', 'total_UPDRS',\n",
       "       'Jitter(%)', 'Jitter(Abs)', 'Jitter:RAP', 'Jitter:PPQ5', 'Jitter:DDP',\n",
       "       'Shimmer', 'Shimmer(dB)', 'Shimmer:APQ3', 'Shimmer:APQ5',\n",
       "       'Shimmer:APQ11', 'Shimmer:DDA', 'NHR', 'HNR', 'RPDE', 'DFA', 'PPE'],\n",
       "      dtype='object')"
      ]
     },
     "execution_count": 420,
     "metadata": {},
     "output_type": "execute_result"
    }
   ],
   "source": [
    "df.columns"
   ]
  },
  {
   "cell_type": "code",
   "execution_count": 64,
   "metadata": {
    "scrolled": true
   },
   "outputs": [
    {
     "data": {
      "text/plain": [
       "total_UPDRS      1.000000\n",
       "Jitter(%)        0.074247\n",
       "Jitter(Abs)      0.066927\n",
       "Jitter:RAP       0.064015\n",
       "Jitter:PPQ5      0.063352\n",
       "Jitter:DDP       0.064027\n",
       "Shimmer          0.092141\n",
       "Shimmer(dB)      0.098790\n",
       "Shimmer:APQ3     0.079363\n",
       "Shimmer:APQ5     0.083467\n",
       "Shimmer:APQ11    0.120838\n",
       "Shimmer:DDA      0.079363\n",
       "NHR              0.060952\n",
       "HNR             -0.162117\n",
       "RPDE             0.156897\n",
       "DFA             -0.113475\n",
       "PPE              0.156195\n",
       "Name: total_UPDRS, dtype: float64"
      ]
     },
     "execution_count": 64,
     "metadata": {},
     "output_type": "execute_result"
    }
   ],
   "source": [
    "# correlation between response and features\n",
    "df.loc[:,'total_UPDRS':].corr()['total_UPDRS']"
   ]
  },
  {
   "cell_type": "code",
   "execution_count": 6,
   "metadata": {},
   "outputs": [],
   "source": [
    "# parkinson dataset for training\n",
    "df = pd.read_csv('parkinsons_updrs.data')"
   ]
  },
  {
   "cell_type": "code",
   "execution_count": 794,
   "metadata": {},
   "outputs": [],
   "source": [
    "# df = df.groupby('subject#').apply(lambda x: x.sample(10)).reset_index(drop=True)"
   ]
  },
  {
   "cell_type": "code",
   "execution_count": 7,
   "metadata": {},
   "outputs": [],
   "source": [
    "df = df.loc[:, 'total_UPDRS':'HNR']\n",
    "df = df.drop('NHR', axis=1)"
   ]
  },
  {
   "cell_type": "code",
   "execution_count": 8,
   "metadata": {},
   "outputs": [
    {
     "data": {
      "text/plain": [
       "(5875, 13)"
      ]
     },
     "execution_count": 8,
     "metadata": {},
     "output_type": "execute_result"
    }
   ],
   "source": [
    "df.shape"
   ]
  },
  {
   "cell_type": "code",
   "execution_count": 9,
   "metadata": {},
   "outputs": [],
   "source": [
    "from pathlib import Path\n",
    "\n",
    "df_pred = pd.DataFrame(columns=['Method', 'MAE', 'Prediction'])\n",
    "data = pd.DataFrame()\n",
    "\n",
    "for filename in Path('data').glob('*.wav'):\n",
    "    \n",
    "    filename = str(filename)\n",
    "    annie_file = filename[filename.rfind('\\\\')+1:]\n",
    "    \n",
    "    sound = parselmouth.Sound(filename)\n",
    "    jack = measurePitch(sound, 75, 400, \"Hertz\")\n",
    "    jack = pd.DataFrame(jack).T\n",
    "    data = data.append(jack)\n",
    "    \n",
    "data.insert(0, 'total_UPDRS', 0)"
   ]
  },
  {
   "cell_type": "code",
   "execution_count": 10,
   "metadata": {},
   "outputs": [
    {
     "data": {
      "text/plain": [
       "((5875, 13), (23, 13))"
      ]
     },
     "execution_count": 10,
     "metadata": {},
     "output_type": "execute_result"
    }
   ],
   "source": [
    "df.shape, data.shape"
   ]
  },
  {
   "cell_type": "code",
   "execution_count": 773,
   "metadata": {},
   "outputs": [],
   "source": [
    "data.to_csv('test_data.csv')"
   ]
  },
  {
   "cell_type": "code",
   "execution_count": 763,
   "metadata": {},
   "outputs": [],
   "source": [
    "# data.insert(0, 'total_UPDRS', 0)\n",
    "data.columns = df.columns\n",
    "df = df.append(data, ignore_index=True)"
   ]
  },
  {
   "cell_type": "code",
   "execution_count": 764,
   "metadata": {},
   "outputs": [
    {
     "data": {
      "text/plain": [
       "(5898, 13)"
      ]
     },
     "execution_count": 764,
     "metadata": {},
     "output_type": "execute_result"
    }
   ],
   "source": [
    "df.shape"
   ]
  },
  {
   "cell_type": "code",
   "execution_count": 765,
   "metadata": {},
   "outputs": [],
   "source": [
    "df['UPDRS_cat'] = pd.cut(df.total_UPDRS, [-1,5,10,15,20,25,30,35,40,45,50,55], labels=['0-5', '5-10', '10-15', '15-20','20-25',\n",
    "                                                '25-30','30-35','35-40','40-45','45-50','50-55'])"
   ]
  },
  {
   "cell_type": "code",
   "execution_count": 766,
   "metadata": {},
   "outputs": [],
   "source": [
    "df = df.groupby('UPDRS_cat').apply(lambda x: x.sample(20)).reset_index(drop=True)"
   ]
  },
  {
   "cell_type": "code",
   "execution_count": 770,
   "metadata": {},
   "outputs": [],
   "source": [
    "df.to_csv('smaller_data_balanced.csv')"
   ]
  },
  {
   "cell_type": "code",
   "execution_count": 11,
   "metadata": {
    "scrolled": true
   },
   "outputs": [
    {
     "name": "stderr",
     "output_type": "stream",
     "text": [
      "C:\\Users\\Jack\\Anaconda3\\lib\\site-packages\\sklearn\\ensemble\\weight_boosting.py:29: DeprecationWarning: numpy.core.umath_tests is an internal NumPy module and should not be imported. It will be removed in a future NumPy release.\n",
      "  from numpy.core.umath_tests import inner1d\n"
     ]
    }
   ],
   "source": [
    "from sklearn.linear_model import LinearRegression, Lasso, Ridge, LogisticRegression\n",
    "from sklearn.ensemble import RandomForestRegressor\n",
    "from sklearn.neighbors import KNeighborsRegressor\n",
    "from sklearn.feature_selection import SelectFromModel\n",
    "from sklearn.neural_network import MLPRegressor\n",
    "import numpy as np\n",
    "from sklearn.model_selection import train_test_split\n",
    "from sklearn.metrics import mean_squared_error, mean_absolute_error\n",
    "from sklearn.preprocessing import StandardScaler\n",
    "from sklearn.decomposition import PCA"
   ]
  },
  {
   "cell_type": "code",
   "execution_count": 12,
   "metadata": {},
   "outputs": [],
   "source": [
    "# dropping all the features we cannot get for now\n",
    "X = df.loc[:,'Jitter(%)':'HNR']\n",
    "\n",
    "y = df.total_UPDRS\n",
    "X_train, X_test, y_train, y_test = train_test_split(X, y, test_size=0.33)"
   ]
  },
  {
   "cell_type": "code",
   "execution_count": 13,
   "metadata": {},
   "outputs": [],
   "source": [
    "ss = StandardScaler()\n",
    "X_train = ss.fit_transform(X_train)\n",
    "X_test = ss.transform(X_test)\n",
    "jack = ss.transform(jack)"
   ]
  },
  {
   "cell_type": "code",
   "execution_count": 14,
   "metadata": {},
   "outputs": [
    {
     "data": {
      "text/plain": [
       "((1, 12), (5875, 12))"
      ]
     },
     "execution_count": 14,
     "metadata": {},
     "output_type": "execute_result"
    }
   ],
   "source": [
    "jack.shape, X.shape"
   ]
  },
  {
   "cell_type": "markdown",
   "metadata": {},
   "source": [
    "### Trying TensorFlow"
   ]
  },
  {
   "cell_type": "code",
   "execution_count": 110,
   "metadata": {},
   "outputs": [],
   "source": [
    "import tensorflow as tf\n",
    "import keras\n",
    "from tensorflow.keras import layers\n",
    "from keras.models import load_model\n",
    "from keras.utils import CustomObjectScope\n",
    "from keras.initializers import glorot_uniform"
   ]
  },
  {
   "cell_type": "code",
   "execution_count": 74,
   "metadata": {},
   "outputs": [],
   "source": [
    "def build_model():\n",
    "    model = keras.Sequential([\n",
    "    layers.Dense(10, activation=tf.nn.relu, input_shape=[X_train.shape[1]]),\n",
    "    layers.Dense(10, activation=tf.nn.relu),\n",
    "    layers.Dense(1)\n",
    "  ])\n",
    "\n",
    "    optimizer = tf.keras.optimizers.RMSprop(0.001)\n",
    "\n",
    "    model.compile(loss='mean_squared_error',\n",
    "                optimizer=optimizer,\n",
    "                metrics=['mean_absolute_error', 'mean_squared_error'])\n",
    "    return model"
   ]
  },
  {
   "cell_type": "code",
   "execution_count": 75,
   "metadata": {},
   "outputs": [],
   "source": [
    "model = build_model()"
   ]
  },
  {
   "cell_type": "code",
   "execution_count": 76,
   "metadata": {},
   "outputs": [
    {
     "name": "stdout",
     "output_type": "stream",
     "text": [
      "_________________________________________________________________\n",
      "Layer (type)                 Output Shape              Param #   \n",
      "=================================================================\n",
      "dense_9 (Dense)              (None, 10)                130       \n",
      "_________________________________________________________________\n",
      "dense_10 (Dense)             (None, 10)                110       \n",
      "_________________________________________________________________\n",
      "dense_11 (Dense)             (None, 1)                 11        \n",
      "=================================================================\n",
      "Total params: 251\n",
      "Trainable params: 251\n",
      "Non-trainable params: 0\n",
      "_________________________________________________________________\n"
     ]
    }
   ],
   "source": [
    "model.summary()"
   ]
  },
  {
   "cell_type": "code",
   "execution_count": 103,
   "metadata": {},
   "outputs": [],
   "source": [
    "model.save('tf_model.h5')"
   ]
  },
  {
   "cell_type": "code",
   "execution_count": 111,
   "metadata": {},
   "outputs": [],
   "source": [
    "with CustomObjectScope({'GlorotUniform': glorot_uniform()}):\n",
    "        model = load_model('tf_model.h5')"
   ]
  },
  {
   "cell_type": "code",
   "execution_count": 89,
   "metadata": {},
   "outputs": [
    {
     "data": {
      "text/plain": [
       "7.649831014123024"
      ]
     },
     "execution_count": 89,
     "metadata": {},
     "output_type": "execute_result"
    }
   ],
   "source": [
    "np.mean(np.abs(model.predict(X_test).reshape(-1)-y_test))"
   ]
  },
  {
   "cell_type": "code",
   "execution_count": 90,
   "metadata": {},
   "outputs": [
    {
     "data": {
      "text/plain": [
       "array([[-108.229866]], dtype=float32)"
      ]
     },
     "execution_count": 90,
     "metadata": {},
     "output_type": "execute_result"
    }
   ],
   "source": [
    "model.predict(jack)"
   ]
  },
  {
   "cell_type": "code",
   "execution_count": 236,
   "metadata": {},
   "outputs": [],
   "source": [
    "# pca = PCA(n_components=1)\n",
    "# X_trans = pca.fit_transform(X_train.loc[:,'Jitter(%)':'Shimmer:DDA'])\n",
    "# X_train = pd.concat([pd.DataFrame(X_trans).reset_index(drop=True, inplace=True), X_train.loc[:,'NHR':]], ignore_index=True, axis=1)"
   ]
  },
  {
   "cell_type": "code",
   "execution_count": 238,
   "metadata": {},
   "outputs": [],
   "source": [
    "# X_trans = pca.fit_transform(X_test.loc[:,'Jitter(%)':'Shimmer:DDA'])\n",
    "# X_test = pd.concat([pd.DataFrame(X_trans).reset_index(drop=True, inplace=True), X_test.loc[:,'NHR':]], ignore_index=True, axis=1)"
   ]
  },
  {
   "cell_type": "code",
   "execution_count": 245,
   "metadata": {
    "scrolled": false
   },
   "outputs": [
    {
     "name": "stderr",
     "output_type": "stream",
     "text": [
      "C:\\Users\\Jack\\Anaconda3\\lib\\site-packages\\sklearn\\decomposition\\pca.py:423: RuntimeWarning: invalid value encountered in true_divide\n",
      "  explained_variance_ = (S ** 2) / (n_samples - 1)\n"
     ]
    }
   ],
   "source": [
    "# X_trans = pca.fit_transform(jack.iloc[:,0:10])\n",
    "# jack = pd.concat([pd.DataFrame(X_trans).reset_index(drop=True, inplace=True), jack.loc[:,'NHR_mean':]], ignore_index=True, axis=1)"
   ]
  },
  {
   "cell_type": "code",
   "execution_count": 708,
   "metadata": {},
   "outputs": [],
   "source": [
    "df.to_csv('UPDRS_cat.csv')"
   ]
  },
  {
   "cell_type": "code",
   "execution_count": 706,
   "metadata": {},
   "outputs": [
    {
     "data": {
      "text/plain": [
       "25-30    1153\n",
       "30-35     937\n",
       "20-25     912\n",
       "15-20     769\n",
       "35-40     591\n",
       "40-45     562\n",
       "10-15     316\n",
       "45-50     231\n",
       "0-5       230\n",
       "50-55     213\n",
       "5-10      191\n",
       "Name: UPDRS_cat, dtype: int64"
      ]
     },
     "execution_count": 706,
     "metadata": {},
     "output_type": "execute_result"
    }
   ],
   "source": [
    "df.UPDRS_cat.value_counts()"
   ]
  },
  {
   "cell_type": "code",
   "execution_count": 704,
   "metadata": {},
   "outputs": [
    {
     "data": {
      "text/plain": [
       "0.2714640198511166"
      ]
     },
     "execution_count": 704,
     "metadata": {},
     "output_type": "execute_result"
    }
   ],
   "source": [
    "logit = LogisticRegression(penalty='l2')\n",
    "logit.fit(X_train, y_train)\n",
    "logit.score(X_test, y_test)"
   ]
  },
  {
   "cell_type": "code",
   "execution_count": 696,
   "metadata": {},
   "outputs": [
    {
     "data": {
      "text/plain": [
       "array(['0-5'], dtype=object)"
      ]
     },
     "execution_count": 696,
     "metadata": {},
     "output_type": "execute_result"
    }
   ],
   "source": [
    "logit.predict(jack)"
   ]
  },
  {
   "cell_type": "code",
   "execution_count": 29,
   "metadata": {},
   "outputs": [],
   "source": [
    "lr = LinearRegression().fit(X_train, y_train)"
   ]
  },
  {
   "cell_type": "code",
   "execution_count": 30,
   "metadata": {},
   "outputs": [
    {
     "data": {
      "text/plain": [
       "8.538291653791216"
      ]
     },
     "execution_count": 30,
     "metadata": {},
     "output_type": "execute_result"
    }
   ],
   "source": [
    "np.mean(np.abs(lr.predict(X_test)-y_test))"
   ]
  },
  {
   "cell_type": "code",
   "execution_count": 31,
   "metadata": {},
   "outputs": [
    {
     "data": {
      "text/plain": [
       "array([-26.57938853])"
      ]
     },
     "execution_count": 31,
     "metadata": {},
     "output_type": "execute_result"
    }
   ],
   "source": [
    "lr.predict(jack)"
   ]
  },
  {
   "cell_type": "code",
   "execution_count": 32,
   "metadata": {},
   "outputs": [
    {
     "ename": "NameError",
     "evalue": "name 'sns' is not defined",
     "output_type": "error",
     "traceback": [
      "\u001b[1;31m---------------------------------------------------------------------------\u001b[0m",
      "\u001b[1;31mNameError\u001b[0m                                 Traceback (most recent call last)",
      "\u001b[1;32m<ipython-input-32-7205f10adfb3>\u001b[0m in \u001b[0;36m<module>\u001b[1;34m()\u001b[0m\n\u001b[1;32m----> 1\u001b[1;33m \u001b[0msns\u001b[0m\u001b[1;33m.\u001b[0m\u001b[0mbarplot\u001b[0m\u001b[1;33m(\u001b[0m\u001b[0my\u001b[0m\u001b[1;33m=\u001b[0m\u001b[0mX\u001b[0m\u001b[1;33m.\u001b[0m\u001b[0mcolumns\u001b[0m\u001b[1;33m,\u001b[0m \u001b[0mx\u001b[0m\u001b[1;33m=\u001b[0m\u001b[0mlr\u001b[0m\u001b[1;33m.\u001b[0m\u001b[0mcoef_\u001b[0m\u001b[1;33m)\u001b[0m\u001b[1;33m\u001b[0m\u001b[0m\n\u001b[0m",
      "\u001b[1;31mNameError\u001b[0m: name 'sns' is not defined"
     ]
    }
   ],
   "source": [
    "sns.barplot(y=X.columns, x=lr.coef_)"
   ]
  },
  {
   "cell_type": "code",
   "execution_count": 33,
   "metadata": {},
   "outputs": [],
   "source": [
    "ridge = Ridge(alpha=0.001).fit(X_train, y_train)"
   ]
  },
  {
   "cell_type": "code",
   "execution_count": 34,
   "metadata": {},
   "outputs": [
    {
     "data": {
      "text/plain": [
       "8.537337155078122"
      ]
     },
     "execution_count": 34,
     "metadata": {},
     "output_type": "execute_result"
    }
   ],
   "source": [
    "np.mean(np.abs(ridge.predict(X_test)-y_test))"
   ]
  },
  {
   "cell_type": "code",
   "execution_count": 35,
   "metadata": {},
   "outputs": [
    {
     "data": {
      "text/plain": [
       "array([-31.80802282])"
      ]
     },
     "execution_count": 35,
     "metadata": {},
     "output_type": "execute_result"
    }
   ],
   "source": [
    "ridge.predict(jack)"
   ]
  },
  {
   "cell_type": "code",
   "execution_count": 36,
   "metadata": {},
   "outputs": [
    {
     "data": {
      "text/plain": [
       "array([ 3.02134765e+00, -1.74160488e+00, -1.28388511e+02, -1.14402872e+00,\n",
       "        1.27236340e+02, -5.88307326e-02,  2.61058926e+00, -2.58067044e+01,\n",
       "       -4.41343070e+00,  2.24185831e+00,  2.47867630e+01, -2.79636981e+00])"
      ]
     },
     "execution_count": 36,
     "metadata": {},
     "output_type": "execute_result"
    }
   ],
   "source": [
    "ridge.coef_"
   ]
  },
  {
   "cell_type": "code",
   "execution_count": 348,
   "metadata": {},
   "outputs": [
    {
     "data": {
      "text/plain": [
       "<matplotlib.axes._subplots.AxesSubplot at 0x2d0bd8577b8>"
      ]
     },
     "execution_count": 348,
     "metadata": {},
     "output_type": "execute_result"
    },
    {
     "data": {
      "image/png": "[encoded data removed]",
      "text/plain": [
       "<Figure size 432x288 with 1 Axes>"
      ]
     },
     "metadata": {},
     "output_type": "display_data"
    }
   ],
   "source": [
    "sns.barplot(y=X.columns, x=ridge.coef_)"
   ]
  },
  {
   "cell_type": "code",
   "execution_count": 43,
   "metadata": {},
   "outputs": [
    {
     "name": "stderr",
     "output_type": "stream",
     "text": [
      "C:\\Users\\Jack\\Anaconda3\\lib\\site-packages\\sklearn\\linear_model\\coordinate_descent.py:491: ConvergenceWarning: Objective did not converge. You might want to increase the number of iterations. Fitting data with very small alpha may cause precision problems.\n",
      "  ConvergenceWarning)\n"
     ]
    }
   ],
   "source": [
    "lasso = Lasso(alpha=0.01).fit(X_train, y_train)\n",
    "# model = SelectFromModel(lasso, prefit=True)\n",
    "# X_new = model.transform(X_train)"
   ]
  },
  {
   "cell_type": "code",
   "execution_count": 306,
   "metadata": {},
   "outputs": [],
   "source": [
    "X_new_test = model.transform(X_test)"
   ]
  },
  {
   "cell_type": "code",
   "execution_count": 44,
   "metadata": {},
   "outputs": [
    {
     "data": {
      "text/plain": [
       "8.529944523867869"
      ]
     },
     "execution_count": 44,
     "metadata": {},
     "output_type": "execute_result"
    }
   ],
   "source": [
    "np.mean(np.abs(lasso.predict(X_test)-y_test))"
   ]
  },
  {
   "cell_type": "code",
   "execution_count": 308,
   "metadata": {},
   "outputs": [
    {
     "data": {
      "text/plain": [
       "<matplotlib.axes._subplots.AxesSubplot at 0x2d0bd786a58>"
      ]
     },
     "execution_count": 308,
     "metadata": {},
     "output_type": "execute_result"
    },
    {
     "data": {
      "image/png": "[encoded data removed]",
      "text/plain": [
       "<Figure size 432x288 with 1 Axes>"
      ]
     },
     "metadata": {},
     "output_type": "display_data"
    }
   ],
   "source": [
    "sns.barplot(y=X.columns, x=lasso.coef_)"
   ]
  },
  {
   "cell_type": "code",
   "execution_count": 42,
   "metadata": {},
   "outputs": [
    {
     "ename": "NameError",
     "evalue": "name 'lasso' is not defined",
     "output_type": "error",
     "traceback": [
      "\u001b[1;31m---------------------------------------------------------------------------\u001b[0m",
      "\u001b[1;31mNameError\u001b[0m                                 Traceback (most recent call last)",
      "\u001b[1;32m<ipython-input-42-f75f7c7f5f7a>\u001b[0m in \u001b[0;36m<module>\u001b[1;34m()\u001b[0m\n\u001b[1;32m----> 1\u001b[1;33m \u001b[0mlasso\u001b[0m\u001b[1;33m.\u001b[0m\u001b[0mpredict\u001b[0m\u001b[1;33m(\u001b[0m\u001b[0mjack\u001b[0m\u001b[1;33m)\u001b[0m\u001b[1;33m\u001b[0m\u001b[0m\n\u001b[0m",
      "\u001b[1;31mNameError\u001b[0m: name 'lasso' is not defined"
     ]
    }
   ],
   "source": [
    "lasso.predict(jack)"
   ]
  },
  {
   "cell_type": "code",
   "execution_count": 790,
   "metadata": {},
   "outputs": [],
   "source": [
    "ridge = Ridge(alpha=0.001).fit(X_new, y_train)"
   ]
  },
  {
   "cell_type": "code",
   "execution_count": 791,
   "metadata": {},
   "outputs": [
    {
     "ename": "AttributeError",
     "evalue": "'Variable' object has no attribute 'transform'",
     "output_type": "error",
     "traceback": [
      "\u001b[1;31m---------------------------------------------------------------------------\u001b[0m",
      "\u001b[1;31mAttributeError\u001b[0m                            Traceback (most recent call last)",
      "\u001b[1;32m<ipython-input-791-50372300f235>\u001b[0m in \u001b[0;36m<module>\u001b[1;34m()\u001b[0m\n\u001b[1;32m----> 1\u001b[1;33m \u001b[0mnp\u001b[0m\u001b[1;33m.\u001b[0m\u001b[0mmean\u001b[0m\u001b[1;33m(\u001b[0m\u001b[0mnp\u001b[0m\u001b[1;33m.\u001b[0m\u001b[0mabs\u001b[0m\u001b[1;33m(\u001b[0m\u001b[0mridge\u001b[0m\u001b[1;33m.\u001b[0m\u001b[0mpredict\u001b[0m\u001b[1;33m(\u001b[0m\u001b[0mmodel\u001b[0m\u001b[1;33m.\u001b[0m\u001b[0mtransform\u001b[0m\u001b[1;33m(\u001b[0m\u001b[0mX_test\u001b[0m\u001b[1;33m)\u001b[0m\u001b[1;33m)\u001b[0m\u001b[1;33m-\u001b[0m\u001b[0my_test\u001b[0m\u001b[1;33m)\u001b[0m\u001b[1;33m)\u001b[0m\u001b[1;33m\u001b[0m\u001b[0m\n\u001b[0m",
      "\u001b[1;32m~\\Anaconda3\\lib\\site-packages\\cntk\\ops\\functions.py\u001b[0m in \u001b[0;36m__getattr__\u001b[1;34m(self, name)\u001b[0m\n\u001b[0;32m    522\u001b[0m                     \"exactly one\"%name)\n\u001b[0;32m    523\u001b[0m \u001b[1;33m\u001b[0m\u001b[0m\n\u001b[1;32m--> 524\u001b[1;33m         \u001b[1;32mreturn\u001b[0m \u001b[0mgetattr\u001b[0m\u001b[1;33m(\u001b[0m\u001b[0moutputs\u001b[0m\u001b[1;33m[\u001b[0m\u001b[1;36m0\u001b[0m\u001b[1;33m]\u001b[0m\u001b[1;33m,\u001b[0m \u001b[0mname\u001b[0m\u001b[1;33m)\u001b[0m\u001b[1;33m\u001b[0m\u001b[0m\n\u001b[0m\u001b[0;32m    525\u001b[0m \u001b[1;33m\u001b[0m\u001b[0m\n\u001b[0;32m    526\u001b[0m     \u001b[1;33m@\u001b[0m\u001b[0mproperty\u001b[0m\u001b[1;33m\u001b[0m\u001b[0m\n",
      "\u001b[1;32m~\\Anaconda3\\lib\\site-packages\\cntk\\cntk_py.py\u001b[0m in \u001b[0;36m<lambda>\u001b[1;34m(self, name)\u001b[0m\n\u001b[0;32m   1518\u001b[0m     \u001b[0m__setattr__\u001b[0m \u001b[1;33m=\u001b[0m \u001b[1;32mlambda\u001b[0m \u001b[0mself\u001b[0m\u001b[1;33m,\u001b[0m \u001b[0mname\u001b[0m\u001b[1;33m,\u001b[0m \u001b[0mvalue\u001b[0m\u001b[1;33m:\u001b[0m \u001b[0m_swig_setattr\u001b[0m\u001b[1;33m(\u001b[0m\u001b[0mself\u001b[0m\u001b[1;33m,\u001b[0m \u001b[0mVariable\u001b[0m\u001b[1;33m,\u001b[0m \u001b[0mname\u001b[0m\u001b[1;33m,\u001b[0m \u001b[0mvalue\u001b[0m\u001b[1;33m)\u001b[0m\u001b[1;33m\u001b[0m\u001b[0m\n\u001b[0;32m   1519\u001b[0m     \u001b[0m__swig_getmethods__\u001b[0m \u001b[1;33m=\u001b[0m \u001b[1;33m{\u001b[0m\u001b[1;33m}\u001b[0m\u001b[1;33m\u001b[0m\u001b[0m\n\u001b[1;32m-> 1520\u001b[1;33m     \u001b[0m__getattr__\u001b[0m \u001b[1;33m=\u001b[0m \u001b[1;32mlambda\u001b[0m \u001b[0mself\u001b[0m\u001b[1;33m,\u001b[0m \u001b[0mname\u001b[0m\u001b[1;33m:\u001b[0m \u001b[0m_swig_getattr\u001b[0m\u001b[1;33m(\u001b[0m\u001b[0mself\u001b[0m\u001b[1;33m,\u001b[0m \u001b[0mVariable\u001b[0m\u001b[1;33m,\u001b[0m \u001b[0mname\u001b[0m\u001b[1;33m)\u001b[0m\u001b[1;33m\u001b[0m\u001b[0m\n\u001b[0m\u001b[0;32m   1521\u001b[0m \u001b[1;33m\u001b[0m\u001b[0m\n\u001b[0;32m   1522\u001b[0m     \u001b[1;32mdef\u001b[0m \u001b[0mshape\u001b[0m\u001b[1;33m(\u001b[0m\u001b[0mself\u001b[0m\u001b[1;33m)\u001b[0m\u001b[1;33m:\u001b[0m\u001b[1;33m\u001b[0m\u001b[0m\n",
      "\u001b[1;32m~\\Anaconda3\\lib\\site-packages\\cntk\\cntk_py.py\u001b[0m in \u001b[0;36m_swig_getattr\u001b[1;34m(self, class_type, name)\u001b[0m\n\u001b[0;32m     81\u001b[0m     \u001b[1;32mif\u001b[0m \u001b[0mmethod\u001b[0m\u001b[1;33m:\u001b[0m\u001b[1;33m\u001b[0m\u001b[0m\n\u001b[0;32m     82\u001b[0m         \u001b[1;32mreturn\u001b[0m \u001b[0mmethod\u001b[0m\u001b[1;33m(\u001b[0m\u001b[0mself\u001b[0m\u001b[1;33m)\u001b[0m\u001b[1;33m\u001b[0m\u001b[0m\n\u001b[1;32m---> 83\u001b[1;33m     \u001b[1;32mraise\u001b[0m \u001b[0mAttributeError\u001b[0m\u001b[1;33m(\u001b[0m\u001b[1;34m\"'%s' object has no attribute '%s'\"\u001b[0m \u001b[1;33m%\u001b[0m \u001b[1;33m(\u001b[0m\u001b[0mclass_type\u001b[0m\u001b[1;33m.\u001b[0m\u001b[0m__name__\u001b[0m\u001b[1;33m,\u001b[0m \u001b[0mname\u001b[0m\u001b[1;33m)\u001b[0m\u001b[1;33m)\u001b[0m\u001b[1;33m\u001b[0m\u001b[0m\n\u001b[0m\u001b[0;32m     84\u001b[0m \u001b[1;33m\u001b[0m\u001b[0m\n\u001b[0;32m     85\u001b[0m \u001b[1;33m\u001b[0m\u001b[0m\n",
      "\u001b[1;31mAttributeError\u001b[0m: 'Variable' object has no attribute 'transform'"
     ]
    }
   ],
   "source": [
    "np.mean(np.abs(ridge.predict(model.transform(X_test))-y_test))"
   ]
  },
  {
   "cell_type": "code",
   "execution_count": 37,
   "metadata": {},
   "outputs": [],
   "source": [
    "rf = RandomForestRegressor(n_estimators=50).fit(X_train, y_train)"
   ]
  },
  {
   "cell_type": "code",
   "execution_count": 38,
   "metadata": {},
   "outputs": [
    {
     "data": {
      "text/plain": [
       "7.586312102981408"
      ]
     },
     "execution_count": 38,
     "metadata": {},
     "output_type": "execute_result"
    }
   ],
   "source": [
    "np.mean(np.abs(rf.predict(X_test)-y_test))"
   ]
  },
  {
   "cell_type": "code",
   "execution_count": 39,
   "metadata": {},
   "outputs": [
    {
     "data": {
      "text/plain": [
       "array([17.6380664])"
      ]
     },
     "execution_count": 39,
     "metadata": {},
     "output_type": "execute_result"
    }
   ],
   "source": [
    "rf.predict(jack)"
   ]
  },
  {
   "cell_type": "code",
   "execution_count": 99,
   "metadata": {},
   "outputs": [
    {
     "data": {
      "text/plain": [
       "Index(['Jitter(%)', 'Jitter(Abs)', 'Jitter:RAP', 'Jitter:PPQ5', 'Jitter:DDP',\n",
       "       'Shimmer', 'Shimmer(dB)', 'Shimmer:APQ3', 'Shimmer:APQ5',\n",
       "       'Shimmer:APQ11', 'Shimmer:DDA', 'HNR'],\n",
       "      dtype='object')"
      ]
     },
     "execution_count": 99,
     "metadata": {},
     "output_type": "execute_result"
    }
   ],
   "source": [
    "X.columns"
   ]
  },
  {
   "cell_type": "code",
   "execution_count": 100,
   "metadata": {},
   "outputs": [
    {
     "data": {
      "text/plain": [
       "array([0.08494547, 0.13838799, 0.04359886, 0.09131897, 0.05146226,\n",
       "       0.06012184, 0.0649833 , 0.04784395, 0.07554107, 0.10266817,\n",
       "       0.05248123, 0.18664689])"
      ]
     },
     "execution_count": 100,
     "metadata": {},
     "output_type": "execute_result"
    }
   ],
   "source": [
    "rf.feature_importances_"
   ]
  },
  {
   "cell_type": "code",
   "execution_count": 101,
   "metadata": {},
   "outputs": [
    {
     "data": {
      "text/plain": [
       "<matplotlib.axes._subplots.AxesSubplot at 0x2d0bd235a58>"
      ]
     },
     "execution_count": 101,
     "metadata": {},
     "output_type": "execute_result"
    },
    {
     "data": {
      "image/png": "[encoded data removed]",
      "text/plain": [
       "<Figure size 432x288 with 1 Axes>"
      ]
     },
     "metadata": {},
     "output_type": "display_data"
    }
   ],
   "source": [
    "sns.barplot(y=X.columns, x=rf.feature_importances_)"
   ]
  },
  {
   "cell_type": "code",
   "execution_count": 102,
   "metadata": {},
   "outputs": [],
   "source": [
    "import lightgbm as lgb"
   ]
  },
  {
   "cell_type": "code",
   "execution_count": 315,
   "metadata": {},
   "outputs": [
    {
     "name": "stdout",
     "output_type": "stream",
     "text": [
      "Starting training...\n",
      "[1]\tvalid_0's l1: 11.3438\tvalid_0's l2: 199.584\n",
      "Training until validation scores don't improve for 5 rounds.\n",
      "[2]\tvalid_0's l1: 11.0811\tvalid_0's l2: 189.021\n",
      "[3]\tvalid_0's l1: 10.8544\tvalid_0's l2: 180.027\n",
      "[4]\tvalid_0's l1: 10.6297\tvalid_0's l2: 171.61\n",
      "[5]\tvalid_0's l1: 10.4302\tvalid_0's l2: 164.265\n",
      "[6]\tvalid_0's l1: 10.2494\tvalid_0's l2: 157.65\n",
      "[7]\tvalid_0's l1: 10.0626\tvalid_0's l2: 151.238\n",
      "[8]\tvalid_0's l1: 9.88962\tvalid_0's l2: 145.449\n",
      "[9]\tvalid_0's l1: 9.73103\tvalid_0's l2: 140.227\n",
      "[10]\tvalid_0's l1: 9.58282\tvalid_0's l2: 135.498\n",
      "[11]\tvalid_0's l1: 9.44242\tvalid_0's l2: 131.179\n",
      "[12]\tvalid_0's l1: 9.31421\tvalid_0's l2: 127.266\n",
      "[13]\tvalid_0's l1: 9.1906\tvalid_0's l2: 123.658\n",
      "[14]\tvalid_0's l1: 9.07756\tvalid_0's l2: 120.45\n",
      "[15]\tvalid_0's l1: 8.97023\tvalid_0's l2: 117.609\n",
      "[16]\tvalid_0's l1: 8.85986\tvalid_0's l2: 114.651\n",
      "[17]\tvalid_0's l1: 8.76048\tvalid_0's l2: 112.191\n",
      "[18]\tvalid_0's l1: 8.67189\tvalid_0's l2: 110.071\n",
      "[19]\tvalid_0's l1: 8.59205\tvalid_0's l2: 108.126\n",
      "[20]\tvalid_0's l1: 8.51162\tvalid_0's l2: 106.385\n",
      "Did not meet early stopping. Best iteration is:\n",
      "[20]\tvalid_0's l1: 8.51162\tvalid_0's l2: 106.385\n",
      "The mean absolute error of prediction is: 8.51162109277452\n"
     ]
    },
    {
     "data": {
      "text/plain": [
       "array([24.24222903])"
      ]
     },
     "execution_count": 315,
     "metadata": {},
     "output_type": "execute_result"
    }
   ],
   "source": [
    "lgb_train = lgb.Dataset(X_train, y_train)\n",
    "lgb_eval = lgb.Dataset(X_test, y_test, reference=lgb_train)\n",
    "\n",
    "# specify your configurations as a dict\n",
    "params = {\n",
    "    'boosting_type': 'gbdt',\n",
    "    'objective': 'regression',\n",
    "    'metric': {'l2', 'l1'},\n",
    "    'num_leaves': 100,\n",
    "    'learning_rate': 0.05,\n",
    "    'feature_fraction': 0.9,\n",
    "    'bagging_fraction': 0.8,\n",
    "    'bagging_freq': 5,\n",
    "    'verbose': 0\n",
    "}\n",
    "\n",
    "print('Starting training...')\n",
    "# train\n",
    "gbm = lgb.train(params,\n",
    "                lgb_train,\n",
    "                num_boost_round=20,\n",
    "                valid_sets=lgb_eval,\n",
    "                early_stopping_rounds=5)\n",
    "y_pred = gbm.predict(X_test, num_iteration=gbm.best_iteration)\n",
    "print('The mean absolute error of prediction is:', mean_absolute_error(y_test, y_pred))\n",
    "gbm.predict(jack)"
   ]
  },
  {
   "cell_type": "code",
   "execution_count": 104,
   "metadata": {},
   "outputs": [
    {
     "name": "stdout",
     "output_type": "stream",
     "text": [
      "[1]\tvalid_0's l1: 8.75017\tvalid_0's l2: 115.603\n",
      "Training until validation scores don't improve for 5 rounds.\n",
      "[2]\tvalid_0's l1: 8.68917\tvalid_0's l2: 114.093\n",
      "[3]\tvalid_0's l1: 8.62745\tvalid_0's l2: 112.623\n",
      "[4]\tvalid_0's l1: 8.57749\tvalid_0's l2: 111.386\n",
      "[5]\tvalid_0's l1: 8.53023\tvalid_0's l2: 110.159\n",
      "[6]\tvalid_0's l1: 8.4869\tvalid_0's l2: 109.137\n",
      "[7]\tvalid_0's l1: 8.45177\tvalid_0's l2: 108.332\n",
      "[8]\tvalid_0's l1: 8.40979\tvalid_0's l2: 107.483\n",
      "[9]\tvalid_0's l1: 8.37871\tvalid_0's l2: 106.826\n",
      "[10]\tvalid_0's l1: 8.34333\tvalid_0's l2: 106.179\n",
      "Did not meet early stopping. Best iteration is:\n",
      "[10]\tvalid_0's l1: 8.34333\tvalid_0's l2: 106.179\n",
      "Starting predicting...\n",
      "The mean absolute error of prediction is: 8.343328184772853\n",
      "Feature importances: [84, 152, 61, 121, 23, 48, 67, 97, 79, 110, 11, 137]\n"
     ]
    }
   ],
   "source": [
    "# train\n",
    "gbm = lgb.LGBMRegressor(num_leaves=100,\n",
    "                        learning_rate=0.05,\n",
    "                        n_estimators=10,\n",
    "                        lambda_l1=2)\n",
    "gbm.fit(X_train, y_train,\n",
    "        eval_set=[(X_test, y_test)],\n",
    "        eval_metric='l1',\n",
    "        early_stopping_rounds=5)\n",
    "\n",
    "print('Starting predicting...')\n",
    "# predict\n",
    "y_pred = gbm.predict(X_test, num_iteration=gbm.best_iteration_)\n",
    "# eval\n",
    "print('The mean absolute error of prediction is:', mean_absolute_error(y_test, y_pred))\n",
    "\n",
    "# feature importances\n",
    "print('Feature importances:', list(gbm.feature_importances_))"
   ]
  },
  {
   "cell_type": "code",
   "execution_count": 105,
   "metadata": {},
   "outputs": [
    {
     "data": {
      "text/plain": [
       "array([28.04144588])"
      ]
     },
     "execution_count": 105,
     "metadata": {},
     "output_type": "execute_result"
    }
   ],
   "source": [
    "gbm.predict(jack)"
   ]
  },
  {
   "cell_type": "code",
   "execution_count": 107,
   "metadata": {},
   "outputs": [
    {
     "data": {
      "text/plain": [
       "8.473808840041848"
      ]
     },
     "execution_count": 107,
     "metadata": {},
     "output_type": "execute_result"
    }
   ],
   "source": [
    "nn = MLPRegressor()\n",
    "nn.fit(X_train, y_train)\n",
    "np.mean(np.abs(nn.predict(X_test)-y_test))"
   ]
  },
  {
   "cell_type": "code",
   "execution_count": 108,
   "metadata": {},
   "outputs": [
    {
     "data": {
      "text/plain": [
       "array([30.25559406])"
      ]
     },
     "execution_count": 108,
     "metadata": {},
     "output_type": "execute_result"
    }
   ],
   "source": [
    "nn.predict(jack)"
   ]
  },
  {
   "cell_type": "code",
   "execution_count": 109,
   "metadata": {},
   "outputs": [
    {
     "data": {
      "text/plain": [
       "array([32.8966])"
      ]
     },
     "execution_count": 109,
     "metadata": {},
     "output_type": "execute_result"
    }
   ],
   "source": [
    "knn = KNeighborsRegressor()\n",
    "knn.fit(X_train, y_train)\n",
    "knn.predict(jack)"
   ]
  },
  {
   "cell_type": "markdown",
   "metadata": {},
   "source": [
    "### CNTK"
   ]
  },
  {
   "cell_type": "code",
   "execution_count": 454,
   "metadata": {},
   "outputs": [
    {
     "name": "stderr",
     "output_type": "stream",
     "text": [
      "C:\\Users\\Jack\\Anaconda3\\lib\\site-packages\\cntk\\cntk_py_init.py:84: UserWarning: \n",
      "\n",
      "################################################ Missing optional dependency (GPU-Specific) ################################################\n",
      "   CNTK may crash if the component that depends on those dependencies is loaded.\n",
      "   Visit https://docs.microsoft.com/en-us/cognitive-toolkit/Setup-Windows-Python#optional-gpu-specific-packages for more information.\n",
      "############################################################################################################################################\n",
      "If you intend to use CNTK without GPU support, you can ignore the (likely) GPU-specific warning!\n",
      "############################################################################################################################################\n",
      "\n",
      "  warnings.warn(WARNING_MSG_GPU_ONLY % ('GPU-Specific', 'https://docs.microsoft.com/en-us/cognitive-toolkit/Setup-Windows-Python#optional-gpu-specific-packages'))\n"
     ]
    }
   ],
   "source": [
    "import cntk as C\n",
    "import cntk.tests.test_utils"
   ]
  },
  {
   "cell_type": "code",
   "execution_count": 618,
   "metadata": {},
   "outputs": [
    {
     "data": {
      "text/plain": [
       "((4090, 12), (4090,))"
      ]
     },
     "execution_count": 618,
     "metadata": {},
     "output_type": "execute_result"
    }
   ],
   "source": [
    "X_train.shape, y_train.shape"
   ]
  },
  {
   "cell_type": "code",
   "execution_count": 619,
   "metadata": {},
   "outputs": [],
   "source": [
    "y_train = y_train.values"
   ]
  },
  {
   "cell_type": "code",
   "execution_count": 620,
   "metadata": {},
   "outputs": [],
   "source": [
    "y_train = y_train.reshape(y_train.shape[0],1)"
   ]
  },
  {
   "cell_type": "code",
   "execution_count": 637,
   "metadata": {},
   "outputs": [],
   "source": [
    "features = C.input_variable(12)\n",
    "label = C.input_variable(1)\n",
    "model = C.layers.Sequential([C.layers.Dense(10, activation=C.relu), \n",
    "                             C.layers.Dense(10, activation=C.relu), C.layers.Dense(1)])(features)\n",
    "loss = C.squared_error(model, label)\n",
    "result = model(features)"
   ]
  },
  {
   "cell_type": "code",
   "execution_count": 638,
   "metadata": {},
   "outputs": [
    {
     "name": "stdout",
     "output_type": "stream",
     "text": [
      " average      since    average      since      examples\n",
      "    loss       last     metric       last              \n",
      " ------------------------------------------------------\n"
     ]
    },
    {
     "name": "stderr",
     "output_type": "stream",
     "text": [
      "C:\\Users\\Jack\\Anaconda3\\lib\\site-packages\\cntk\\core.py:361: UserWarning: your data is of type \"float64\", but your input variable (uid \"Input7975\") expects \"<class 'numpy.float32'>\". Please convert your data beforehand to speed up training.\n",
      "  (sample.dtype, var.uid, str(var.dtype)))\n",
      "C:\\Users\\Jack\\Anaconda3\\lib\\site-packages\\cntk\\core.py:82: RuntimeWarning: data is not C contiguous; rearrange your data/computation to avoid costly data conversions\n",
      "  RuntimeWarning)\n",
      "C:\\Users\\Jack\\Anaconda3\\lib\\site-packages\\cntk\\core.py:361: UserWarning: your data is of type \"float64\", but your input variable (uid \"Input7976\") expects \"<class 'numpy.float32'>\". Please convert your data beforehand to speed up training.\n",
      "  (sample.dtype, var.uid, str(var.dtype)))\n"
     ]
    },
    {
     "data": {
      "text/plain": [
       "True"
      ]
     },
     "execution_count": 638,
     "metadata": {},
     "output_type": "execute_result"
    }
   ],
   "source": [
    "learner = C.sgd(model.parameters,\n",
    "                C.learning_parameter_schedule(0.1))\n",
    "progress_writer = C.logging.ProgressPrinter(0)\n",
    "\n",
    "trainer = C.Trainer(result, loss, [learner])\n",
    "trainer.train_minibatch({features: X_train, label: y_train})"
   ]
  },
  {
   "cell_type": "code",
   "execution_count": 639,
   "metadata": {},
   "outputs": [
    {
     "name": "stderr",
     "output_type": "stream",
     "text": [
      "C:\\Users\\Jack\\Anaconda3\\lib\\site-packages\\cntk\\core.py:361: UserWarning: your data is of type \"float64\", but your input variable (uid \"Input7975\") expects \"<class 'numpy.float32'>\". Please convert your data beforehand to speed up training.\n",
      "  (sample.dtype, var.uid, str(var.dtype)))\n",
      "C:\\Users\\Jack\\Anaconda3\\lib\\site-packages\\cntk\\core.py:82: RuntimeWarning: data is not C contiguous; rearrange your data/computation to avoid costly data conversions\n",
      "  RuntimeWarning)\n"
     ]
    },
    {
     "data": {
      "text/plain": [
       "22.649319903367573"
      ]
     },
     "execution_count": 639,
     "metadata": {},
     "output_type": "execute_result"
    }
   ],
   "source": [
    "np.mean(np.abs(trainer.model.eval(X_test).reshape(-1)-y_test))"
   ]
  },
  {
   "cell_type": "code",
   "execution_count": 550,
   "metadata": {},
   "outputs": [
    {
     "name": "stdout",
     "output_type": "stream",
     "text": [
      " average      since    average      since      examples\n",
      "    loss       last     metric       last              \n",
      " ------------------------------------------------------\n"
     ]
    }
   ],
   "source": [
    "mean = 10\n",
    "stdev = 2 \n",
    "x = np.random.normal(mean, stdev, 1000)\n",
    "y = 2 * x + 25\n",
    "\n",
    "inputs = C.input_variable(1) #Number of variables\n",
    "labels = C.input_variable(1) #Number of results\n",
    "layer1 = C.layers.Dense(100, activation = C.relu) #input layer with 1000 neurons\n",
    "layer2 = C.layers.Dense(100, activation = C.relu) #hidden layer with 1000 neurons\n",
    "layer3 = C.layers.Dense(1, activation = None) #output layer with 1 neuron\n",
    "model1 = C.layers.Sequential([layer1, layer2, layer3])\n",
    "result = model1(inputs)\n",
    "loss = C.squared_error(result, labels)\n",
    "learner = C.sgd(model1.parameters, C.learning_parameter_schedule(0.01))\n",
    "progress_writer = C.logging.ProgressPrinter(0) "
   ]
  },
  {
   "cell_type": "code",
   "execution_count": 552,
   "metadata": {},
   "outputs": [
    {
     "name": "stderr",
     "output_type": "stream",
     "text": [
      "C:\\Users\\Jack\\Anaconda3\\lib\\site-packages\\cntk\\core.py:361: UserWarning: your data is of type \"float64\", but your input variable (uid \"Input4462\") expects \"<class 'numpy.float32'>\". Please convert your data beforehand to speed up training.\n",
      "  (sample.dtype, var.uid, str(var.dtype)))\n",
      "C:\\Users\\Jack\\Anaconda3\\lib\\site-packages\\cntk\\core.py:361: UserWarning: your data is of type \"float64\", but your input variable (uid \"Input4463\") expects \"<class 'numpy.float32'>\". Please convert your data beforehand to speed up training.\n",
      "  (sample.dtype, var.uid, str(var.dtype)))\n"
     ]
    },
    {
     "data": {
      "text/plain": [
       "True"
      ]
     },
     "execution_count": 552,
     "metadata": {},
     "output_type": "execute_result"
    }
   ],
   "source": [
    "x = x.reshape(1000,1)\n",
    "y = y.reshape(1000,1)\n",
    "trainer = C.Trainer(result, loss, [learner])\n",
    "trainer.train_minibatch({inputs: x, labels: y})"
   ]
  },
  {
   "cell_type": "code",
   "execution_count": 562,
   "metadata": {},
   "outputs": [
    {
     "data": {
      "text/plain": [
       "['_ProgressCollector',\n",
       " '__abs__',\n",
       " '__add__',\n",
       " '__call__',\n",
       " '__class__',\n",
       " '__del__',\n",
       " '__delattr__',\n",
       " '__dict__',\n",
       " '__dir__',\n",
       " '__disown__',\n",
       " '__div__',\n",
       " '__doc__',\n",
       " '__eq__',\n",
       " '__format__',\n",
       " '__ge__',\n",
       " '__getattr__',\n",
       " '__getattribute__',\n",
       " '__getitem__',\n",
       " '__gt__',\n",
       " '__hash__',\n",
       " '__init__',\n",
       " '__init_subclass__',\n",
       " '__le__',\n",
       " '__lshift__',\n",
       " '__lt__',\n",
       " '__matmul__',\n",
       " '__module__',\n",
       " '__mul__',\n",
       " '__ne__',\n",
       " '__neg__',\n",
       " '__new__',\n",
       " '__radd__',\n",
       " '__rdiv__',\n",
       " '__reduce__',\n",
       " '__reduce_ex__',\n",
       " '__repr__',\n",
       " '__rmatmul__',\n",
       " '__rmul__',\n",
       " '__rshift__',\n",
       " '__rsub__',\n",
       " '__rtruediv__',\n",
       " '__setattr__',\n",
       " '__sizeof__',\n",
       " '__str__',\n",
       " '__sub__',\n",
       " '__subclasshook__',\n",
       " '__swig_destroy__',\n",
       " '__swig_getmethods__',\n",
       " '__swig_setmethods__',\n",
       " '__truediv__',\n",
       " '__weakref__',\n",
       " '_backward',\n",
       " '_deserialize',\n",
       " '_deserializer',\n",
       " '_forward',\n",
       " '_get_or_reset_custom_attributes',\n",
       " '_infer_outputs',\n",
       " '_placeholders_under_construction',\n",
       " '_replace_args_type_check',\n",
       " '_s',\n",
       " '_sanitize_check_Function',\n",
       " '_serialize_impl',\n",
       " '_to_Function',\n",
       " '_to_Function_unchecked',\n",
       " '_udf_callback_map',\n",
       " 'argument_map',\n",
       " 'arguments',\n",
       " 'as_string',\n",
       " 'attributes',\n",
       " 'backward',\n",
       " 'block_arguments_mapping',\n",
       " 'block_root',\n",
       " 'clone',\n",
       " 'clone_flattened',\n",
       " 'constants',\n",
       " 'current_version',\n",
       " 'custom_attributes',\n",
       " 'declare_args',\n",
       " 'deserialize_method_name',\n",
       " 'eval',\n",
       " 'evaluate',\n",
       " 'find_all_with_name',\n",
       " 'find_by_name',\n",
       " 'forward',\n",
       " 'get_custom_attributes',\n",
       " 'grad',\n",
       " 'gradients',\n",
       " 'inputs',\n",
       " 'is_block',\n",
       " 'is_composite',\n",
       " 'is_primitive',\n",
       " 'load',\n",
       " 'load_from_buffer',\n",
       " 'max_num_outputs',\n",
       " 'module_name',\n",
       " 'name',\n",
       " 'native_user_function',\n",
       " 'op_name',\n",
       " 'output',\n",
       " 'outputs',\n",
       " 'parameters',\n",
       " 'placeholders',\n",
       " 'print_node_timing',\n",
       " 'register_native_user_function',\n",
       " 'register_udf_deserialize_callback',\n",
       " 'replace_placeholder',\n",
       " 'replace_placeholders',\n",
       " 'reset_custom_attributes',\n",
       " 'restore',\n",
       " 'restore_from_checkpoint',\n",
       " 'root_function',\n",
       " 'save',\n",
       " 'serialize',\n",
       " 'set_attribute',\n",
       " 'set_name',\n",
       " 'set_native',\n",
       " 'signature',\n",
       " 'test',\n",
       " 'this',\n",
       " 'train',\n",
       " 'type',\n",
       " 'uid',\n",
       " 'update_signature',\n",
       " 'with_signature']"
      ]
     },
     "execution_count": 562,
     "metadata": {},
     "output_type": "execute_result"
    }
   ],
   "source": [
    "dir(trainer.model)"
   ]
  },
  {
   "cell_type": "code",
   "execution_count": 566,
   "metadata": {},
   "outputs": [
    {
     "name": "stderr",
     "output_type": "stream",
     "text": [
      "C:\\Users\\Jack\\Anaconda3\\lib\\site-packages\\cntk\\core.py:361: UserWarning: your data is of type \"float64\", but your input variable (uid \"Input4462\") expects \"<class 'numpy.float32'>\". Please convert your data beforehand to speed up training.\n",
      "  (sample.dtype, var.uid, str(var.dtype)))\n"
     ]
    },
    {
     "data": {
      "text/plain": [
       "array([[ 838.12177],\n",
       "       [ 606.9196 ],\n",
       "       [ 479.54025],\n",
       "       [ 837.68964],\n",
       "       [ 832.5358 ],\n",
       "       [ 758.0389 ],\n",
       "       [ 674.51434],\n",
       "       [ 562.76697],\n",
       "       [ 862.9046 ],\n",
       "       [ 853.65155],\n",
       "       [ 374.6837 ],\n",
       "       [ 583.0605 ],\n",
       "       [ 663.9653 ],\n",
       "       [ 740.80206],\n",
       "       [ 465.13617],\n",
       "       [ 775.1882 ],\n",
       "       [ 573.75433],\n",
       "       [ 929.0035 ],\n",
       "       [ 752.103  ],\n",
       "       [ 730.3945 ],\n",
       "       [ 534.6678 ],\n",
       "       [ 568.7215 ],\n",
       "       [ 687.33026],\n",
       "       [ 761.53143],\n",
       "       [ 886.4226 ],\n",
       "       [ 744.47235],\n",
       "       [ 802.5172 ],\n",
       "       [ 619.2801 ],\n",
       "       [ 496.21213],\n",
       "       [ 478.28537],\n",
       "       [ 485.10947],\n",
       "       [ 772.88916],\n",
       "       [ 901.384  ],\n",
       "       [ 784.50494],\n",
       "       [ 816.23895],\n",
       "       [ 695.3764 ],\n",
       "       [ 637.5053 ],\n",
       "       [ 444.66867],\n",
       "       [ 805.9074 ],\n",
       "       [ 541.886  ],\n",
       "       [ 835.8599 ],\n",
       "       [ 449.6169 ],\n",
       "       [ 633.702  ],\n",
       "       [ 674.90643],\n",
       "       [ 801.42053],\n",
       "       [ 584.74176],\n",
       "       [ 836.26013],\n",
       "       [ 686.94446],\n",
       "       [ 814.4935 ],\n",
       "       [ 750.1071 ],\n",
       "       [ 558.65186],\n",
       "       [ 421.7523 ],\n",
       "       [ 794.54504],\n",
       "       [ 689.0826 ],\n",
       "       [ 869.41864],\n",
       "       [ 500.22357],\n",
       "       [1048.4282 ],\n",
       "       [ 814.099  ],\n",
       "       [ 676.6014 ],\n",
       "       [ 977.43463],\n",
       "       [ 697.6402 ],\n",
       "       [ 809.9213 ],\n",
       "       [ 905.51166],\n",
       "       [ 770.7819 ],\n",
       "       [ 616.03546],\n",
       "       [ 613.7137 ],\n",
       "       [ 904.59125],\n",
       "       [ 734.2164 ],\n",
       "       [ 510.99252],\n",
       "       [ 675.15497],\n",
       "       [ 589.5582 ],\n",
       "       [ 874.4551 ],\n",
       "       [ 840.7757 ],\n",
       "       [ 726.68396],\n",
       "       [ 594.26434],\n",
       "       [ 565.8521 ],\n",
       "       [ 860.4045 ],\n",
       "       [ 746.20404],\n",
       "       [ 838.3813 ],\n",
       "       [ 986.6893 ],\n",
       "       [ 847.28925],\n",
       "       [ 711.79126],\n",
       "       [ 606.0534 ],\n",
       "       [ 255.7822 ],\n",
       "       [1015.71234],\n",
       "       [ 730.06805],\n",
       "       [ 629.00616],\n",
       "       [ 648.49023],\n",
       "       [ 597.14233],\n",
       "       [ 914.83356],\n",
       "       [ 663.8033 ],\n",
       "       [ 833.07587],\n",
       "       [ 738.74396],\n",
       "       [ 917.2443 ],\n",
       "       [ 612.8683 ],\n",
       "       [ 604.2248 ],\n",
       "       [ 552.227  ],\n",
       "       [ 656.96246],\n",
       "       [1062.1467 ],\n",
       "       [ 865.4036 ],\n",
       "       [ 838.76935],\n",
       "       [ 786.0999 ],\n",
       "       [ 769.70447],\n",
       "       [ 801.1026 ],\n",
       "       [ 871.25006],\n",
       "       [ 790.6449 ],\n",
       "       [ 908.1998 ],\n",
       "       [ 677.70575],\n",
       "       [ 605.9975 ],\n",
       "       [ 879.18646],\n",
       "       [ 802.26215],\n",
       "       [ 707.88605],\n",
       "       [ 654.84155],\n",
       "       [ 898.34894],\n",
       "       [ 681.7026 ],\n",
       "       [ 952.8587 ],\n",
       "       [ 715.80634],\n",
       "       [ 779.52264],\n",
       "       [ 769.9445 ],\n",
       "       [ 556.9141 ],\n",
       "       [ 717.448  ],\n",
       "       [ 498.62234],\n",
       "       [ 659.2699 ],\n",
       "       [ 720.01465],\n",
       "       [ 815.732  ],\n",
       "       [ 655.10077],\n",
       "       [ 949.5329 ],\n",
       "       [ 893.0939 ],\n",
       "       [ 554.3434 ],\n",
       "       [1031.7877 ],\n",
       "       [ 625.92523],\n",
       "       [ 932.84735],\n",
       "       [ 925.0208 ],\n",
       "       [ 431.5154 ],\n",
       "       [ 866.35724],\n",
       "       [ 784.6818 ],\n",
       "       [ 839.1235 ],\n",
       "       [ 635.03534],\n",
       "       [ 735.29266],\n",
       "       [ 687.2586 ],\n",
       "       [ 746.7579 ],\n",
       "       [ 832.27423],\n",
       "       [ 742.8535 ],\n",
       "       [ 613.65717],\n",
       "       [ 656.9993 ],\n",
       "       [ 535.5573 ],\n",
       "       [ 712.6215 ],\n",
       "       [ 781.42145],\n",
       "       [ 903.12775],\n",
       "       [ 775.2964 ],\n",
       "       [ 522.866  ],\n",
       "       [ 650.3074 ],\n",
       "       [ 787.04486],\n",
       "       [ 996.92285],\n",
       "       [ 679.0444 ],\n",
       "       [ 628.21936],\n",
       "       [1047.4064 ],\n",
       "       [ 868.95557],\n",
       "       [ 846.6225 ],\n",
       "       [ 903.70355],\n",
       "       [ 726.2768 ],\n",
       "       [ 596.16   ],\n",
       "       [ 625.0616 ],\n",
       "       [ 801.0738 ],\n",
       "       [ 599.4764 ],\n",
       "       [ 644.28   ],\n",
       "       [ 954.1693 ],\n",
       "       [ 471.3086 ],\n",
       "       [ 696.90845],\n",
       "       [ 551.5863 ],\n",
       "       [ 654.77045],\n",
       "       [ 864.90173],\n",
       "       [ 843.28986],\n",
       "       [ 542.3678 ],\n",
       "       [ 686.1925 ],\n",
       "       [ 635.5771 ],\n",
       "       [ 686.864  ],\n",
       "       [ 651.2204 ],\n",
       "       [ 727.6894 ],\n",
       "       [ 774.17694],\n",
       "       [ 727.5541 ],\n",
       "       [ 629.99164],\n",
       "       [ 768.7382 ],\n",
       "       [ 464.17892],\n",
       "       [ 613.1327 ],\n",
       "       [ 664.3712 ],\n",
       "       [ 519.36237],\n",
       "       [ 807.66864],\n",
       "       [ 884.64996],\n",
       "       [ 620.0822 ],\n",
       "       [ 638.3522 ],\n",
       "       [ 510.2364 ],\n",
       "       [ 785.98224],\n",
       "       [ 744.11176],\n",
       "       [ 772.3338 ],\n",
       "       [ 530.21246],\n",
       "       [ 708.6241 ],\n",
       "       [ 965.67236],\n",
       "       [1069.1736 ],\n",
       "       [ 655.76794],\n",
       "       [ 734.86774],\n",
       "       [ 713.49695],\n",
       "       [ 794.94415],\n",
       "       [ 563.1558 ],\n",
       "       [ 851.38666],\n",
       "       [ 724.9538 ],\n",
       "       [ 668.79584],\n",
       "       [ 549.7204 ],\n",
       "       [ 473.53653],\n",
       "       [ 919.36444],\n",
       "       [ 541.06476],\n",
       "       [ 409.97116],\n",
       "       [ 855.3858 ],\n",
       "       [ 555.25543],\n",
       "       [ 452.7027 ],\n",
       "       [ 830.1093 ],\n",
       "       [ 717.949  ],\n",
       "       [ 898.4444 ],\n",
       "       [ 672.0352 ],\n",
       "       [ 690.2263 ],\n",
       "       [ 564.5518 ],\n",
       "       [ 628.08905],\n",
       "       [ 675.59894],\n",
       "       [ 746.5412 ],\n",
       "       [ 596.29694],\n",
       "       [ 627.28326],\n",
       "       [ 600.7593 ],\n",
       "       [ 735.04755],\n",
       "       [ 756.8217 ],\n",
       "       [ 499.04773],\n",
       "       [ 804.20416],\n",
       "       [ 677.887  ],\n",
       "       [ 625.4767 ],\n",
       "       [ 619.8588 ],\n",
       "       [ 603.92487],\n",
       "       [1035.0392 ],\n",
       "       [ 813.78156],\n",
       "       [ 639.2028 ],\n",
       "       [ 878.0371 ],\n",
       "       [ 977.1746 ],\n",
       "       [ 676.0416 ],\n",
       "       [ 552.5605 ],\n",
       "       [ 719.0953 ],\n",
       "       [ 824.7631 ],\n",
       "       [ 949.81476],\n",
       "       [ 426.61954],\n",
       "       [ 690.2874 ],\n",
       "       [ 579.2981 ],\n",
       "       [ 892.92664],\n",
       "       [ 715.7437 ],\n",
       "       [ 499.11398],\n",
       "       [ 630.7328 ],\n",
       "       [ 718.8123 ],\n",
       "       [ 742.6227 ],\n",
       "       [ 780.43524],\n",
       "       [ 891.1407 ],\n",
       "       [ 443.18057],\n",
       "       [ 903.3659 ],\n",
       "       [ 808.0434 ],\n",
       "       [ 729.4782 ],\n",
       "       [ 592.5927 ],\n",
       "       [ 416.00766],\n",
       "       [ 962.59784],\n",
       "       [ 908.0136 ],\n",
       "       [ 576.8895 ],\n",
       "       [ 734.7018 ],\n",
       "       [ 915.6131 ],\n",
       "       [ 597.32446],\n",
       "       [ 653.09106],\n",
       "       [ 774.09784],\n",
       "       [ 448.86392],\n",
       "       [ 435.62723],\n",
       "       [ 552.3891 ],\n",
       "       [ 696.5074 ],\n",
       "       [ 689.89215],\n",
       "       [ 635.63654],\n",
       "       [ 839.39465],\n",
       "       [ 937.9498 ],\n",
       "       [ 786.5101 ],\n",
       "       [ 701.7965 ],\n",
       "       [ 674.8184 ],\n",
       "       [ 628.58997],\n",
       "       [ 483.65005],\n",
       "       [ 890.3334 ],\n",
       "       [ 556.73737],\n",
       "       [ 834.6983 ],\n",
       "       [ 764.7743 ],\n",
       "       [1120.0038 ],\n",
       "       [ 697.68726],\n",
       "       [ 833.60547],\n",
       "       [ 452.47464],\n",
       "       [ 423.48013],\n",
       "       [ 872.1309 ],\n",
       "       [ 617.1046 ],\n",
       "       [ 881.47565],\n",
       "       [ 766.21515],\n",
       "       [ 645.7475 ],\n",
       "       [ 571.25275],\n",
       "       [ 592.7129 ],\n",
       "       [ 675.1982 ],\n",
       "       [ 662.90424],\n",
       "       [ 620.34357],\n",
       "       [ 681.0594 ],\n",
       "       [ 753.8162 ],\n",
       "       [ 747.7485 ],\n",
       "       [ 574.5625 ],\n",
       "       [ 632.13776],\n",
       "       [ 716.35565],\n",
       "       [ 673.4323 ],\n",
       "       [ 998.2502 ],\n",
       "       [ 783.9631 ],\n",
       "       [ 872.34125],\n",
       "       [ 691.2183 ],\n",
       "       [ 582.8862 ],\n",
       "       [ 795.08435],\n",
       "       [ 517.2852 ],\n",
       "       [ 502.92923],\n",
       "       [ 710.1818 ],\n",
       "       [ 996.14777],\n",
       "       [ 897.45844],\n",
       "       [1025.2882 ],\n",
       "       [ 547.44257],\n",
       "       [ 733.3222 ],\n",
       "       [ 434.32678],\n",
       "       [ 742.0026 ],\n",
       "       [ 916.46344],\n",
       "       [ 627.46295],\n",
       "       [ 678.17993],\n",
       "       [ 916.5119 ],\n",
       "       [ 620.2192 ],\n",
       "       [ 710.1328 ],\n",
       "       [ 672.20087],\n",
       "       [ 968.75214],\n",
       "       [ 986.78235],\n",
       "       [ 524.1077 ],\n",
       "       [ 736.4422 ],\n",
       "       [ 811.0744 ],\n",
       "       [ 551.09796],\n",
       "       [ 737.03644],\n",
       "       [ 765.22565],\n",
       "       [ 353.48196],\n",
       "       [ 598.10657],\n",
       "       [ 530.17523],\n",
       "       [ 628.3425 ],\n",
       "       [ 784.29407],\n",
       "       [ 581.8603 ],\n",
       "       [ 500.8254 ],\n",
       "       [ 620.758  ],\n",
       "       [ 653.91254],\n",
       "       [ 753.1255 ],\n",
       "       [ 782.84406],\n",
       "       [ 594.4355 ],\n",
       "       [ 762.7945 ],\n",
       "       [ 582.9763 ],\n",
       "       [ 691.84845],\n",
       "       [ 709.8708 ],\n",
       "       [ 809.18616],\n",
       "       [ 500.85648],\n",
       "       [ 664.48627],\n",
       "       [ 666.07434],\n",
       "       [ 676.21075],\n",
       "       [ 771.8117 ],\n",
       "       [ 484.87875],\n",
       "       [ 765.95435],\n",
       "       [ 880.6214 ],\n",
       "       [ 823.9426 ],\n",
       "       [ 670.6309 ],\n",
       "       [ 689.973  ],\n",
       "       [ 512.32086],\n",
       "       [ 764.9792 ],\n",
       "       [ 635.1719 ],\n",
       "       [ 658.6475 ],\n",
       "       [ 762.2034 ],\n",
       "       [ 821.42535],\n",
       "       [ 821.07025],\n",
       "       [ 583.731  ],\n",
       "       [ 676.8536 ],\n",
       "       [ 701.98724],\n",
       "       [ 724.25354],\n",
       "       [ 600.587  ],\n",
       "       [ 597.6354 ],\n",
       "       [ 700.76324],\n",
       "       [ 656.8066 ],\n",
       "       [ 794.02747],\n",
       "       [ 586.45465],\n",
       "       [ 855.288  ],\n",
       "       [ 490.29254],\n",
       "       [ 603.9257 ],\n",
       "       [ 443.9294 ],\n",
       "       [ 681.26654],\n",
       "       [ 801.44635],\n",
       "       [ 817.105  ],\n",
       "       [ 708.1174 ],\n",
       "       [ 497.57266],\n",
       "       [ 706.68243],\n",
       "       [ 747.0982 ],\n",
       "       [ 780.98517],\n",
       "       [ 864.77466],\n",
       "       [ 742.55414],\n",
       "       [ 556.2803 ],\n",
       "       [ 788.425  ],\n",
       "       [ 732.01373],\n",
       "       [ 614.5346 ],\n",
       "       [ 532.2156 ],\n",
       "       [ 616.3923 ],\n",
       "       [ 611.4649 ],\n",
       "       [ 642.19684],\n",
       "       [ 761.2928 ],\n",
       "       [ 972.6337 ],\n",
       "       [ 779.13086],\n",
       "       [ 648.5621 ],\n",
       "       [ 691.37823],\n",
       "       [ 926.4472 ],\n",
       "       [ 619.3606 ],\n",
       "       [ 948.3228 ],\n",
       "       [ 804.3989 ],\n",
       "       [ 900.50934],\n",
       "       [1034.6049 ],\n",
       "       [ 856.3112 ],\n",
       "       [ 704.885  ],\n",
       "       [ 760.39777],\n",
       "       [ 782.7787 ],\n",
       "       [ 536.2426 ],\n",
       "       [ 856.96924],\n",
       "       [ 854.57623],\n",
       "       [ 627.3091 ],\n",
       "       [ 558.97876],\n",
       "       [ 823.4605 ],\n",
       "       [ 772.3365 ],\n",
       "       [ 531.8298 ],\n",
       "       [ 647.1338 ],\n",
       "       [ 501.30426],\n",
       "       [ 691.33   ],\n",
       "       [ 479.25204],\n",
       "       [ 791.72235],\n",
       "       [ 704.8957 ],\n",
       "       [ 829.7496 ],\n",
       "       [ 794.72235],\n",
       "       [ 957.82855],\n",
       "       [ 784.2901 ],\n",
       "       [ 728.7701 ],\n",
       "       [ 850.49457],\n",
       "       [ 587.76636],\n",
       "       [ 624.15045],\n",
       "       [ 998.7579 ],\n",
       "       [ 800.0967 ],\n",
       "       [ 946.82294],\n",
       "       [ 813.62103],\n",
       "       [ 618.1917 ],\n",
       "       [ 727.387  ],\n",
       "       [ 773.5837 ],\n",
       "       [ 553.5124 ],\n",
       "       [ 617.992  ],\n",
       "       [ 640.7534 ],\n",
       "       [ 605.59564],\n",
       "       [ 742.0749 ],\n",
       "       [ 675.3547 ],\n",
       "       [ 659.64276],\n",
       "       [ 638.85565],\n",
       "       [ 576.07   ],\n",
       "       [ 869.814  ],\n",
       "       [ 573.4443 ],\n",
       "       [ 610.31006],\n",
       "       [ 501.73886],\n",
       "       [ 807.5012 ],\n",
       "       [ 803.73785],\n",
       "       [ 668.41095],\n",
       "       [ 897.4223 ],\n",
       "       [ 658.159  ],\n",
       "       [ 547.1834 ],\n",
       "       [ 379.02612],\n",
       "       [ 711.0914 ],\n",
       "       [ 859.73346],\n",
       "       [ 619.30255],\n",
       "       [ 770.8218 ],\n",
       "       [ 860.11847],\n",
       "       [ 718.419  ],\n",
       "       [ 642.2837 ],\n",
       "       [ 517.0768 ],\n",
       "       [ 658.997  ],\n",
       "       [ 714.788  ],\n",
       "       [ 834.0403 ],\n",
       "       [ 642.1429 ],\n",
       "       [ 473.3488 ],\n",
       "       [ 660.57745],\n",
       "       [ 634.0572 ],\n",
       "       [1052.6829 ],\n",
       "       [ 660.09784],\n",
       "       [ 630.3668 ],\n",
       "       [ 798.0936 ],\n",
       "       [ 625.718  ],\n",
       "       [ 586.4596 ],\n",
       "       [ 847.4062 ],\n",
       "       [ 842.61993],\n",
       "       [ 605.93396],\n",
       "       [ 670.31573],\n",
       "       [ 636.0792 ],\n",
       "       [ 429.433  ],\n",
       "       [ 712.0126 ],\n",
       "       [ 628.21265],\n",
       "       [ 780.30304],\n",
       "       [ 811.2421 ],\n",
       "       [ 500.00717],\n",
       "       [ 674.9722 ],\n",
       "       [ 854.9628 ],\n",
       "       [ 541.65216],\n",
       "       [ 875.7751 ],\n",
       "       [ 920.7703 ],\n",
       "       [ 652.3995 ],\n",
       "       [ 710.0904 ],\n",
       "       [ 736.2757 ],\n",
       "       [ 870.534  ],\n",
       "       [ 557.7096 ],\n",
       "       [ 631.8714 ],\n",
       "       [ 830.51544],\n",
       "       [ 801.48334],\n",
       "       [ 619.6268 ],\n",
       "       [ 702.73364],\n",
       "       [ 777.37555],\n",
       "       [ 834.31   ],\n",
       "       [ 465.2085 ],\n",
       "       [ 704.8814 ],\n",
       "       [ 737.77203],\n",
       "       [ 592.03424],\n",
       "       [ 686.95746],\n",
       "       [ 869.769  ],\n",
       "       [ 636.8833 ],\n",
       "       [ 602.14984],\n",
       "       [ 505.03372],\n",
       "       [ 949.4992 ],\n",
       "       [ 878.89954],\n",
       "       [ 757.6106 ],\n",
       "       [ 845.7459 ],\n",
       "       [ 635.0683 ],\n",
       "       [ 643.0878 ],\n",
       "       [ 720.04193],\n",
       "       [ 660.0538 ],\n",
       "       [ 638.378  ],\n",
       "       [ 485.81323],\n",
       "       [ 741.2153 ],\n",
       "       [ 683.19916],\n",
       "       [ 239.20187],\n",
       "       [ 610.71075],\n",
       "       [ 694.1638 ],\n",
       "       [ 511.25693],\n",
       "       [ 930.22943],\n",
       "       [ 765.4162 ],\n",
       "       [ 699.8662 ],\n",
       "       [ 671.4531 ],\n",
       "       [ 652.15643],\n",
       "       [ 780.6847 ],\n",
       "       [ 722.33356],\n",
       "       [1004.4389 ],\n",
       "       [ 696.56287],\n",
       "       [ 614.9257 ],\n",
       "       [ 439.65176],\n",
       "       [1113.0499 ],\n",
       "       [ 862.7282 ],\n",
       "       [ 825.3802 ],\n",
       "       [ 810.50165],\n",
       "       [ 451.45532],\n",
       "       [ 549.9265 ],\n",
       "       [ 813.4899 ],\n",
       "       [ 787.4494 ],\n",
       "       [ 862.6556 ],\n",
       "       [ 795.0983 ],\n",
       "       [ 572.53326],\n",
       "       [ 706.9983 ],\n",
       "       [ 336.24362],\n",
       "       [ 830.18976],\n",
       "       [ 730.04285],\n",
       "       [ 891.10944],\n",
       "       [ 767.6434 ],\n",
       "       [ 910.4675 ],\n",
       "       [ 597.53754],\n",
       "       [ 722.25604],\n",
       "       [ 653.4144 ],\n",
       "       [ 532.1386 ],\n",
       "       [ 827.91455],\n",
       "       [ 677.357  ],\n",
       "       [ 408.13528],\n",
       "       [ 583.172  ],\n",
       "       [1015.1093 ],\n",
       "       [ 578.9306 ],\n",
       "       [ 699.4449 ],\n",
       "       [ 575.19086],\n",
       "       [ 589.8645 ],\n",
       "       [ 668.9593 ],\n",
       "       [ 805.09894],\n",
       "       [ 938.7735 ],\n",
       "       [ 962.4873 ],\n",
       "       [ 714.6347 ],\n",
       "       [ 485.1879 ],\n",
       "       [ 716.2984 ],\n",
       "       [ 510.34476],\n",
       "       [ 821.7768 ],\n",
       "       [ 483.52982],\n",
       "       [ 782.8319 ],\n",
       "       [ 781.2663 ],\n",
       "       [ 757.2807 ],\n",
       "       [ 831.08563],\n",
       "       [ 707.2518 ],\n",
       "       [ 555.08246],\n",
       "       [ 810.4314 ],\n",
       "       [ 616.0756 ],\n",
       "       [ 684.6236 ],\n",
       "       [ 585.3049 ],\n",
       "       [ 476.76517],\n",
       "       [ 673.99335],\n",
       "       [ 642.42523],\n",
       "       [ 554.1419 ],\n",
       "       [ 808.30206],\n",
       "       [ 986.00214],\n",
       "       [ 695.5427 ],\n",
       "       [ 601.92145],\n",
       "       [ 788.7624 ],\n",
       "       [ 721.0651 ],\n",
       "       [ 686.09686],\n",
       "       [ 775.2874 ],\n",
       "       [ 592.2866 ],\n",
       "       [ 673.11017],\n",
       "       [ 913.4352 ],\n",
       "       [ 743.83105],\n",
       "       [ 576.46783],\n",
       "       [ 716.1904 ],\n",
       "       [ 715.5882 ],\n",
       "       [ 667.7923 ],\n",
       "       [ 678.25385],\n",
       "       [ 866.9687 ],\n",
       "       [ 864.1612 ],\n",
       "       [ 908.06726],\n",
       "       [ 682.54926],\n",
       "       [ 869.515  ],\n",
       "       [ 871.0294 ],\n",
       "       [ 757.7059 ],\n",
       "       [ 778.64154],\n",
       "       [ 858.0289 ],\n",
       "       [ 754.5678 ],\n",
       "       [ 779.43475],\n",
       "       [ 755.7153 ],\n",
       "       [ 910.3099 ],\n",
       "       [ 556.8835 ],\n",
       "       [ 749.8293 ],\n",
       "       [ 788.13434],\n",
       "       [ 727.5699 ],\n",
       "       [ 713.1353 ],\n",
       "       [ 478.70828],\n",
       "       [ 668.9373 ],\n",
       "       [ 944.33527],\n",
       "       [ 685.012  ],\n",
       "       [ 797.41315],\n",
       "       [ 610.2752 ],\n",
       "       [ 788.9162 ],\n",
       "       [ 646.7793 ],\n",
       "       [ 929.1929 ],\n",
       "       [ 490.67413],\n",
       "       [ 636.96466],\n",
       "       [ 814.3018 ],\n",
       "       [ 730.31067],\n",
       "       [ 748.469  ],\n",
       "       [ 792.6681 ],\n",
       "       [ 507.21384],\n",
       "       [ 789.3119 ],\n",
       "       [ 715.37366],\n",
       "       [ 501.6952 ],\n",
       "       [ 576.4049 ],\n",
       "       [ 891.0064 ],\n",
       "       [ 586.58795],\n",
       "       [ 682.47626],\n",
       "       [ 887.15137],\n",
       "       [ 609.86786],\n",
       "       [ 645.2458 ],\n",
       "       [ 849.1502 ],\n",
       "       [ 434.95993],\n",
       "       [ 840.12866],\n",
       "       [ 592.92706],\n",
       "       [ 804.1287 ],\n",
       "       [ 945.3146 ],\n",
       "       [ 871.4211 ],\n",
       "       [ 676.7791 ],\n",
       "       [ 740.28094],\n",
       "       [ 790.409  ],\n",
       "       [ 969.3114 ],\n",
       "       [ 646.26636],\n",
       "       [ 433.2563 ],\n",
       "       [ 701.2963 ],\n",
       "       [ 642.65094],\n",
       "       [ 766.26874],\n",
       "       [ 623.139  ],\n",
       "       [ 941.64246],\n",
       "       [ 780.366  ],\n",
       "       [ 723.5953 ],\n",
       "       [ 694.5925 ],\n",
       "       [ 724.5195 ],\n",
       "       [ 590.09485],\n",
       "       [ 882.998  ],\n",
       "       [ 735.70734],\n",
       "       [ 839.70575],\n",
       "       [ 953.8844 ],\n",
       "       [ 906.86993],\n",
       "       [ 374.1363 ],\n",
       "       [ 540.92554],\n",
       "       [ 994.53296],\n",
       "       [ 670.06866],\n",
       "       [ 873.9965 ],\n",
       "       [ 789.80743],\n",
       "       [ 662.9461 ],\n",
       "       [ 552.5896 ],\n",
       "       [ 739.9857 ],\n",
       "       [ 519.0796 ],\n",
       "       [ 849.117  ],\n",
       "       [ 712.22485],\n",
       "       [ 718.2695 ],\n",
       "       [ 904.331  ],\n",
       "       [ 898.49475],\n",
       "       [ 583.87384],\n",
       "       [ 727.97345],\n",
       "       [ 773.7817 ],\n",
       "       [ 657.71875],\n",
       "       [ 512.8156 ],\n",
       "       [ 610.30865],\n",
       "       [ 628.4894 ],\n",
       "       [ 490.6122 ],\n",
       "       [ 879.936  ],\n",
       "       [ 693.6683 ],\n",
       "       [ 819.1286 ],\n",
       "       [ 747.8615 ],\n",
       "       [ 815.5854 ],\n",
       "       [ 716.6789 ],\n",
       "       [ 444.81644],\n",
       "       [ 548.30365],\n",
       "       [ 996.3031 ],\n",
       "       [ 766.7421 ],\n",
       "       [ 767.0594 ],\n",
       "       [ 574.65564],\n",
       "       [ 745.11884],\n",
       "       [ 657.011  ],\n",
       "       [ 714.11066],\n",
       "       [ 639.5445 ],\n",
       "       [ 697.35126],\n",
       "       [ 544.55304],\n",
       "       [ 701.2233 ],\n",
       "       [ 664.46295],\n",
       "       [ 789.51276],\n",
       "       [ 786.5429 ],\n",
       "       [ 641.69763],\n",
       "       [ 523.79   ],\n",
       "       [ 739.0314 ],\n",
       "       [ 827.0195 ],\n",
       "       [ 506.179  ],\n",
       "       [1150.0684 ],\n",
       "       [ 860.0671 ],\n",
       "       [ 644.6235 ],\n",
       "       [ 766.98706],\n",
       "       [ 507.02036],\n",
       "       [ 649.80084],\n",
       "       [ 765.2963 ],\n",
       "       [ 533.0026 ],\n",
       "       [ 871.59045],\n",
       "       [ 741.4562 ],\n",
       "       [ 806.43414],\n",
       "       [ 415.22287],\n",
       "       [ 867.0802 ],\n",
       "       [ 754.66595],\n",
       "       [ 792.1884 ],\n",
       "       [ 655.421  ],\n",
       "       [ 836.8431 ],\n",
       "       [ 718.6829 ],\n",
       "       [ 688.608  ],\n",
       "       [ 779.48364],\n",
       "       [ 441.79245],\n",
       "       [ 559.7204 ],\n",
       "       [ 736.63495],\n",
       "       [ 749.06854],\n",
       "       [ 883.74225],\n",
       "       [ 748.0795 ],\n",
       "       [ 662.49066],\n",
       "       [ 729.45953],\n",
       "       [ 832.19525],\n",
       "       [ 822.4069 ],\n",
       "       [ 760.5428 ],\n",
       "       [ 742.57306],\n",
       "       [ 579.5975 ],\n",
       "       [ 723.1207 ],\n",
       "       [ 902.7475 ],\n",
       "       [ 780.2313 ],\n",
       "       [ 612.2047 ],\n",
       "       [ 657.1111 ],\n",
       "       [ 693.5791 ],\n",
       "       [ 585.7689 ],\n",
       "       [ 633.1039 ],\n",
       "       [ 896.38116],\n",
       "       [ 716.5201 ],\n",
       "       [ 709.1916 ],\n",
       "       [ 695.98517],\n",
       "       [ 590.2105 ],\n",
       "       [ 786.59204],\n",
       "       [ 809.7194 ],\n",
       "       [ 689.61865],\n",
       "       [ 732.59717],\n",
       "       [ 582.82117],\n",
       "       [ 847.94183],\n",
       "       [ 444.26428],\n",
       "       [ 810.1471 ],\n",
       "       [ 753.9292 ],\n",
       "       [ 641.5896 ],\n",
       "       [ 673.34296],\n",
       "       [ 596.89655],\n",
       "       [ 852.0385 ],\n",
       "       [ 966.5093 ],\n",
       "       [ 899.8529 ],\n",
       "       [ 619.37823],\n",
       "       [ 584.4078 ],\n",
       "       [ 612.3411 ],\n",
       "       [ 831.39716],\n",
       "       [ 783.1498 ],\n",
       "       [ 832.42487],\n",
       "       [ 796.5362 ],\n",
       "       [ 629.7279 ],\n",
       "       [ 588.117  ],\n",
       "       [ 913.0502 ],\n",
       "       [ 513.9125 ],\n",
       "       [ 753.32434],\n",
       "       [ 771.36395],\n",
       "       [ 729.1115 ],\n",
       "       [ 889.94934],\n",
       "       [ 608.4595 ],\n",
       "       [ 858.2897 ],\n",
       "       [ 725.27045],\n",
       "       [ 697.94354],\n",
       "       [ 620.73627],\n",
       "       [ 921.7285 ],\n",
       "       [ 792.0837 ],\n",
       "       [ 711.6081 ],\n",
       "       [ 797.1662 ],\n",
       "       [ 743.18524],\n",
       "       [ 703.58514],\n",
       "       [ 689.1121 ],\n",
       "       [ 774.7643 ],\n",
       "       [ 744.7775 ],\n",
       "       [ 565.88165],\n",
       "       [ 668.40454],\n",
       "       [ 666.5484 ],\n",
       "       [ 924.7498 ],\n",
       "       [ 770.26166],\n",
       "       [ 667.0892 ],\n",
       "       [ 536.258  ],\n",
       "       [ 898.9062 ],\n",
       "       [ 689.0662 ],\n",
       "       [ 744.2026 ],\n",
       "       [ 624.1668 ],\n",
       "       [ 778.4643 ],\n",
       "       [ 698.27594],\n",
       "       [ 612.5379 ],\n",
       "       [ 872.23505],\n",
       "       [ 612.7547 ],\n",
       "       [ 773.06793],\n",
       "       [ 469.86453],\n",
       "       [ 869.67206],\n",
       "       [ 743.9309 ],\n",
       "       [ 852.95874],\n",
       "       [ 699.49207],\n",
       "       [ 681.7105 ],\n",
       "       [ 884.2391 ],\n",
       "       [ 527.56036],\n",
       "       [ 698.4146 ],\n",
       "       [ 583.67035],\n",
       "       [ 513.4325 ],\n",
       "       [ 833.053  ],\n",
       "       [ 731.6364 ],\n",
       "       [ 489.57224],\n",
       "       [ 886.02637],\n",
       "       [ 632.80963],\n",
       "       [ 697.5854 ],\n",
       "       [ 739.7516 ],\n",
       "       [ 700.06476],\n",
       "       [ 714.5085 ],\n",
       "       [ 575.97186],\n",
       "       [ 782.45013],\n",
       "       [ 910.3176 ],\n",
       "       [ 687.66046],\n",
       "       [ 688.8924 ],\n",
       "       [ 515.3575 ],\n",
       "       [ 833.74786],\n",
       "       [ 963.5192 ],\n",
       "       [ 672.6175 ],\n",
       "       [ 751.425  ],\n",
       "       [ 705.7778 ],\n",
       "       [ 768.0125 ],\n",
       "       [ 548.9739 ],\n",
       "       [ 834.5688 ],\n",
       "       [ 612.9128 ],\n",
       "       [ 727.015  ],\n",
       "       [ 818.06805],\n",
       "       [ 803.86505],\n",
       "       [ 804.83795],\n",
       "       [ 696.0057 ],\n",
       "       [ 834.90533],\n",
       "       [ 820.35614],\n",
       "       [ 750.8753 ],\n",
       "       [ 867.8121 ],\n",
       "       [ 845.4914 ],\n",
       "       [ 681.4395 ],\n",
       "       [ 634.0369 ],\n",
       "       [ 800.4431 ],\n",
       "       [ 615.1539 ],\n",
       "       [ 742.5185 ],\n",
       "       [ 533.2337 ],\n",
       "       [ 533.9863 ],\n",
       "       [ 422.54202],\n",
       "       [ 667.378  ],\n",
       "       [ 979.56433],\n",
       "       [ 790.67303],\n",
       "       [ 576.28705],\n",
       "       [ 675.46454],\n",
       "       [ 863.50385],\n",
       "       [ 561.3221 ],\n",
       "       [ 718.8831 ],\n",
       "       [ 746.2172 ],\n",
       "       [ 726.26276],\n",
       "       [ 932.7282 ],\n",
       "       [ 818.79535],\n",
       "       [ 884.14105],\n",
       "       [ 920.8565 ],\n",
       "       [ 555.9328 ],\n",
       "       [ 812.6838 ],\n",
       "       [ 759.1567 ],\n",
       "       [ 766.6164 ],\n",
       "       [ 855.94525],\n",
       "       [ 571.7153 ],\n",
       "       [ 719.3642 ],\n",
       "       [ 735.91693],\n",
       "       [ 578.02386],\n",
       "       [ 625.73065],\n",
       "       [1038.9991 ],\n",
       "       [ 868.2992 ],\n",
       "       [ 675.61945],\n",
       "       [ 716.6482 ],\n",
       "       [ 503.78537],\n",
       "       [ 354.47433],\n",
       "       [ 842.3715 ],\n",
       "       [ 522.41675],\n",
       "       [ 847.34766],\n",
       "       [ 565.3023 ],\n",
       "       [ 583.19025],\n",
       "       [ 532.79504],\n",
       "       [ 456.04184],\n",
       "       [ 711.3492 ],\n",
       "       [ 577.55316],\n",
       "       [ 792.22687],\n",
       "       [ 479.31186],\n",
       "       [ 731.1066 ],\n",
       "       [ 660.573  ],\n",
       "       [ 635.50476],\n",
       "       [ 546.685  ],\n",
       "       [ 490.83054],\n",
       "       [ 589.90546],\n",
       "       [ 556.49316],\n",
       "       [ 738.25055],\n",
       "       [ 741.8488 ],\n",
       "       [ 889.5884 ],\n",
       "       [1025.5328 ],\n",
       "       [ 968.365  ],\n",
       "       [ 950.7721 ],\n",
       "       [ 538.37445],\n",
       "       [ 763.3325 ],\n",
       "       [ 834.50146],\n",
       "       [ 696.5572 ],\n",
       "       [ 741.0639 ],\n",
       "       [ 856.91833],\n",
       "       [ 588.1357 ],\n",
       "       [ 636.5937 ],\n",
       "       [ 675.21344],\n",
       "       [ 573.1075 ],\n",
       "       [ 845.493  ],\n",
       "       [ 940.7233 ],\n",
       "       [ 340.0178 ],\n",
       "       [ 700.71136],\n",
       "       [ 477.35873],\n",
       "       [ 734.3702 ],\n",
       "       [ 783.68274],\n",
       "       [ 540.17334],\n",
       "       [1003.64276],\n",
       "       [ 823.4097 ],\n",
       "       [ 678.2209 ],\n",
       "       [ 743.34735],\n",
       "       [ 661.65607],\n",
       "       [ 982.05774],\n",
       "       [ 484.7192 ],\n",
       "       [ 557.1118 ],\n",
       "       [ 916.4072 ],\n",
       "       [ 946.2836 ],\n",
       "       [ 702.5439 ],\n",
       "       [ 753.94073],\n",
       "       [ 913.1962 ],\n",
       "       [ 629.0466 ],\n",
       "       [ 527.8794 ],\n",
       "       [ 888.00714],\n",
       "       [ 654.1313 ],\n",
       "       [ 682.29767]], dtype=float32)"
      ]
     },
     "execution_count": 566,
     "metadata": {},
     "output_type": "execute_result"
    }
   ],
   "source": [
    "trainer.model.eval(x)"
   ]
  },
  {
   "cell_type": "markdown",
   "metadata": {},
   "source": [
    "## Get Real Prediction"
   ]
  },
  {
   "cell_type": "code",
   "execution_count": 490,
   "metadata": {},
   "outputs": [],
   "source": [
    "from itertools import repeat"
   ]
  },
  {
   "cell_type": "code",
   "execution_count": null,
   "metadata": {},
   "outputs": [],
   "source": [
    "sound = parselmouth.Sound(\"data/Pd1.wav\")\n",
    "jack = measurePitch(sound, 75, 400, \"Hertz\")\n",
    "jack = pd.DataFrame(jack).T\n",
    "\n",
    "df_jack = pd.DataFrame([name_list, annie_data['Pd1.wav']])\n",
    "df_jack.columns = df_jack.iloc[0]\n",
    "df_jack = df_jack.drop(df_jack.index[0]).reset_index(drop=True)\n",
    "\n",
    "jack = pd.concat([jack.T, df_jack.loc[0,['NHR_mean','HNR_mean', 'RPDE', 'DFA', 'PPE']]], axis=0).T\n",
    "jack = jack.astype(float)"
   ]
  },
  {
   "cell_type": "code",
   "execution_count": 92,
   "metadata": {
    "scrolled": true
   },
   "outputs": [],
   "source": [
    "from pathlib import Path\n",
    "\n",
    "df_pred = pd.DataFrame(columns=['Method', 'MAE', 'Prediction'])\n",
    "data = pd.DataFrame()\n",
    "\n",
    "for filename in Path('data').glob('*.wav'):\n",
    "    \n",
    "    filename = str(filename)\n",
    "    annie_file = filename[filename.rfind('\\\\')+1:]\n",
    "    \n",
    "    sound = parselmouth.Sound(filename)\n",
    "    jack = measurePitch(sound, 75, 400, \"Hertz\")\n",
    "    jack = pd.DataFrame(jack).T\n",
    "    data = data.append(jack)\n",
    "\n",
    "# #     try:\n",
    "# #         df_jack = pd.DataFrame([name_list, annie_data['data\\\\yang\\\\'+annie_file]])\n",
    "# #     except:\n",
    "# #         df_jack = pd.DataFrame([name_list, annie_data[annie_file]])\n",
    "# #     df_jack.columns = df_jack.iloc[0]\n",
    "# #     df_jack = df_jack.drop(df_jack.index[0]).reset_index(drop=True)\n",
    "\n",
    "#     jack = pd.concat([jack.T, df_jack.loc[0,['NHR_mean','HNR_mean', 'RPDE', 'DFA', 'PPE']]], axis=0).T\n",
    "#     jack = jack.astype(float)\n",
    "#     final_annie_data.append(jack)\n",
    "    \n",
    "    ss.transform(jack)\n",
    "    \n",
    "    mae = []\n",
    "    pred = []\n",
    "#     lr = LinearRegression().fit(X_train, y_train)\n",
    "    mae.append(np.mean(np.abs(lr.predict(X_test)-y_test)))\n",
    "    pred.append(lr.predict(jack))\n",
    "\n",
    "#     ridge = Ridge(alpha=0.1).fit(X_train, y_train)\n",
    "    mae.append(np.mean(np.abs(ridge.predict(X_test)-y_test)))\n",
    "    pred.append(ridge.predict(jack))\n",
    "\n",
    "#     lasso = Lasso(alpha=0.1).fit(X_train, y_train)\n",
    "#     model = SelectFromModel(lasso, prefit=True)\n",
    "#     X_new = model.transform(X_train)\n",
    "#     X_new_test = model.transform(X_test)\n",
    "    mae.append(np.mean(np.abs(lasso.predict(X_test)-y_test)))\n",
    "    pred.append(lasso.predict(jack))\n",
    "\n",
    "# #     ridge = Ridge(alpha=0.1).fit(X_new, y_train)\n",
    "#     mae.append(np.mean(np.abs(ridge.predict(model.transform(X_test))-y_test)))\n",
    "#     pred.append(ridge.predict(model.transform(jack)))\n",
    "\n",
    "#     rf = RandomForestRegressor(n_estimators=50).fit(X_train, y_train)\n",
    "    mae.append(np.mean(np.abs(rf.predict(X_test)-y_test)))\n",
    "    pred.append(rf.predict(jack))\n",
    "    \n",
    "    mae.append(np.mean(np.abs(tf.predict(X_test).reshape(-1)-y_test)))\n",
    "    pred.append(tf.predict(jack))\n",
    "    \n",
    "    methods = ['Linear Regression',\n",
    "                       'Ridge', \n",
    "                       'Lasso',\n",
    "#                        'Ridge Trans', \n",
    "                       'Random Forest',\n",
    "              'TF']\n",
    "    df_pred = df_pred.append(pd.DataFrame(np.column_stack([list(np.repeat(annie_file, 5)), methods, mae, pred]), columns=['Sample', 'Method', 'MAE', 'Prediction']),\n",
    "                  ignore_index=True, sort=False)"
   ]
  },
  {
   "cell_type": "code",
   "execution_count": 60,
   "metadata": {},
   "outputs": [
    {
     "data": {
      "text/plain": [
       "28.816871974952655"
      ]
     },
     "execution_count": 60,
     "metadata": {},
     "output_type": "execute_result"
    }
   ],
   "source": [
    "np.mean(np.abs(tf.predict(X_test).reshape(-1)-y_test))"
   ]
  },
  {
   "cell_type": "code",
   "execution_count": 93,
   "metadata": {},
   "outputs": [
    {
     "data": {
      "text/html": [
       "<div>\n",
       "<style scoped>\n",
       "    .dataframe tbody tr th:only-of-type {\n",
       "        vertical-align: middle;\n",
       "    }\n",
       "\n",
       "    .dataframe tbody tr th {\n",
       "        vertical-align: top;\n",
       "    }\n",
       "\n",
       "    .dataframe thead th {\n",
       "        text-align: right;\n",
       "    }\n",
       "</style>\n",
       "<table border=\"1\" class=\"dataframe\">\n",
       "  <thead>\n",
       "    <tr style=\"text-align: right;\">\n",
       "      <th></th>\n",
       "      <th>Method</th>\n",
       "      <th>MAE</th>\n",
       "      <th>Prediction</th>\n",
       "      <th>Sample</th>\n",
       "    </tr>\n",
       "  </thead>\n",
       "  <tbody>\n",
       "    <tr>\n",
       "      <th>0</th>\n",
       "      <td>Linear Regression</td>\n",
       "      <td>8.53829</td>\n",
       "      <td>-26.5794</td>\n",
       "      <td>dad.wav</td>\n",
       "    </tr>\n",
       "    <tr>\n",
       "      <th>1</th>\n",
       "      <td>Ridge</td>\n",
       "      <td>8.53734</td>\n",
       "      <td>-31.808</td>\n",
       "      <td>dad.wav</td>\n",
       "    </tr>\n",
       "    <tr>\n",
       "      <th>2</th>\n",
       "      <td>Lasso</td>\n",
       "      <td>8.52994</td>\n",
       "      <td>-32.1038</td>\n",
       "      <td>dad.wav</td>\n",
       "    </tr>\n",
       "    <tr>\n",
       "      <th>3</th>\n",
       "      <td>Random Forest</td>\n",
       "      <td>7.58631</td>\n",
       "      <td>17.6381</td>\n",
       "      <td>dad.wav</td>\n",
       "    </tr>\n",
       "    <tr>\n",
       "      <th>4</th>\n",
       "      <td>TF</td>\n",
       "      <td>7.64983</td>\n",
       "      <td>-105.877</td>\n",
       "      <td>dad.wav</td>\n",
       "    </tr>\n",
       "    <tr>\n",
       "      <th>5</th>\n",
       "      <td>Linear Regression</td>\n",
       "      <td>8.53829</td>\n",
       "      <td>9.33212</td>\n",
       "      <td>gma.wav</td>\n",
       "    </tr>\n",
       "    <tr>\n",
       "      <th>6</th>\n",
       "      <td>Ridge</td>\n",
       "      <td>8.53734</td>\n",
       "      <td>-10.8777</td>\n",
       "      <td>gma.wav</td>\n",
       "    </tr>\n",
       "    <tr>\n",
       "      <th>7</th>\n",
       "      <td>Lasso</td>\n",
       "      <td>8.52994</td>\n",
       "      <td>-13.5702</td>\n",
       "      <td>gma.wav</td>\n",
       "    </tr>\n",
       "    <tr>\n",
       "      <th>8</th>\n",
       "      <td>Random Forest</td>\n",
       "      <td>7.58631</td>\n",
       "      <td>17.0969</td>\n",
       "      <td>gma.wav</td>\n",
       "    </tr>\n",
       "    <tr>\n",
       "      <th>9</th>\n",
       "      <td>TF</td>\n",
       "      <td>7.64983</td>\n",
       "      <td>-62.3373</td>\n",
       "      <td>gma.wav</td>\n",
       "    </tr>\n",
       "    <tr>\n",
       "      <th>10</th>\n",
       "      <td>Linear Regression</td>\n",
       "      <td>8.53829</td>\n",
       "      <td>-9.76903</td>\n",
       "      <td>Jack1.wav</td>\n",
       "    </tr>\n",
       "    <tr>\n",
       "      <th>11</th>\n",
       "      <td>Ridge</td>\n",
       "      <td>8.53734</td>\n",
       "      <td>-22.4068</td>\n",
       "      <td>Jack1.wav</td>\n",
       "    </tr>\n",
       "    <tr>\n",
       "      <th>12</th>\n",
       "      <td>Lasso</td>\n",
       "      <td>8.52994</td>\n",
       "      <td>-24.3703</td>\n",
       "      <td>Jack1.wav</td>\n",
       "    </tr>\n",
       "    <tr>\n",
       "      <th>13</th>\n",
       "      <td>Random Forest</td>\n",
       "      <td>7.58631</td>\n",
       "      <td>17.6275</td>\n",
       "      <td>Jack1.wav</td>\n",
       "    </tr>\n",
       "    <tr>\n",
       "      <th>14</th>\n",
       "      <td>TF</td>\n",
       "      <td>7.64983</td>\n",
       "      <td>-85.455</td>\n",
       "      <td>Jack1.wav</td>\n",
       "    </tr>\n",
       "    <tr>\n",
       "      <th>15</th>\n",
       "      <td>Linear Regression</td>\n",
       "      <td>8.53829</td>\n",
       "      <td>-22.0388</td>\n",
       "      <td>Jack10.wav</td>\n",
       "    </tr>\n",
       "    <tr>\n",
       "      <th>16</th>\n",
       "      <td>Ridge</td>\n",
       "      <td>8.53734</td>\n",
       "      <td>-32.3659</td>\n",
       "      <td>Jack10.wav</td>\n",
       "    </tr>\n",
       "    <tr>\n",
       "      <th>17</th>\n",
       "      <td>Lasso</td>\n",
       "      <td>8.52994</td>\n",
       "      <td>-33.7034</td>\n",
       "      <td>Jack10.wav</td>\n",
       "    </tr>\n",
       "    <tr>\n",
       "      <th>18</th>\n",
       "      <td>Random Forest</td>\n",
       "      <td>7.58631</td>\n",
       "      <td>17.6275</td>\n",
       "      <td>Jack10.wav</td>\n",
       "    </tr>\n",
       "    <tr>\n",
       "      <th>19</th>\n",
       "      <td>TF</td>\n",
       "      <td>7.64983</td>\n",
       "      <td>-107.166</td>\n",
       "      <td>Jack10.wav</td>\n",
       "    </tr>\n",
       "    <tr>\n",
       "      <th>20</th>\n",
       "      <td>Linear Regression</td>\n",
       "      <td>8.53829</td>\n",
       "      <td>-20.9942</td>\n",
       "      <td>Jack2.wav</td>\n",
       "    </tr>\n",
       "    <tr>\n",
       "      <th>21</th>\n",
       "      <td>Ridge</td>\n",
       "      <td>8.53734</td>\n",
       "      <td>-26.8971</td>\n",
       "      <td>Jack2.wav</td>\n",
       "    </tr>\n",
       "    <tr>\n",
       "      <th>22</th>\n",
       "      <td>Lasso</td>\n",
       "      <td>8.52994</td>\n",
       "      <td>-27.7588</td>\n",
       "      <td>Jack2.wav</td>\n",
       "    </tr>\n",
       "    <tr>\n",
       "      <th>23</th>\n",
       "      <td>Random Forest</td>\n",
       "      <td>7.58631</td>\n",
       "      <td>17.6381</td>\n",
       "      <td>Jack2.wav</td>\n",
       "    </tr>\n",
       "    <tr>\n",
       "      <th>24</th>\n",
       "      <td>TF</td>\n",
       "      <td>7.64983</td>\n",
       "      <td>-97.0838</td>\n",
       "      <td>Jack2.wav</td>\n",
       "    </tr>\n",
       "    <tr>\n",
       "      <th>25</th>\n",
       "      <td>Linear Regression</td>\n",
       "      <td>8.53829</td>\n",
       "      <td>-18.9328</td>\n",
       "      <td>Jack3.wav</td>\n",
       "    </tr>\n",
       "    <tr>\n",
       "      <th>26</th>\n",
       "      <td>Ridge</td>\n",
       "      <td>8.53734</td>\n",
       "      <td>-23.7562</td>\n",
       "      <td>Jack3.wav</td>\n",
       "    </tr>\n",
       "    <tr>\n",
       "      <th>27</th>\n",
       "      <td>Lasso</td>\n",
       "      <td>8.52994</td>\n",
       "      <td>-24.7861</td>\n",
       "      <td>Jack3.wav</td>\n",
       "    </tr>\n",
       "    <tr>\n",
       "      <th>28</th>\n",
       "      <td>Random Forest</td>\n",
       "      <td>7.58631</td>\n",
       "      <td>17.6381</td>\n",
       "      <td>Jack3.wav</td>\n",
       "    </tr>\n",
       "    <tr>\n",
       "      <th>29</th>\n",
       "      <td>TF</td>\n",
       "      <td>7.64983</td>\n",
       "      <td>-91.5311</td>\n",
       "      <td>Jack3.wav</td>\n",
       "    </tr>\n",
       "    <tr>\n",
       "      <th>...</th>\n",
       "      <td>...</td>\n",
       "      <td>...</td>\n",
       "      <td>...</td>\n",
       "      <td>...</td>\n",
       "    </tr>\n",
       "    <tr>\n",
       "      <th>85</th>\n",
       "      <td>Linear Regression</td>\n",
       "      <td>8.53829</td>\n",
       "      <td>-5.22283</td>\n",
       "      <td>Pd4.wav</td>\n",
       "    </tr>\n",
       "    <tr>\n",
       "      <th>86</th>\n",
       "      <td>Ridge</td>\n",
       "      <td>8.53734</td>\n",
       "      <td>-19.0406</td>\n",
       "      <td>Pd4.wav</td>\n",
       "    </tr>\n",
       "    <tr>\n",
       "      <th>87</th>\n",
       "      <td>Lasso</td>\n",
       "      <td>8.52994</td>\n",
       "      <td>-20.3869</td>\n",
       "      <td>Pd4.wav</td>\n",
       "    </tr>\n",
       "    <tr>\n",
       "      <th>88</th>\n",
       "      <td>Random Forest</td>\n",
       "      <td>7.58631</td>\n",
       "      <td>17.6275</td>\n",
       "      <td>Pd4.wav</td>\n",
       "    </tr>\n",
       "    <tr>\n",
       "      <th>89</th>\n",
       "      <td>TF</td>\n",
       "      <td>7.64983</td>\n",
       "      <td>-79.5673</td>\n",
       "      <td>Pd4.wav</td>\n",
       "    </tr>\n",
       "    <tr>\n",
       "      <th>90</th>\n",
       "      <td>Linear Regression</td>\n",
       "      <td>8.53829</td>\n",
       "      <td>-4.27483</td>\n",
       "      <td>Pd5.wav</td>\n",
       "    </tr>\n",
       "    <tr>\n",
       "      <th>91</th>\n",
       "      <td>Ridge</td>\n",
       "      <td>8.53734</td>\n",
       "      <td>-18.8293</td>\n",
       "      <td>Pd5.wav</td>\n",
       "    </tr>\n",
       "    <tr>\n",
       "      <th>92</th>\n",
       "      <td>Lasso</td>\n",
       "      <td>8.52994</td>\n",
       "      <td>-20.142</td>\n",
       "      <td>Pd5.wav</td>\n",
       "    </tr>\n",
       "    <tr>\n",
       "      <th>93</th>\n",
       "      <td>Random Forest</td>\n",
       "      <td>7.58631</td>\n",
       "      <td>17.6275</td>\n",
       "      <td>Pd5.wav</td>\n",
       "    </tr>\n",
       "    <tr>\n",
       "      <th>94</th>\n",
       "      <td>TF</td>\n",
       "      <td>7.64983</td>\n",
       "      <td>-78.9335</td>\n",
       "      <td>Pd5.wav</td>\n",
       "    </tr>\n",
       "    <tr>\n",
       "      <th>95</th>\n",
       "      <td>Linear Regression</td>\n",
       "      <td>8.53829</td>\n",
       "      <td>-0.393546</td>\n",
       "      <td>Pd6.wav</td>\n",
       "    </tr>\n",
       "    <tr>\n",
       "      <th>96</th>\n",
       "      <td>Ridge</td>\n",
       "      <td>8.53734</td>\n",
       "      <td>-15.692</td>\n",
       "      <td>Pd6.wav</td>\n",
       "    </tr>\n",
       "    <tr>\n",
       "      <th>97</th>\n",
       "      <td>Lasso</td>\n",
       "      <td>8.52994</td>\n",
       "      <td>-17.2997</td>\n",
       "      <td>Pd6.wav</td>\n",
       "    </tr>\n",
       "    <tr>\n",
       "      <th>98</th>\n",
       "      <td>Random Forest</td>\n",
       "      <td>7.58631</td>\n",
       "      <td>17.6275</td>\n",
       "      <td>Pd6.wav</td>\n",
       "    </tr>\n",
       "    <tr>\n",
       "      <th>99</th>\n",
       "      <td>TF</td>\n",
       "      <td>7.64983</td>\n",
       "      <td>-73.0612</td>\n",
       "      <td>Pd6.wav</td>\n",
       "    </tr>\n",
       "    <tr>\n",
       "      <th>100</th>\n",
       "      <td>Linear Regression</td>\n",
       "      <td>8.53829</td>\n",
       "      <td>-11.9506</td>\n",
       "      <td>Pd7.wav</td>\n",
       "    </tr>\n",
       "    <tr>\n",
       "      <th>101</th>\n",
       "      <td>Ridge</td>\n",
       "      <td>8.53734</td>\n",
       "      <td>-23.3159</td>\n",
       "      <td>Pd7.wav</td>\n",
       "    </tr>\n",
       "    <tr>\n",
       "      <th>102</th>\n",
       "      <td>Lasso</td>\n",
       "      <td>8.52994</td>\n",
       "      <td>-24.251</td>\n",
       "      <td>Pd7.wav</td>\n",
       "    </tr>\n",
       "    <tr>\n",
       "      <th>103</th>\n",
       "      <td>Random Forest</td>\n",
       "      <td>7.58631</td>\n",
       "      <td>17.6275</td>\n",
       "      <td>Pd7.wav</td>\n",
       "    </tr>\n",
       "    <tr>\n",
       "      <th>104</th>\n",
       "      <td>TF</td>\n",
       "      <td>7.64983</td>\n",
       "      <td>-88.1177</td>\n",
       "      <td>Pd7.wav</td>\n",
       "    </tr>\n",
       "    <tr>\n",
       "      <th>105</th>\n",
       "      <td>Linear Regression</td>\n",
       "      <td>8.53829</td>\n",
       "      <td>-22.5451</td>\n",
       "      <td>Pd8.wav</td>\n",
       "    </tr>\n",
       "    <tr>\n",
       "      <th>106</th>\n",
       "      <td>Ridge</td>\n",
       "      <td>8.53734</td>\n",
       "      <td>-31.0957</td>\n",
       "      <td>Pd8.wav</td>\n",
       "    </tr>\n",
       "    <tr>\n",
       "      <th>107</th>\n",
       "      <td>Lasso</td>\n",
       "      <td>8.52994</td>\n",
       "      <td>-31.4954</td>\n",
       "      <td>Pd8.wav</td>\n",
       "    </tr>\n",
       "    <tr>\n",
       "      <th>108</th>\n",
       "      <td>Random Forest</td>\n",
       "      <td>7.58631</td>\n",
       "      <td>17.6275</td>\n",
       "      <td>Pd8.wav</td>\n",
       "    </tr>\n",
       "    <tr>\n",
       "      <th>109</th>\n",
       "      <td>TF</td>\n",
       "      <td>7.64983</td>\n",
       "      <td>-103.488</td>\n",
       "      <td>Pd8.wav</td>\n",
       "    </tr>\n",
       "    <tr>\n",
       "      <th>110</th>\n",
       "      <td>Linear Regression</td>\n",
       "      <td>8.53829</td>\n",
       "      <td>-25.4851</td>\n",
       "      <td>Pd9.wav</td>\n",
       "    </tr>\n",
       "    <tr>\n",
       "      <th>111</th>\n",
       "      <td>Ridge</td>\n",
       "      <td>8.53734</td>\n",
       "      <td>-33.5002</td>\n",
       "      <td>Pd9.wav</td>\n",
       "    </tr>\n",
       "    <tr>\n",
       "      <th>112</th>\n",
       "      <td>Lasso</td>\n",
       "      <td>8.52994</td>\n",
       "      <td>-33.8681</td>\n",
       "      <td>Pd9.wav</td>\n",
       "    </tr>\n",
       "    <tr>\n",
       "      <th>113</th>\n",
       "      <td>Random Forest</td>\n",
       "      <td>7.58631</td>\n",
       "      <td>17.6381</td>\n",
       "      <td>Pd9.wav</td>\n",
       "    </tr>\n",
       "    <tr>\n",
       "      <th>114</th>\n",
       "      <td>TF</td>\n",
       "      <td>7.64983</td>\n",
       "      <td>-108.23</td>\n",
       "      <td>Pd9.wav</td>\n",
       "    </tr>\n",
       "  </tbody>\n",
       "</table>\n",
       "<p>115 rows × 4 columns</p>\n",
       "</div>"
      ],
      "text/plain": [
       "                Method      MAE Prediction      Sample\n",
       "0    Linear Regression  8.53829   -26.5794     dad.wav\n",
       "1                Ridge  8.53734    -31.808     dad.wav\n",
       "2                Lasso  8.52994   -32.1038     dad.wav\n",
       "3        Random Forest  7.58631    17.6381     dad.wav\n",
       "4                   TF  7.64983   -105.877     dad.wav\n",
       "5    Linear Regression  8.53829    9.33212     gma.wav\n",
       "6                Ridge  8.53734   -10.8777     gma.wav\n",
       "7                Lasso  8.52994   -13.5702     gma.wav\n",
       "8        Random Forest  7.58631    17.0969     gma.wav\n",
       "9                   TF  7.64983   -62.3373     gma.wav\n",
       "10   Linear Regression  8.53829   -9.76903   Jack1.wav\n",
       "11               Ridge  8.53734   -22.4068   Jack1.wav\n",
       "12               Lasso  8.52994   -24.3703   Jack1.wav\n",
       "13       Random Forest  7.58631    17.6275   Jack1.wav\n",
       "14                  TF  7.64983    -85.455   Jack1.wav\n",
       "15   Linear Regression  8.53829   -22.0388  Jack10.wav\n",
       "16               Ridge  8.53734   -32.3659  Jack10.wav\n",
       "17               Lasso  8.52994   -33.7034  Jack10.wav\n",
       "18       Random Forest  7.58631    17.6275  Jack10.wav\n",
       "19                  TF  7.64983   -107.166  Jack10.wav\n",
       "20   Linear Regression  8.53829   -20.9942   Jack2.wav\n",
       "21               Ridge  8.53734   -26.8971   Jack2.wav\n",
       "22               Lasso  8.52994   -27.7588   Jack2.wav\n",
       "23       Random Forest  7.58631    17.6381   Jack2.wav\n",
       "24                  TF  7.64983   -97.0838   Jack2.wav\n",
       "25   Linear Regression  8.53829   -18.9328   Jack3.wav\n",
       "26               Ridge  8.53734   -23.7562   Jack3.wav\n",
       "27               Lasso  8.52994   -24.7861   Jack3.wav\n",
       "28       Random Forest  7.58631    17.6381   Jack3.wav\n",
       "29                  TF  7.64983   -91.5311   Jack3.wav\n",
       "..                 ...      ...        ...         ...\n",
       "85   Linear Regression  8.53829   -5.22283     Pd4.wav\n",
       "86               Ridge  8.53734   -19.0406     Pd4.wav\n",
       "87               Lasso  8.52994   -20.3869     Pd4.wav\n",
       "88       Random Forest  7.58631    17.6275     Pd4.wav\n",
       "89                  TF  7.64983   -79.5673     Pd4.wav\n",
       "90   Linear Regression  8.53829   -4.27483     Pd5.wav\n",
       "91               Ridge  8.53734   -18.8293     Pd5.wav\n",
       "92               Lasso  8.52994    -20.142     Pd5.wav\n",
       "93       Random Forest  7.58631    17.6275     Pd5.wav\n",
       "94                  TF  7.64983   -78.9335     Pd5.wav\n",
       "95   Linear Regression  8.53829  -0.393546     Pd6.wav\n",
       "96               Ridge  8.53734    -15.692     Pd6.wav\n",
       "97               Lasso  8.52994   -17.2997     Pd6.wav\n",
       "98       Random Forest  7.58631    17.6275     Pd6.wav\n",
       "99                  TF  7.64983   -73.0612     Pd6.wav\n",
       "100  Linear Regression  8.53829   -11.9506     Pd7.wav\n",
       "101              Ridge  8.53734   -23.3159     Pd7.wav\n",
       "102              Lasso  8.52994    -24.251     Pd7.wav\n",
       "103      Random Forest  7.58631    17.6275     Pd7.wav\n",
       "104                 TF  7.64983   -88.1177     Pd7.wav\n",
       "105  Linear Regression  8.53829   -22.5451     Pd8.wav\n",
       "106              Ridge  8.53734   -31.0957     Pd8.wav\n",
       "107              Lasso  8.52994   -31.4954     Pd8.wav\n",
       "108      Random Forest  7.58631    17.6275     Pd8.wav\n",
       "109                 TF  7.64983   -103.488     Pd8.wav\n",
       "110  Linear Regression  8.53829   -25.4851     Pd9.wav\n",
       "111              Ridge  8.53734   -33.5002     Pd9.wav\n",
       "112              Lasso  8.52994   -33.8681     Pd9.wav\n",
       "113      Random Forest  7.58631    17.6381     Pd9.wav\n",
       "114                 TF  7.64983    -108.23     Pd9.wav\n",
       "\n",
       "[115 rows x 4 columns]"
      ]
     },
     "execution_count": 93,
     "metadata": {},
     "output_type": "execute_result"
    }
   ],
   "source": [
    "df_pred"
   ]
  },
  {
   "cell_type": "code",
   "execution_count": 452,
   "metadata": {},
   "outputs": [
    {
     "data": {
      "text/plain": [
       "['ridge_model.pkl']"
      ]
     },
     "execution_count": 452,
     "metadata": {},
     "output_type": "execute_result"
    }
   ],
   "source": [
    "from sklearn.externals import joblib\n",
    "# Output a pickle file for the model\n",
    "joblib.dump(ridge, 'ridge_model.pkl') "
   ]
  },
  {
   "cell_type": "code",
   "execution_count": 453,
   "metadata": {},
   "outputs": [
    {
     "data": {
      "text/plain": [
       "array([-29.83627559])"
      ]
     },
     "execution_count": 453,
     "metadata": {},
     "output_type": "execute_result"
    }
   ],
   "source": [
    "\n",
    "ridge = joblib.load('ridge_model.pkl') \n",
    "\n",
    "ridge.predict(jack)"
   ]
  },
  {
   "cell_type": "markdown",
   "metadata": {},
   "source": [
    "## UCI Multiple Types of Sound Recordings Data Set"
   ]
  },
  {
   "cell_type": "code",
   "execution_count": 293,
   "metadata": {},
   "outputs": [],
   "source": [
    "df2 = pd.read_csv('train_data.txt', header=None)\n",
    "df2.columns = range(1,30)"
   ]
  },
  {
   "cell_type": "code",
   "execution_count": 294,
   "metadata": {},
   "outputs": [],
   "source": [
    "df2_test = pd.read_csv('test_data.txt', header=None)"
   ]
  },
  {
   "cell_type": "code",
   "execution_count": 301,
   "metadata": {},
   "outputs": [],
   "source": [
    "df2_X = df2.loc[:,2:27]\n",
    "df2_y = df2[28]"
   ]
  },
  {
   "cell_type": "code",
   "execution_count": 302,
   "metadata": {},
   "outputs": [],
   "source": [
    "X_train, X_test, y_train, y_test = train_test_split(df2_X, df2_y, test_size=0.33)"
   ]
  },
  {
   "cell_type": "code",
   "execution_count": 306,
   "metadata": {
    "scrolled": true
   },
   "outputs": [
    {
     "data": {
      "text/plain": [
       "12.592242396497298"
      ]
     },
     "execution_count": 306,
     "metadata": {},
     "output_type": "execute_result"
    }
   ],
   "source": [
    "ridge = Ridge(alpha=0.01).fit(X_train, y_train)\n",
    "np.mean(np.abs(ridge.predict(X_train)-y_train))\n",
    "np.mean(np.abs(ridge.predict(X_test)-y_test))"
   ]
  },
  {
   "cell_type": "code",
   "execution_count": 303,
   "metadata": {},
   "outputs": [
    {
     "data": {
      "text/plain": [
       "12.370436046511633"
      ]
     },
     "execution_count": 303,
     "metadata": {},
     "output_type": "execute_result"
    }
   ],
   "source": [
    "rf = RandomForestRegressor(n_estimators=100).fit(X_train, y_train)\n",
    "np.mean(np.abs(rf.predict(X_test)-y_test))"
   ]
  },
  {
   "cell_type": "code",
   "execution_count": 304,
   "metadata": {},
   "outputs": [
    {
     "data": {
      "text/plain": [
       "array([0.03333411, 0.03823525, 0.03450666, 0.06129314, 0.03643689,\n",
       "       0.02505728, 0.03730158, 0.01668821, 0.03763396, 0.08019144,\n",
       "       0.01815848, 0.0345931 , 0.0459487 , 0.03771743, 0.05728411,\n",
       "       0.0284624 , 0.04745298, 0.04976384, 0.05188652, 0.03781515,\n",
       "       0.0363865 , 0.02838698, 0.04626474, 0.0412893 , 0.0063705 ,\n",
       "       0.03154075])"
      ]
     },
     "execution_count": 304,
     "metadata": {},
     "output_type": "execute_result"
    }
   ],
   "source": [
    "rf.feature_importances_"
   ]
  },
  {
   "cell_type": "code",
   "execution_count": 99,
   "metadata": {},
   "outputs": [
    {
     "data": {
      "text/plain": [
       "<matplotlib.axes._subplots.AxesSubplot at 0x1b22f582b38>"
      ]
     },
     "execution_count": 99,
     "metadata": {},
     "output_type": "execute_result"
    },
    {
     "data": {
      "image/png": "[encoded data removed]",
      "text/plain": [
       "<Figure size 432x288 with 1 Axes>"
      ]
     },
     "metadata": {},
     "output_type": "display_data"
    }
   ],
   "source": [
    "sns.barplot(x=X_train.columns, y=rf.feature_importances_)"
   ]
  },
  {
   "cell_type": "code",
   "execution_count": 2,
   "metadata": {},
   "outputs": [],
   "source": [
    "import pandas as pd"
   ]
  },
  {
   "cell_type": "code",
   "execution_count": 12,
   "metadata": {},
   "outputs": [
    {
     "data": {
      "text/html": [
       "<div>\n",
       "<style scoped>\n",
       "    .dataframe tbody tr th:only-of-type {\n",
       "        vertical-align: middle;\n",
       "    }\n",
       "\n",
       "    .dataframe tbody tr th {\n",
       "        vertical-align: top;\n",
       "    }\n",
       "\n",
       "    .dataframe thead th {\n",
       "        text-align: right;\n",
       "    }\n",
       "</style>\n",
       "<table border=\"1\" class=\"dataframe\">\n",
       "  <thead>\n",
       "    <tr style=\"text-align: right;\">\n",
       "      <th></th>\n",
       "      <th>Date</th>\n",
       "      <th>Actuals</th>\n",
       "    </tr>\n",
       "  </thead>\n",
       "  <tbody>\n",
       "    <tr>\n",
       "      <th>0</th>\n",
       "      <td>2019-01-01</td>\n",
       "      <td>2</td>\n",
       "    </tr>\n",
       "    <tr>\n",
       "      <th>1</th>\n",
       "      <td>2019-01-02</td>\n",
       "      <td>7</td>\n",
       "    </tr>\n",
       "    <tr>\n",
       "      <th>2</th>\n",
       "      <td>2019-01-03</td>\n",
       "      <td>8</td>\n",
       "    </tr>\n",
       "    <tr>\n",
       "      <th>3</th>\n",
       "      <td>2019-01-04</td>\n",
       "      <td>4</td>\n",
       "    </tr>\n",
       "    <tr>\n",
       "      <th>4</th>\n",
       "      <td>2019-01-05</td>\n",
       "      <td>1</td>\n",
       "    </tr>\n",
       "    <tr>\n",
       "      <th>5</th>\n",
       "      <td>2019-01-06</td>\n",
       "      <td>0</td>\n",
       "    </tr>\n",
       "    <tr>\n",
       "      <th>6</th>\n",
       "      <td>2019-01-07</td>\n",
       "      <td>0</td>\n",
       "    </tr>\n",
       "    <tr>\n",
       "      <th>7</th>\n",
       "      <td>2019-01-08</td>\n",
       "      <td>0</td>\n",
       "    </tr>\n",
       "  </tbody>\n",
       "</table>\n",
       "</div>"
      ],
      "text/plain": [
       "        Date  Actuals\n",
       "0 2019-01-01        2\n",
       "1 2019-01-02        7\n",
       "2 2019-01-03        8\n",
       "3 2019-01-04        4\n",
       "4 2019-01-05        1\n",
       "5 2019-01-06        0\n",
       "6 2019-01-07        0\n",
       "7 2019-01-08        0"
      ]
     },
     "execution_count": 12,
     "metadata": {},
     "output_type": "execute_result"
    }
   ],
   "source": [
    "df = pd.DataFrame({'Date':pd.date_range(start='1/1/2019', end='1/08/2019'),\n",
    "              'Actuals': [2,7,8,4,1,0,0,0]})\n",
    "df"
   ]
  },
  {
   "cell_type": "code",
   "execution_count": 33,
   "metadata": {},
   "outputs": [
    {
     "data": {
      "text/plain": [
       "0    2\n",
       "1    7\n",
       "2    8\n",
       "3    4\n",
       "4    1\n",
       "5    1\n",
       "6    1\n",
       "7    1\n",
       "Name: Actuals, dtype: int64"
      ]
     },
     "execution_count": 33,
     "metadata": {},
     "output_type": "execute_result"
    }
   ],
   "source": [
    "df.Actuals.where(df.Date.lt('2019-01-05'),1)"
   ]
  },
  {
   "cell_type": "code",
   "execution_count": 22,
   "metadata": {},
   "outputs": [
    {
     "data": {
      "text/html": [
       "<div>\n",
       "<style scoped>\n",
       "    .dataframe tbody tr th:only-of-type {\n",
       "        vertical-align: middle;\n",
       "    }\n",
       "\n",
       "    .dataframe tbody tr th {\n",
       "        vertical-align: top;\n",
       "    }\n",
       "\n",
       "    .dataframe thead th {\n",
       "        text-align: right;\n",
       "    }\n",
       "</style>\n",
       "<table border=\"1\" class=\"dataframe\">\n",
       "  <thead>\n",
       "    <tr style=\"text-align: right;\">\n",
       "      <th></th>\n",
       "      <th>Date</th>\n",
       "      <th>Actuals</th>\n",
       "      <th>Predictions</th>\n",
       "    </tr>\n",
       "  </thead>\n",
       "  <tbody>\n",
       "    <tr>\n",
       "      <th>0</th>\n",
       "      <td>2019-01-01</td>\n",
       "      <td>2</td>\n",
       "      <td>2</td>\n",
       "    </tr>\n",
       "    <tr>\n",
       "      <th>1</th>\n",
       "      <td>2019-01-02</td>\n",
       "      <td>7</td>\n",
       "      <td>7</td>\n",
       "    </tr>\n",
       "    <tr>\n",
       "      <th>2</th>\n",
       "      <td>2019-01-03</td>\n",
       "      <td>8</td>\n",
       "      <td>8</td>\n",
       "    </tr>\n",
       "    <tr>\n",
       "      <th>3</th>\n",
       "      <td>2019-01-04</td>\n",
       "      <td>4</td>\n",
       "      <td>4</td>\n",
       "    </tr>\n",
       "    <tr>\n",
       "      <th>4</th>\n",
       "      <td>2019-01-05</td>\n",
       "      <td>1</td>\n",
       "      <td>4</td>\n",
       "    </tr>\n",
       "    <tr>\n",
       "      <th>5</th>\n",
       "      <td>2019-01-06</td>\n",
       "      <td>0</td>\n",
       "      <td>4</td>\n",
       "    </tr>\n",
       "    <tr>\n",
       "      <th>6</th>\n",
       "      <td>2019-01-07</td>\n",
       "      <td>0</td>\n",
       "      <td>4</td>\n",
       "    </tr>\n",
       "    <tr>\n",
       "      <th>7</th>\n",
       "      <td>2019-01-08</td>\n",
       "      <td>0</td>\n",
       "      <td>4</td>\n",
       "    </tr>\n",
       "  </tbody>\n",
       "</table>\n",
       "</div>"
      ],
      "text/plain": [
       "        Date  Actuals  Predictions\n",
       "0 2019-01-01        2            2\n",
       "1 2019-01-02        7            7\n",
       "2 2019-01-03        8            8\n",
       "3 2019-01-04        4            4\n",
       "4 2019-01-05        1            4\n",
       "5 2019-01-06        0            4\n",
       "6 2019-01-07        0            4\n",
       "7 2019-01-08        0            4"
      ]
     },
     "execution_count": 22,
     "metadata": {},
     "output_type": "execute_result"
    }
   ],
   "source": [
    "df['Predictions'] = df.Actuals.where(df.Date.lt('2019-01-05')).ffill().astype(int)\n",
    "df"
   ]
  }
 ],
 "metadata": {
  "kernelspec": {
   "display_name": "Python 3",
   "language": "python",
   "name": "python3"
  },
  "language_info": {
   "codemirror_mode": {
    "name": "ipython",
    "version": 3
   },
   "file_extension": ".py",
   "mimetype": "text/x-python",
   "name": "python",
   "nbconvert_exporter": "python",
   "pygments_lexer": "ipython3",
   "version": "3.6.5"
  }
 },
 "nbformat": 4,
 "nbformat_minor": 2
}
