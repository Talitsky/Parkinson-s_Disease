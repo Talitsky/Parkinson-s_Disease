{
 "cells": [
  {
   "cell_type": "code",
   "execution_count": 1,
   "metadata": {},
   "outputs": [
    {
     "data": {
      "text/html": [
       "<div>\n",
       "<style scoped>\n",
       "    .dataframe tbody tr th:only-of-type {\n",
       "        vertical-align: middle;\n",
       "    }\n",
       "\n",
       "    .dataframe tbody tr th {\n",
       "        vertical-align: top;\n",
       "    }\n",
       "\n",
       "    .dataframe thead th {\n",
       "        text-align: right;\n",
       "    }\n",
       "</style>\n",
       "<table border=\"1\" class=\"dataframe\">\n",
       "  <thead>\n",
       "    <tr style=\"text-align: right;\">\n",
       "      <th></th>\n",
       "      <th>date</th>\n",
       "      <th>ID</th>\n",
       "      <th>ФИО</th>\n",
       "      <th>пол</th>\n",
       "      <th>возраст</th>\n",
       "      <th>Степень Паркинсона</th>\n",
       "      <th>Травмы/Патологии/Болезни</th>\n",
       "      <th>Баг в эксперименте1</th>\n",
       "      <th>Баг в эксперименте2</th>\n",
       "      <th>index1</th>\n",
       "      <th>index2</th>\n",
       "      <th>Unnamed: 11</th>\n",
       "      <th>postural</th>\n",
       "      <th>kinetic</th>\n",
       "      <th>rest</th>\n",
       "    </tr>\n",
       "  </thead>\n",
       "  <tbody>\n",
       "    <tr>\n",
       "      <th>0</th>\n",
       "      <td>-1</td>\n",
       "      <td>1</td>\n",
       "      <td>Екатерина К</td>\n",
       "      <td>ж</td>\n",
       "      <td>24.0</td>\n",
       "      <td>-1</td>\n",
       "      <td>-1</td>\n",
       "      <td>-1</td>\n",
       "      <td>-1</td>\n",
       "      <td>1,2,3,4,5,6,7,8,9,-1,10,11,12</td>\n",
       "      <td>1,2,3,4,5,6,7,8,9,-1,10,11,12</td>\n",
       "      <td>-1.0</td>\n",
       "      <td>-1.0</td>\n",
       "      <td>-1.0</td>\n",
       "      <td>-1.0</td>\n",
       "    </tr>\n",
       "    <tr>\n",
       "      <th>1</th>\n",
       "      <td>-1</td>\n",
       "      <td>2</td>\n",
       "      <td>Анна Т</td>\n",
       "      <td>ж</td>\n",
       "      <td>23.0</td>\n",
       "      <td>-1</td>\n",
       "      <td>-1</td>\n",
       "      <td>-1</td>\n",
       "      <td>-1</td>\n",
       "      <td>1,2,3,4,5,6,7,8,9,-1,10,11,12</td>\n",
       "      <td>1,2,3,4,5,6,7,8,9,-1,10,11,12</td>\n",
       "      <td>-1.0</td>\n",
       "      <td>-1.0</td>\n",
       "      <td>-1.0</td>\n",
       "      <td>-1.0</td>\n",
       "    </tr>\n",
       "    <tr>\n",
       "      <th>2</th>\n",
       "      <td>-1</td>\n",
       "      <td>3</td>\n",
       "      <td>Александр Т</td>\n",
       "      <td>м</td>\n",
       "      <td>22.0</td>\n",
       "      <td>-1</td>\n",
       "      <td>-1</td>\n",
       "      <td>-1</td>\n",
       "      <td>-1</td>\n",
       "      <td>1,2,3,4,5,6,7,8,9,-1,10,11,12</td>\n",
       "      <td>1,2,3,4,5,6,7,8,9,-1,10,11,12</td>\n",
       "      <td>-1.0</td>\n",
       "      <td>-1.0</td>\n",
       "      <td>-1.0</td>\n",
       "      <td>-1.0</td>\n",
       "    </tr>\n",
       "    <tr>\n",
       "      <th>3</th>\n",
       "      <td>-1</td>\n",
       "      <td>4</td>\n",
       "      <td>Иван Д</td>\n",
       "      <td>м</td>\n",
       "      <td>24.0</td>\n",
       "      <td>-1</td>\n",
       "      <td>-1</td>\n",
       "      <td>-1</td>\n",
       "      <td>-1</td>\n",
       "      <td>1,2,3,4,5,6,7,8,9,-1,10,11,12</td>\n",
       "      <td>1,2,3,4,5,6,7,8,9,-1,10,11,12</td>\n",
       "      <td>-1.0</td>\n",
       "      <td>-1.0</td>\n",
       "      <td>-1.0</td>\n",
       "      <td>-1.0</td>\n",
       "    </tr>\n",
       "    <tr>\n",
       "      <th>4</th>\n",
       "      <td>-1</td>\n",
       "      <td>5</td>\n",
       "      <td>Дмитрий Е</td>\n",
       "      <td>м</td>\n",
       "      <td>24.0</td>\n",
       "      <td>-1</td>\n",
       "      <td>-1</td>\n",
       "      <td>-1</td>\n",
       "      <td>-1</td>\n",
       "      <td>1,2,3,4,5,6,7,8,9,-1,10,11,12</td>\n",
       "      <td>1,2,3,4,5,6,7,8,9,-1,10,11,12</td>\n",
       "      <td>-1.0</td>\n",
       "      <td>-1.0</td>\n",
       "      <td>-1.0</td>\n",
       "      <td>-1.0</td>\n",
       "    </tr>\n",
       "  </tbody>\n",
       "</table>\n",
       "</div>"
      ],
      "text/plain": [
       "  date  ID          ФИО пол  возраст Степень Паркинсона  \\\n",
       "0   -1   1  Екатерина К   ж     24.0                 -1   \n",
       "1   -1   2       Анна Т   ж     23.0                 -1   \n",
       "2   -1   3  Александр Т   м     22.0                 -1   \n",
       "3   -1   4       Иван Д   м     24.0                 -1   \n",
       "4   -1   5    Дмитрий Е   м     24.0                 -1   \n",
       "\n",
       "  Травмы/Патологии/Болезни Баг в эксперименте1 Баг в эксперименте2  \\\n",
       "0                       -1                  -1                  -1   \n",
       "1                       -1                  -1                  -1   \n",
       "2                       -1                  -1                  -1   \n",
       "3                       -1                  -1                  -1   \n",
       "4                       -1                  -1                  -1   \n",
       "\n",
       "                          index1                         index2  Unnamed: 11  \\\n",
       "0  1,2,3,4,5,6,7,8,9,-1,10,11,12  1,2,3,4,5,6,7,8,9,-1,10,11,12         -1.0   \n",
       "1  1,2,3,4,5,6,7,8,9,-1,10,11,12  1,2,3,4,5,6,7,8,9,-1,10,11,12         -1.0   \n",
       "2  1,2,3,4,5,6,7,8,9,-1,10,11,12  1,2,3,4,5,6,7,8,9,-1,10,11,12         -1.0   \n",
       "3  1,2,3,4,5,6,7,8,9,-1,10,11,12  1,2,3,4,5,6,7,8,9,-1,10,11,12         -1.0   \n",
       "4  1,2,3,4,5,6,7,8,9,-1,10,11,12  1,2,3,4,5,6,7,8,9,-1,10,11,12         -1.0   \n",
       "\n",
       "   postural  kinetic  rest  \n",
       "0      -1.0     -1.0  -1.0  \n",
       "1      -1.0     -1.0  -1.0  \n",
       "2      -1.0     -1.0  -1.0  \n",
       "3      -1.0     -1.0  -1.0  \n",
       "4      -1.0     -1.0  -1.0  "
      ]
     },
     "execution_count": 1,
     "metadata": {},
     "output_type": "execute_result"
    }
   ],
   "source": [
    "import os\n",
    "import pandas as pd\n",
    "from matplotlib import pyplot as plt\n",
    "import numpy as np\n",
    "import scipy\n",
    "from IPython import display\n",
    "import seaborn as sns\n",
    "from scipy import signal\n",
    "import parkinson_modules as pm\n",
    "import warnings\n",
    "import pickle\n",
    "from scipy.signal import butter, welch, filtfilt\n",
    "import time\n",
    "warnings.filterwarnings('ignore')\n",
    "%matplotlib inline\n",
    "os.chdir('C:\\Files\\parkinson')\n",
    "info = pd.read_excel('Info.xlsx')\n",
    "info = info.fillna(value = -1)\n",
    "info.head(5)"
   ]
  },
  {
   "cell_type": "code",
   "execution_count": 2,
   "metadata": {},
   "outputs": [],
   "source": [
    "features = pd.read_pickle('C:/Files/parkinson/features_1000points_50overlap_new_2std.pkl')\n",
    "file = pd.read_pickle('C:/Files/parkinson/data_5s.pkl')"
   ]
  },
  {
   "cell_type": "code",
   "execution_count": 3,
   "metadata": {},
   "outputs": [],
   "source": [
    "# with open('C:/Users/alexandr/Desktop/python/Parkinson-s_Disease-master/Fingers-Detection-using-OpenCV-and-Python-master/movement_dictionary.pkl', 'rb') as f:\n",
    "#     movements_dct = pickle.load(f)"
   ]
  },
  {
   "cell_type": "code",
   "execution_count": 4,
   "metadata": {},
   "outputs": [],
   "source": [
    "# os.chdir('C:/Files/parkinson/PatientDataV2/')\n",
    "# path = 'C:/Files/parkinson/PatientDataV2/'\n",
    "# feature = {}\n",
    "# file = pd.DataFrame()\n",
    "# list_files = os.listdir()\n",
    "# count = 0\n",
    "# for name in list_files:\n",
    "#     if '.' in name:\n",
    "#         continue\n",
    "# #         patient = pm.parkinson(path + name)\n",
    "#     index = [int(name[7:])]\n",
    "#     print(name)\n",
    "#     patient_info = info[info['ID'] == index[0]]\n",
    "#     folders = os.listdir(path + name)\n",
    "# #         if True: #(patient_info['Баг в эксперименте' + str(index[1])][index[0] - 1] == -1):\n",
    "#     for fold in folders:\n",
    "#         if '.' in fold:\n",
    "#             continue\n",
    "#         index = list(map(int, fold.split('_')))\n",
    "#         if len(index) == 1:\n",
    "#             index.append(1)\n",
    "#         patient = pm.parkinson(path + name + '/' + fold)\n",
    "#         patient.read()\n",
    "#         for exer_keys in patient.exercises:\n",
    "#             exers = patient.exercises[exer_keys]\n",
    "#             timing = patient.time[exer_keys]\n",
    "#             df = pm.calculate_batch({key : exers[key] for key in pm.columns_acc},\n",
    "#                                     {key : exers[key] for key in pm.columns_hyr},\n",
    "#                                     {key : exers[key] for key in pm.columns_mag},\n",
    "#                                      timing, patient_info, index[0], file, exer_keys, index, win_size = 1000, overlap= 50)\n",
    "#             movement_list_df= []\n",
    "#             if exer_keys in movements_dct[fold]:\n",
    "#                 time = movements_dct[fold][exer_keys]['time']\n",
    "#                 movement = movements_dct[fold][exer_keys]['movements']\n",
    "#             else:\n",
    "#                 time = np.arange(1000)\n",
    "#                 movement = np.zeros(1000)\n",
    "#             for df_index in df.index:\n",
    "#                 timing = df['time'][df_index]\n",
    "#                 indexes = np.argwhere((time > timing[0])*(time < timing[-1]))\n",
    "#                 movement_list_df.append(np.array(movement)[indexes.astype(np.int)][:,0])\n",
    "#             df['movements'] = movement_list_df\n",
    "#             file = file.append(df, ignore_index=True)\n"
   ]
  },
  {
   "cell_type": "code",
   "execution_count": 5,
   "metadata": {},
   "outputs": [
    {
     "data": {
      "text/plain": [
       "(9194, 14)"
      ]
     },
     "execution_count": 5,
     "metadata": {},
     "output_type": "execute_result"
    }
   ],
   "source": [
    "file.shape"
   ]
  },
  {
   "cell_type": "code",
   "execution_count": 6,
   "metadata": {},
   "outputs": [],
   "source": [
    "# file.to_pickle('C:/Files/parkinson/data_5s.pkl')"
   ]
  },
  {
   "cell_type": "code",
   "execution_count": 7,
   "metadata": {
    "scrolled": true
   },
   "outputs": [],
   "source": [
    "# features = pm.feature_extract(file)"
   ]
  },
  {
   "cell_type": "code",
   "execution_count": 8,
   "metadata": {},
   "outputs": [],
   "source": [
    "moves = []\n",
    "for move in file['movements']:\n",
    "    moves.append(move.mean())\n",
    "moves = np.array(moves)"
   ]
  },
  {
   "cell_type": "code",
   "execution_count": 9,
   "metadata": {},
   "outputs": [],
   "source": [
    "features['movement'] = moves"
   ]
  },
  {
   "cell_type": "code",
   "execution_count": 10,
   "metadata": {},
   "outputs": [
    {
     "data": {
      "text/plain": [
       "((9194, 472), (9194, 14))"
      ]
     },
     "execution_count": 10,
     "metadata": {},
     "output_type": "execute_result"
    }
   ],
   "source": [
    "features.shape, file.shape"
   ]
  },
  {
   "cell_type": "code",
   "execution_count": 11,
   "metadata": {},
   "outputs": [
    {
     "data": {
      "text/plain": [
       "9.0     2907\n",
       "10.0     958\n",
       "11.0     714\n",
       "2.0      701\n",
       "8.0      671\n",
       "13.0     562\n",
       "14.0     543\n",
       "15.0     505\n",
       "6.0      375\n",
       "5.0      305\n",
       "12.0     260\n",
       "7.0      234\n",
       "4.0      195\n",
       "1.0      160\n",
       "3.0      104\n",
       "Name: exercise_index, dtype: int64"
      ]
     },
     "execution_count": 11,
     "metadata": {},
     "output_type": "execute_result"
    }
   ],
   "source": [
    "features.exercise_index.value_counts()"
   ]
  },
  {
   "cell_type": "code",
   "execution_count": 12,
   "metadata": {},
   "outputs": [
    {
     "data": {
      "text/plain": [
       "<matplotlib.collections.LineCollection at 0x20b35fbac50>"
      ]
     },
     "execution_count": 12,
     "metadata": {},
     "output_type": "execute_result"
    },
    {
     "data": {
      "image/png": "[encoded data removed]",
      "text/plain": [
       "<Figure size 432x288 with 1 Axes>"
      ]
     },
     "metadata": {
      "needs_background": "light"
     },
     "output_type": "display_data"
    }
   ],
   "source": [
    "plt.hist(features[features.name == 50].movement, bins = 100)\n",
    "plt.vlines(features[features.name == 50].movement.median(), ymin =0, ymax = 25)"
   ]
  },
  {
   "cell_type": "code",
   "execution_count": 13,
   "metadata": {},
   "outputs": [],
   "source": [
    "brady = []\n",
    "for index in features.index:\n",
    "\n",
    "    exer_index = features['exercise_index'][index]\n",
    "    name = features['name'][index]\n",
    "    median = features[features.name == name].movement.median()\n",
    "    movement = features['movement'][index]\n",
    "    if movement<median:\n",
    "        brady.append(-1)\n",
    "    else:\n",
    "        if features['target'][index] == 0:\n",
    "            brady.append(0)\n",
    "        else:\n",
    "            brady.append(1)\n",
    "#     if exer_index in [2,8,13,14,15]:\n",
    "#         brady.append(-1)\n",
    "#         continue\n",
    "\n",
    "        #     print(ampl)\n",
    "\n",
    "#         else:\n",
    "#             brady.append(0)\n",
    "    \n",
    "#     break"
   ]
  },
  {
   "cell_type": "code",
   "execution_count": 14,
   "metadata": {},
   "outputs": [],
   "source": [
    "moves1 = []\n",
    "moves2 = []\n",
    "for index in features.index:\n",
    "    exer_index = features['exercise_index'][index]\n",
    "\n",
    "    if exer_index in [2,8,13,14,15]:\n",
    "        moves1.append(features['movement'][index])\n",
    "    else:\n",
    "        moves2.append(features['movement'][index])"
   ]
  },
  {
   "cell_type": "code",
   "execution_count": 15,
   "metadata": {},
   "outputs": [
    {
     "data": {
      "image/png": "[encoded data removed]",
      "text/plain": [
       "<Figure size 432x288 with 1 Axes>"
      ]
     },
     "metadata": {
      "needs_background": "light"
     },
     "output_type": "display_data"
    }
   ],
   "source": [
    "plt.hist(moves1, density=True, bins = 100, alpha = 0.5, range=(0,2))\n",
    "plt.hist(moves2, density=True, bins = 100, alpha = 0.5, range=(0,2))\n",
    "plt.vlines(0.68, ymin = 0, ymax =3)\n",
    "plt.show()"
   ]
  },
  {
   "cell_type": "code",
   "execution_count": 16,
   "metadata": {},
   "outputs": [],
   "source": [
    "features['brady_indentity'] = brady"
   ]
  },
  {
   "cell_type": "code",
   "execution_count": null,
   "metadata": {},
   "outputs": [],
   "source": []
  },
  {
   "cell_type": "code",
   "execution_count": 17,
   "metadata": {},
   "outputs": [
    {
     "data": {
      "text/plain": [
       "(5820, 473)"
      ]
     },
     "execution_count": 17,
     "metadata": {},
     "output_type": "execute_result"
    }
   ],
   "source": [
    "datka = features\n",
    "datka = datka[datka.target != 4]\n",
    "datka = datka[datka.target != 1]\n",
    "datka.shape"
   ]
  },
  {
   "cell_type": "code",
   "execution_count": 18,
   "metadata": {},
   "outputs": [
    {
     "data": {
      "text/plain": [
       "(3106, 473)"
      ]
     },
     "execution_count": 18,
     "metadata": {},
     "output_type": "execute_result"
    }
   ],
   "source": [
    "datka = datka[datka.brady_indentity != -1]\n",
    "datka.shape"
   ]
  },
  {
   "cell_type": "code",
   "execution_count": 19,
   "metadata": {},
   "outputs": [
    {
     "data": {
      "image/png": "[encoded data removed]",
      "text/plain": [
       "<Figure size 432x288 with 1 Axes>"
      ]
     },
     "metadata": {
      "needs_background": "light"
     },
     "output_type": "display_data"
    }
   ],
   "source": [
    "plt.hist(datka.movement, bins = 100, range = (0,2))\n",
    "plt.show()"
   ]
  },
  {
   "cell_type": "code",
   "execution_count": 20,
   "metadata": {},
   "outputs": [],
   "source": [
    "corr = datka.corr()"
   ]
  },
  {
   "cell_type": "code",
   "execution_count": 21,
   "metadata": {},
   "outputs": [
    {
     "data": {
      "text/plain": [
       "gyr_y, dps_differential_mean                     0.000903\n",
       "gyr_z, dps_trend_more3hz_dominant_frequency      0.001304\n",
       "gyr_z, dps_trend_more3hz_peaks_freq_min          0.001304\n",
       "mag_y, mga_trend_less3hz_peaks_amplitude_std     0.001686\n",
       "acc_y, mg_differential_mean                      0.001714\n",
       "acc_z, mg_trend_more3hz_peaks_freq_max           0.002027\n",
       "acc_x, mg_trend_spectrum_energy_std              0.002617\n",
       "mag_x, mga_noise_mean                            0.003200\n",
       "gyr_x, dps_noise_mean                            0.003743\n",
       "mag_y, mga_trend_more3hz_peaks_freq_mean         0.003841\n",
       "gyr_y, dps_skew                                  0.005096\n",
       "acc_y, mg_trend_more3hz_peaks_amplitude_mean     0.005162\n",
       "gyr_x, dps_trend_more3hz_peaks_amplitude_mean    0.005823\n",
       "mag_x, mga_trend_more3hz_dominant_frequency      0.005865\n",
       "mag_x, mga_trend_more3hz_peaks_freq_min          0.005865\n",
       "mag_z, mga_noise_more3hz_peaks_amplitude_min     0.005952\n",
       "acc_y, mg_trend_more3hz_peaks_freq_max           0.006597\n",
       "gyr_y, dps_trend_more3hz_peaks_amplitude_max     0.006872\n",
       "gyr_y, dps_noise_mean                            0.006998\n",
       "acc_x, mg_trend_more3hz_peaks_amplitude_min      0.007566\n",
       "acc_x, mg_trend_more3hz_peaks_freq_mean          0.008151\n",
       "acc_x, mg_trend_less3hz_dominant_amplitude       0.008329\n",
       "mag_z, mga_noise_more3hz_dominant_amplitude      0.008463\n",
       "gyr_z, dps_noise_mean                            0.008864\n",
       "mag_y, mga_trend_less3hz_peaks_amplitude_max     0.008939\n",
       "mag_z, mga_trend_more3hz_peaks_freq_max          0.009349\n",
       "acc_z, mg_noise_mean                             0.009414\n",
       "gyr_y, dps_noise_more3hz_peaks_freq_mean         0.009579\n",
       "mag_x, mga_differential_mean                     0.010069\n",
       "gyr_z, dps_trend_less3hz_dominant_amplitude      0.010083\n",
       "                                                   ...   \n",
       "gyr_y, dps_noise_more3hz_peaks_amplitude_max     0.242213\n",
       "gyr_x, dps_noise_more3hz_peaks_amplitude_max     0.243393\n",
       "gyr_z, dps_noise_spectrum_energy_std             0.244503\n",
       "acc_z, mg_noise_spectrum_energy_std              0.246838\n",
       "gyr_x, dps_noise_more3hz_peaks_amplitude_mean    0.249692\n",
       "gyr_y, dps_noise_spectrum_energy_std             0.250406\n",
       "gyr_y, dps_noise_less3hz_peaks_freq_mean         0.252389\n",
       "gyr_y, dps_noise_less3hz_peaks_freq_max          0.258668\n",
       "gyr_x, dps_noise_spectrum_energy_std             0.260674\n",
       "gyr_y, dps_noise_less3hz_peaks_amplitude_mean    0.266590\n",
       "gyr_x, dps_noise_less3hz_peaks_freq_mean         0.266673\n",
       "gyr_x, dps_noise_less3hz_peaks_freq_max          0.273454\n",
       "gyr_x, dps_noise_less3hz_peaks_amplitude_mean    0.276348\n",
       "gyr_z, dps_noise_less3hz_peaks_freq_mean         0.277769\n",
       "acc_y, mg_noise_spectrum_energy_std              0.279228\n",
       "gyr_z, dps_noise_less3hz_peaks_freq_max          0.283167\n",
       "acc_y, mg_noise_more3hz_peaks_amplitude_std      0.284812\n",
       "gyr_x, dps_noise_less3hz_peaks_amplitude_max     0.284986\n",
       "acc_y, mg_noise_more3hz_peaks_amplitude_mean     0.284992\n",
       "gyr_y, dps_noise_less3hz_peaks_amplitude_max     0.286234\n",
       "gyr_z, dps_noise_less3hz_peaks_amplitude_max     0.290322\n",
       "gyr_z, dps_noise_less3hz_peaks_amplitude_mean    0.291585\n",
       "acc_x, mg_noise_spectrum_energy_std              0.298870\n",
       "acc_y, mg_noise_more3hz_peaks_amplitude_max      0.299692\n",
       "acc_x, mg_noise_more3hz_peaks_amplitude_mean     0.299758\n",
       "acc_x, mg_noise_more3hz_peaks_amplitude_std      0.303694\n",
       "acc_x, mg_noise_more3hz_peaks_amplitude_max      0.316567\n",
       "name                                             0.735562\n",
       "target                                           0.971975\n",
       "brady_indentity                                  1.000000\n",
       "Name: brady_indentity, Length: 473, dtype: float64"
      ]
     },
     "execution_count": 21,
     "metadata": {},
     "output_type": "execute_result"
    }
   ],
   "source": [
    "corr.brady_indentity.abs().sort_values()"
   ]
  },
  {
   "cell_type": "code",
   "execution_count": 22,
   "metadata": {},
   "outputs": [],
   "source": [
    "from sklearn.feature_selection import chi2\n",
    "from tqdm import tqdm\n",
    "\n",
    "def shuffler(df):\n",
    "    # return the pandas dataframe\n",
    "    return df.reindex(np.random.permutation(df.index))\n",
    "# import scipy.stats\n",
    "\n",
    "\n",
    "def mean_confidence_interval(data, confidence=0.95):\n",
    "    a = 1.0 * np.array(data)\n",
    "    n = len(a)\n",
    "    m, se = np.mean(a), scipy.stats.sem(a)\n",
    "    h = se * scipy.stats.t.ppf((1 + confidence) / 2., n-1)\n",
    "    return m, m-h, m+h\n",
    "\n",
    "def CI_calculated(parkinson_df):\n",
    "    df = parkinson_df.drop(index = ['exer_idx'])\n",
    "    l_min = []\n",
    "    l_max = []\n",
    "    for col in df:\n",
    "        x = df[col].values\n",
    "        x = x[~np.isnan(x)]\n",
    "        med, minim, maxim = mean_confidence_interval(x)\n",
    "        l_min.append(minim)\n",
    "        l_max.append(maxim)\n",
    "    return l_min, l_max"
   ]
  },
  {
   "cell_type": "code",
   "execution_count": 23,
   "metadata": {},
   "outputs": [],
   "source": [
    "from sklearn.ensemble import RandomForestClassifier\n",
    "from sklearn.svm import SVC\n",
    "from sklearn.naive_bayes import GaussianNB\n",
    "from sklearn.linear_model import LogisticRegression\n",
    "from sklearn.tree import DecisionTreeClassifier\n",
    "from sklearn.neighbors import KNeighborsClassifier\n",
    "from sklearn.metrics import accuracy_score, balanced_accuracy_score\n",
    "from sklearn.model_selection import GridSearchCV\n",
    "from fylearn.nfpc import FuzzyPatternClassifier\n",
    "from fylearn.garules import MultimodalEvolutionaryClassifier\n",
    "from fylearn.fpt import FuzzyPatternTreeTopDownClassifier\n",
    "from sklearn.discriminant_analysis import QuadraticDiscriminantAnalysis\n",
    "from sklearn.gaussian_process import GaussianProcessClassifier\n",
    "from sklearn.gaussian_process.kernels import RBF\n",
    "from sklearn.svm import LinearSVC\n",
    "import time \n",
    "FPC = FuzzyPatternClassifier()\n",
    "MEC = MultimodalEvolutionaryClassifier(n_iterations= 20)\n",
    "FPC = FuzzyPatternTreeTopDownClassifier()\n",
    "parameters = {'n_estimators': np.arange(200, 501, 100), 'max_depth' : np.arange(10, 61, 10)}\n",
    "RFС0 = RandomForestClassifier(n_estimators = 30, max_depth = 5, class_weight = 'balanced')\n",
    "RFС1 = RandomForestClassifier(n_estimators = 130, max_depth = 35, class_weight = 'balanced')\n",
    "RFС2 = RandomForestClassifier(n_estimators = 70, max_depth = 5, class_weight = 'balanced')\n",
    "RFС3 = RandomForestClassifier(n_estimators = 130, max_depth = 5, class_weight = 'balanced')\n",
    "RFС4 = RandomForestClassifier(n_estimators = 30, max_depth = 15, class_weight = 'balanced')\n",
    "RFС5 = RandomForestClassifier(n_estimators = 50, max_depth = 15, class_weight = 'balanced')\n",
    "RFС6 = RandomForestClassifier(n_estimators = 70, max_depth = 15, class_weight = 'balanced')\n",
    "RFС7 = RandomForestClassifier(n_estimators = 90, max_depth = 15, class_weight = 'balanced')\n",
    "RFС8 = RandomForestClassifier(n_estimators = 30, max_depth = 25, class_weight = 'balanced')\n",
    "RFС9 = RandomForestClassifier(n_estimators = 50, max_depth = 25, class_weight = 'balanced')\n",
    "RFС10= RandomForestClassifier(n_estimators = 70, max_depth = 25, class_weight = 'balanced')\n",
    "RFС11= RandomForestClassifier(n_estimators = 90, max_depth = 25, class_weight = 'balanced')\n",
    "RFС12= RandomForestClassifier(n_estimators = 110, max_depth = 35, class_weight = 'balanced')\n",
    "\n",
    "# LinSVM = LinearSVC( probability= True, class_weight = 'balanced')\n",
    "RbfSVM = SVC(kernel = 'rbf', probability= True, class_weight = 'balanced')\n",
    "PolySVM = SVC(kernel = 'poly', class_weight = 'balanced')\n",
    "KNN = KNeighborsClassifier()\n",
    "NB = GaussianNB()\n",
    "LR = LogisticRegression(class_weight= 'balanced')\n",
    "DT = DecisionTreeClassifier(max_depth = 100, class_weight='balanced')\n",
    "QDA = QuadraticDiscriminantAnalysis()\n",
    "GP = GaussianProcessClassifier(1.0 * RBF(1.0))\n",
    "from sklearn.ensemble import AdaBoostClassifier\n",
    "from sklearn.linear_model import SGDClassifier\n",
    "classifiers = {\n",
    "#      'RF 30 5' : RFС0,\n",
    "#      'RF 130 35' : RFС1,\n",
    "#      'RF 70 5' : RFС2,\n",
    "#      'RF 130 5' : RFС3,\n",
    "#      'RF 30 15' : RFС4,\n",
    "#      'RF 50 15' : RFС5,\n",
    "#      'RF 90 15' : RFС7,\n",
    "#      'RF 30 25' : RFС8,\n",
    "#      'RF 50 25' : RFС9,\n",
    "#      'RF 70 25' : RFС10,\n",
    "#      'RF 90 25' : RFС11,\n",
    "     'RF 110 35' : RFС12\n",
    "    \n",
    "#      'Linear SVM' : LinSVM,\n",
    "#      'rbf SVM' : RbfSVM,\n",
    "#      'poly SVM': PolySVM,\n",
    "#      'KNN' : KNN, \n",
    "#      'NB' : NB,\n",
    "#      'LR' : LR,\n",
    "#     'Adaboost' : AdaBoostClassifier(n_estimators = 50),\n",
    "#     'SGD' : SGDClassifier(n_jobs= 4, class_weight= 'balanced' )\n",
    "#      'DT' : DT,\n",
    "#      'GaussProcess' : GP,\n",
    "#      'QDA' : QDA\n",
    "#      'Fuzzy Pattern' : FPC,\n",
    "#      'MultiModalEvolutionary' : MEC,\n",
    "#      'FuzzyPatternTreeTopDown' : FPC\n",
    "}"
   ]
  },
  {
   "cell_type": "code",
   "execution_count": 1,
   "metadata": {},
   "outputs": [],
   "source": [
    "def small_predict(train_df, test_df, classifiers, accuracy, i=0, initial_feat_x = None):\n",
    "    \n",
    "    X_train = train_df.drop(columns = ['name', 'exercise_index', 'target', 'brady_indentity'])\n",
    "    y_train = train_df.brady_indentity.values\n",
    "    X_test = test_df.drop(columns = ['name', 'exercise_index', 'target', 'brady_indentity'])\n",
    "    y_test = test_df.brady_indentity.values\n",
    "    \n",
    "    if initial_feat_x:\n",
    "        X_train = X_train[initial_feat_x]\n",
    "        X_test  = X_test[initial_feat_x]\n",
    "    feature_names = X_train.columns.copy()\n",
    "    a, b = chi2(X_train.abs(),y_train)\n",
    "    ind = np.argsort(a)\n",
    "    selected_names = list(feature_names[ind])\n",
    "#     print(len(selected_names))\n",
    "#     for n_feat in range(50, len(selected_names), 100):\n",
    "    n_feat = len(selected_names)\n",
    "    X_train = pm.sclr.fit_transform(train_df[selected_names[:n_feat] ])\n",
    "    X_test  = pm.sclr.transform(    test_df[ selected_names[:n_feat] ])\n",
    "    for key in classifiers:\n",
    "#         print(key)\n",
    "        model = classifiers[key]\n",
    "        model.fit(X_train, y_train)\n",
    "        y_pred = model.predict(X_test)\n",
    "        if key + ', n_feat= ' + str(n_feat) not in accuracy:\n",
    "            accuracy[key + ', n_feat= ' + str(n_feat)] = []\n",
    "        accuracy[key + ', n_feat= ' + str(n_feat)].append(pm.accuracy_score(y_pred, y_test))\n",
    "#         print(n_feat, len(selected_names))\n",
    "\n",
    "    if 'person' not in accuracy:\n",
    "        accuracy['person'] = []\n",
    "    accuracy['person'].append(i)\n",
    "    return accuracy"
   ]
  },
  {
   "cell_type": "code",
   "execution_count": 30,
   "metadata": {
    "scrolled": false
   },
   "outputs": [
    {
     "name": "stdout",
     "output_type": "stream",
     "text": [
      "1.0 , len test 59 , time: 1572259604.9543374\n",
      "2.0 , len test 62 , time: 17.13020396232605\n",
      "3.0 , len test 58 , time: 17.884565353393555\n",
      "4.0 , len test 60 , time: 17.534634113311768\n",
      "5.0 , len test 60 , time: 16.464781999588013\n",
      "6.0 , len test 70 , time: 16.872873544692993\n",
      "7.0 , len test 59 , time: 16.13190269470215\n",
      "8.0 , len test 59 , time: 17.851476192474365\n",
      "9.0 , len test 65 , time: 16.703442335128784\n",
      "10.0 , len test 64 , time: 16.14393448829651\n",
      "11.0 , len test 53 , time: 16.987178325653076\n",
      "12.0 , len test 55 , time: 16.49972367286682\n",
      "13.0 , len test 46 , time: 17.65703296661377\n",
      "14.0 , len test 97 , time: 16.718462705612183\n",
      "15.0 , len test 116 , time: 15.87622356414795\n",
      "16.0 , len test 120 , time: 15.934349775314331\n",
      "17.0 , len test 51 , time: 15.967468738555908\n",
      "18.0 , len test 51 , time: 15.996533155441284\n",
      "19.0 , len test 48 , time: 15.97946834564209\n",
      "21.0 , len test 55 , time: 16.04166293144226\n",
      "23.0 , len test 98 , time: 16.41666269302368\n",
      "24.0 , len test 78 , time: 16.433704137802124\n",
      "26.0 , len test 60 , time: 16.911514282226562\n",
      "27.0 , len test 44 , time: 16.316283464431763\n",
      "30.0 , len test 45 , time: 16.561802864074707\n",
      "33.0 , len test 95 , time: 16.427846908569336\n",
      "35.0 , len test 59 , time: 15.881388187408447\n",
      "36.0 , len test 50 , time: 16.06381916999817\n",
      "39.0 , len test 73 , time: 16.231550216674805\n",
      "43.0 , len test 124 , time: 16.29127526283264\n",
      "44.0 , len test 57 , time: 15.779274225234985\n",
      "45.0 , len test 54 , time: 16.173683643341064\n",
      "46.0 , len test 44 , time: 16.240979194641113\n",
      "47.0 , len test 57 , time: 16.23090410232544\n",
      "48.0 , len test 51 , time: 16.309733152389526\n",
      "49.0 , len test 77 , time: 16.255532026290894\n",
      "52.0 , len test 53 , time: 16.100199699401855\n",
      "53.0 , len test 156 , time: 16.25246238708496\n",
      "54.0 , len test 115 , time: 15.795006036758423\n",
      "56.0 , len test 124 , time: 15.926603317260742\n",
      "58.0 , len test 64 , time: 15.777636051177979\n",
      "59.0 , len test 74 , time: 16.215431213378906\n",
      "60.0 , len test 56 , time: 16.07676076889038\n",
      "63.0 , len test 20 , time: 16.268402814865112\n",
      "65.0 , len test 12 , time: 16.464842319488525\n",
      "66.0 , len test 12 , time: 16.56243133544922\n",
      "67.0 , len test 13 , time: 16.491940021514893\n",
      "68.0 , len test 16 , time: 16.586796283721924\n",
      "69.0 , len test 17 , time: 16.410888671875\n"
     ]
    }
   ],
   "source": [
    "accuracy = {}\n",
    "accuracy_acc = {}\n",
    "accuracy_gyr = {}\n",
    "accuracy_mag = {}\n",
    "accuracy_without_acc = {}\n",
    "accuracy_without_gyr = {}\n",
    "accuracy_without_mag = {}\n",
    "# results_per_person_pon = {}\n",
    "df = datka.drop(columns=['movement'])\n",
    "peoples = df.name.unique()\n",
    "st = 0\n",
    "for i in peoples:\n",
    "#     if i in accuracy['person']:\n",
    "#         continue\n",
    "    train_df = shuffler(df[df['name'] != i])\n",
    "    test_df  = df[df['name'] == i]\n",
    "    \n",
    "    print(i, ', len test', len(test_df), ', time:', time.time() - st)\n",
    "    \n",
    "    st = time.time()\n",
    "### Total Accuracy\n",
    "#     X_train, y_train, X_test, y_test = use_this_features(train_df, test_df)\n",
    "    accuracy = small_predict(train_df, test_df, classifiers,\n",
    "                             accuracy, i)\n",
    "    accuracy_acc = small_predict(train_df, test_df, classifiers, \n",
    "                                 accuracy_acc, i, initial_feat_x = acc_feat)\n",
    "    accuracy_gyr = small_predict(train_df, test_df, classifiers, \n",
    "                                 accuracy_gyr, i, initial_feat_x = gyr_feat)\n",
    "    accuracy_mag = small_predict(train_df, test_df, classifiers,\n",
    "                                 accuracy_mag, i, initial_feat_x = mag_feat)\n",
    "    accuracy_without_acc = small_predict(train_df, test_df, classifiers,\n",
    "                                         accuracy_without_acc, i, initial_feat_x = gyr_feat + mag_feat)\n",
    "    accuracy_without_gyr = small_predict(train_df, test_df, classifiers,\n",
    "                                         accuracy_without_gyr, i, initial_feat_x = acc_feat + mag_feat)\n",
    "    accuracy_without_mag = small_predict(train_df, test_df, classifiers, \n",
    "                                         accuracy_without_mag, i, initial_feat_x = gyr_feat + acc_feat)"
   ]
  },
  {
   "cell_type": "code",
   "execution_count": 31,
   "metadata": {
    "scrolled": true
   },
   "outputs": [
    {
     "data": {
      "text/plain": [
       "RF 110 35, n_feat= 468    0.796602\n",
       "dtype: float64"
      ]
     },
     "execution_count": 31,
     "metadata": {},
     "output_type": "execute_result"
    }
   ],
   "source": [
    "pd.DataFrame(accuracy).drop(columns = ['person']).mean()"
   ]
  },
  {
   "cell_type": "code",
   "execution_count": 32,
   "metadata": {},
   "outputs": [
    {
     "data": {
      "text/html": [
       "<div>\n",
       "<style scoped>\n",
       "    .dataframe tbody tr th:only-of-type {\n",
       "        vertical-align: middle;\n",
       "    }\n",
       "\n",
       "    .dataframe tbody tr th {\n",
       "        vertical-align: top;\n",
       "    }\n",
       "\n",
       "    .dataframe thead th {\n",
       "        text-align: right;\n",
       "    }\n",
       "</style>\n",
       "<table border=\"1\" class=\"dataframe\">\n",
       "  <thead>\n",
       "    <tr style=\"text-align: right;\">\n",
       "      <th></th>\n",
       "      <th>RF 110 35, n_feat= 468</th>\n",
       "      <th>person</th>\n",
       "    </tr>\n",
       "  </thead>\n",
       "  <tbody>\n",
       "    <tr>\n",
       "      <th>0</th>\n",
       "      <td>0.966102</td>\n",
       "      <td>1.0</td>\n",
       "    </tr>\n",
       "    <tr>\n",
       "      <th>1</th>\n",
       "      <td>0.887097</td>\n",
       "      <td>2.0</td>\n",
       "    </tr>\n",
       "    <tr>\n",
       "      <th>2</th>\n",
       "      <td>0.982759</td>\n",
       "      <td>3.0</td>\n",
       "    </tr>\n",
       "    <tr>\n",
       "      <th>3</th>\n",
       "      <td>0.916667</td>\n",
       "      <td>4.0</td>\n",
       "    </tr>\n",
       "    <tr>\n",
       "      <th>4</th>\n",
       "      <td>0.916667</td>\n",
       "      <td>5.0</td>\n",
       "    </tr>\n",
       "    <tr>\n",
       "      <th>5</th>\n",
       "      <td>0.857143</td>\n",
       "      <td>6.0</td>\n",
       "    </tr>\n",
       "    <tr>\n",
       "      <th>6</th>\n",
       "      <td>0.898305</td>\n",
       "      <td>7.0</td>\n",
       "    </tr>\n",
       "    <tr>\n",
       "      <th>7</th>\n",
       "      <td>0.796610</td>\n",
       "      <td>8.0</td>\n",
       "    </tr>\n",
       "    <tr>\n",
       "      <th>8</th>\n",
       "      <td>0.738462</td>\n",
       "      <td>9.0</td>\n",
       "    </tr>\n",
       "    <tr>\n",
       "      <th>9</th>\n",
       "      <td>0.781250</td>\n",
       "      <td>10.0</td>\n",
       "    </tr>\n",
       "    <tr>\n",
       "      <th>10</th>\n",
       "      <td>0.754717</td>\n",
       "      <td>11.0</td>\n",
       "    </tr>\n",
       "    <tr>\n",
       "      <th>11</th>\n",
       "      <td>0.745455</td>\n",
       "      <td>12.0</td>\n",
       "    </tr>\n",
       "    <tr>\n",
       "      <th>12</th>\n",
       "      <td>0.956522</td>\n",
       "      <td>13.0</td>\n",
       "    </tr>\n",
       "    <tr>\n",
       "      <th>13</th>\n",
       "      <td>0.773196</td>\n",
       "      <td>14.0</td>\n",
       "    </tr>\n",
       "    <tr>\n",
       "      <th>14</th>\n",
       "      <td>0.956897</td>\n",
       "      <td>15.0</td>\n",
       "    </tr>\n",
       "    <tr>\n",
       "      <th>15</th>\n",
       "      <td>0.825000</td>\n",
       "      <td>16.0</td>\n",
       "    </tr>\n",
       "    <tr>\n",
       "      <th>16</th>\n",
       "      <td>0.941176</td>\n",
       "      <td>17.0</td>\n",
       "    </tr>\n",
       "    <tr>\n",
       "      <th>17</th>\n",
       "      <td>0.960784</td>\n",
       "      <td>18.0</td>\n",
       "    </tr>\n",
       "    <tr>\n",
       "      <th>18</th>\n",
       "      <td>0.937500</td>\n",
       "      <td>19.0</td>\n",
       "    </tr>\n",
       "    <tr>\n",
       "      <th>19</th>\n",
       "      <td>1.000000</td>\n",
       "      <td>21.0</td>\n",
       "    </tr>\n",
       "    <tr>\n",
       "      <th>20</th>\n",
       "      <td>0.704082</td>\n",
       "      <td>23.0</td>\n",
       "    </tr>\n",
       "    <tr>\n",
       "      <th>21</th>\n",
       "      <td>0.705128</td>\n",
       "      <td>24.0</td>\n",
       "    </tr>\n",
       "    <tr>\n",
       "      <th>22</th>\n",
       "      <td>0.933333</td>\n",
       "      <td>26.0</td>\n",
       "    </tr>\n",
       "    <tr>\n",
       "      <th>23</th>\n",
       "      <td>0.727273</td>\n",
       "      <td>27.0</td>\n",
       "    </tr>\n",
       "    <tr>\n",
       "      <th>24</th>\n",
       "      <td>0.622222</td>\n",
       "      <td>30.0</td>\n",
       "    </tr>\n",
       "    <tr>\n",
       "      <th>25</th>\n",
       "      <td>0.673684</td>\n",
       "      <td>33.0</td>\n",
       "    </tr>\n",
       "    <tr>\n",
       "      <th>26</th>\n",
       "      <td>0.406780</td>\n",
       "      <td>35.0</td>\n",
       "    </tr>\n",
       "    <tr>\n",
       "      <th>27</th>\n",
       "      <td>0.660000</td>\n",
       "      <td>36.0</td>\n",
       "    </tr>\n",
       "    <tr>\n",
       "      <th>28</th>\n",
       "      <td>0.589041</td>\n",
       "      <td>39.0</td>\n",
       "    </tr>\n",
       "    <tr>\n",
       "      <th>29</th>\n",
       "      <td>0.903226</td>\n",
       "      <td>43.0</td>\n",
       "    </tr>\n",
       "    <tr>\n",
       "      <th>30</th>\n",
       "      <td>0.912281</td>\n",
       "      <td>44.0</td>\n",
       "    </tr>\n",
       "    <tr>\n",
       "      <th>31</th>\n",
       "      <td>0.851852</td>\n",
       "      <td>45.0</td>\n",
       "    </tr>\n",
       "    <tr>\n",
       "      <th>32</th>\n",
       "      <td>0.818182</td>\n",
       "      <td>46.0</td>\n",
       "    </tr>\n",
       "    <tr>\n",
       "      <th>33</th>\n",
       "      <td>0.561404</td>\n",
       "      <td>47.0</td>\n",
       "    </tr>\n",
       "    <tr>\n",
       "      <th>34</th>\n",
       "      <td>0.921569</td>\n",
       "      <td>48.0</td>\n",
       "    </tr>\n",
       "    <tr>\n",
       "      <th>35</th>\n",
       "      <td>0.662338</td>\n",
       "      <td>49.0</td>\n",
       "    </tr>\n",
       "    <tr>\n",
       "      <th>36</th>\n",
       "      <td>0.735849</td>\n",
       "      <td>52.0</td>\n",
       "    </tr>\n",
       "    <tr>\n",
       "      <th>37</th>\n",
       "      <td>0.955128</td>\n",
       "      <td>53.0</td>\n",
       "    </tr>\n",
       "    <tr>\n",
       "      <th>38</th>\n",
       "      <td>0.921739</td>\n",
       "      <td>54.0</td>\n",
       "    </tr>\n",
       "    <tr>\n",
       "      <th>39</th>\n",
       "      <td>0.846774</td>\n",
       "      <td>56.0</td>\n",
       "    </tr>\n",
       "    <tr>\n",
       "      <th>40</th>\n",
       "      <td>0.687500</td>\n",
       "      <td>58.0</td>\n",
       "    </tr>\n",
       "    <tr>\n",
       "      <th>41</th>\n",
       "      <td>0.932432</td>\n",
       "      <td>59.0</td>\n",
       "    </tr>\n",
       "    <tr>\n",
       "      <th>42</th>\n",
       "      <td>0.928571</td>\n",
       "      <td>60.0</td>\n",
       "    </tr>\n",
       "    <tr>\n",
       "      <th>43</th>\n",
       "      <td>1.000000</td>\n",
       "      <td>63.0</td>\n",
       "    </tr>\n",
       "    <tr>\n",
       "      <th>44</th>\n",
       "      <td>1.000000</td>\n",
       "      <td>65.0</td>\n",
       "    </tr>\n",
       "    <tr>\n",
       "      <th>45</th>\n",
       "      <td>0.250000</td>\n",
       "      <td>66.0</td>\n",
       "    </tr>\n",
       "    <tr>\n",
       "      <th>46</th>\n",
       "      <td>0.615385</td>\n",
       "      <td>67.0</td>\n",
       "    </tr>\n",
       "    <tr>\n",
       "      <th>47</th>\n",
       "      <td>0.562500</td>\n",
       "      <td>68.0</td>\n",
       "    </tr>\n",
       "    <tr>\n",
       "      <th>48</th>\n",
       "      <td>0.352941</td>\n",
       "      <td>69.0</td>\n",
       "    </tr>\n",
       "  </tbody>\n",
       "</table>\n",
       "</div>"
      ],
      "text/plain": [
       "    RF 110 35, n_feat= 468  person\n",
       "0                 0.966102     1.0\n",
       "1                 0.887097     2.0\n",
       "2                 0.982759     3.0\n",
       "3                 0.916667     4.0\n",
       "4                 0.916667     5.0\n",
       "5                 0.857143     6.0\n",
       "6                 0.898305     7.0\n",
       "7                 0.796610     8.0\n",
       "8                 0.738462     9.0\n",
       "9                 0.781250    10.0\n",
       "10                0.754717    11.0\n",
       "11                0.745455    12.0\n",
       "12                0.956522    13.0\n",
       "13                0.773196    14.0\n",
       "14                0.956897    15.0\n",
       "15                0.825000    16.0\n",
       "16                0.941176    17.0\n",
       "17                0.960784    18.0\n",
       "18                0.937500    19.0\n",
       "19                1.000000    21.0\n",
       "20                0.704082    23.0\n",
       "21                0.705128    24.0\n",
       "22                0.933333    26.0\n",
       "23                0.727273    27.0\n",
       "24                0.622222    30.0\n",
       "25                0.673684    33.0\n",
       "26                0.406780    35.0\n",
       "27                0.660000    36.0\n",
       "28                0.589041    39.0\n",
       "29                0.903226    43.0\n",
       "30                0.912281    44.0\n",
       "31                0.851852    45.0\n",
       "32                0.818182    46.0\n",
       "33                0.561404    47.0\n",
       "34                0.921569    48.0\n",
       "35                0.662338    49.0\n",
       "36                0.735849    52.0\n",
       "37                0.955128    53.0\n",
       "38                0.921739    54.0\n",
       "39                0.846774    56.0\n",
       "40                0.687500    58.0\n",
       "41                0.932432    59.0\n",
       "42                0.928571    60.0\n",
       "43                1.000000    63.0\n",
       "44                1.000000    65.0\n",
       "45                0.250000    66.0\n",
       "46                0.615385    67.0\n",
       "47                0.562500    68.0\n",
       "48                0.352941    69.0"
      ]
     },
     "execution_count": 32,
     "metadata": {},
     "output_type": "execute_result"
    }
   ],
   "source": [
    "pd.DataFrame(accuracy)"
   ]
  },
  {
   "cell_type": "code",
   "execution_count": 33,
   "metadata": {},
   "outputs": [],
   "source": [
    "acc_per_sensor = {}\n",
    "acc_per_sensor['all'] = pd.DataFrame(accuracy)\n",
    "\n",
    "acc_per_sensor['acc'] = pd.DataFrame(accuracy_acc)\n",
    "acc_per_sensor['gyr'] = pd.DataFrame(accuracy_gyr)\n",
    "acc_per_sensor['mag'] = pd.DataFrame(accuracy_mag)\n",
    "\n",
    "acc_per_sensor['without_acc'] = pd.DataFrame(accuracy_without_acc)\n",
    "acc_per_sensor['without_gyr'] = pd.DataFrame(accuracy_without_gyr)\n",
    "acc_per_sensor['without_mag'] = pd.DataFrame(accuracy_without_mag)"
   ]
  },
  {
   "cell_type": "code",
   "execution_count": 34,
   "metadata": {},
   "outputs": [
    {
     "data": {
      "text/plain": [
       "RF 110 35, n_feat= 468     0.796602\n",
       "person                    32.571429\n",
       "dtype: float64"
      ]
     },
     "execution_count": 34,
     "metadata": {},
     "output_type": "execute_result"
    }
   ],
   "source": [
    "acc_per_sensor['all'].mean()"
   ]
  },
  {
   "cell_type": "code",
   "execution_count": 35,
   "metadata": {},
   "outputs": [
    {
     "data": {
      "text/plain": [
       "(RF 110 35, n_feat= 156     0.742657\n",
       " person                    32.571429\n",
       " dtype: float64, RF 110 35, n_feat= 156     0.746150\n",
       " person                    32.571429\n",
       " dtype: float64, RF 110 35, n_feat= 156     0.740000\n",
       " person                    32.571429\n",
       " dtype: float64)"
      ]
     },
     "execution_count": 35,
     "metadata": {},
     "output_type": "execute_result"
    }
   ],
   "source": [
    "acc_per_sensor['acc'].mean(),acc_per_sensor['gyr'].mean(),acc_per_sensor['mag'].mean()"
   ]
  },
  {
   "cell_type": "code",
   "execution_count": 36,
   "metadata": {},
   "outputs": [
    {
     "data": {
      "text/plain": [
       "(RF 110 35, n_feat= 312     0.778477\n",
       " person                    32.571429\n",
       " dtype: float64, RF 110 35, n_feat= 312     0.789186\n",
       " person                    32.571429\n",
       " dtype: float64, RF 110 35, n_feat= 312     0.757614\n",
       " person                    32.571429\n",
       " dtype: float64)"
      ]
     },
     "execution_count": 36,
     "metadata": {},
     "output_type": "execute_result"
    }
   ],
   "source": [
    "acc_per_sensor['without_acc'].mean(), acc_per_sensor['without_gyr'].mean(), acc_per_sensor['without_mag'].mean()"
   ]
  },
  {
   "cell_type": "code",
   "execution_count": null,
   "metadata": {},
   "outputs": [],
   "source": []
  },
  {
   "cell_type": "code",
   "execution_count": null,
   "metadata": {},
   "outputs": [],
   "source": []
  },
  {
   "cell_type": "code",
   "execution_count": null,
   "metadata": {},
   "outputs": [],
   "source": [
    "with open('C:/Files/parkinson/brady_acc_per_sensor.pkl', 'wb') as config_dictionary_file:\n",
    "    pickle.dump(acc_per_sensor, config_dictionary_file)"
   ]
  },
  {
   "cell_type": "code",
   "execution_count": null,
   "metadata": {},
   "outputs": [],
   "source": [
    "with open('C:/Files/parkinson/brady_acc_per_sensor.pkl', 'rb') as config_dictionary_file:\n",
    "    acc_per_sensor = pickle.load(config_dictionary_file)\n",
    " "
   ]
  },
  {
   "cell_type": "code",
   "execution_count": null,
   "metadata": {},
   "outputs": [],
   "source": [
    "best_model_name = {key : acc_per_sensor[key].mean().sort_values().keys()[-2] for key in acc_per_sensor}\n",
    "best_model_accuracy = {key : acc_per_sensor[key].mean().sort_values().values[-2] for key in acc_per_sensor}\n",
    "best_model_accuracy"
   ]
  },
  {
   "cell_type": "code",
   "execution_count": null,
   "metadata": {},
   "outputs": [],
   "source": []
  }
 ],
 "metadata": {
  "kernelspec": {
   "display_name": "Python 3",
   "language": "python",
   "name": "python3"
  },
  "language_info": {
   "codemirror_mode": {
    "name": "ipython",
    "version": 3
   },
   "file_extension": ".py",
   "mimetype": "text/x-python",
   "name": "python",
   "nbconvert_exporter": "python",
   "pygments_lexer": "ipython3",
   "version": "3.7.3"
  }
 },
 "nbformat": 4,
 "nbformat_minor": 2
}
